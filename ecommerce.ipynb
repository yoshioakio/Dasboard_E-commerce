{
  "cells": [
    {
      "cell_type": "markdown",
      "metadata": {
        "id": "7rFNa3xN-b1h"
      },
      "source": [
        "# Studi Kasus Analisis Data E-Commerce\n",
        "- **Nama:** Muhamad Fajri Permana Haryanto\n",
        "- **Email:** muhamadfajri2804@gmail.com\n",
        "- **ID Dicoding:** mijimo\n",
        "\n"
      ]
    },
    {
      "cell_type": "markdown",
      "metadata": {
        "id": "kbHqi8hc-pae"
      },
      "source": [
        "## Business Requirements Document\n"
      ]
    },
    {
      "cell_type": "markdown",
      "metadata": {
        "id": "p-Hbn8Y3-sFQ"
      },
      "source": [
        "### Latar Belakang\n"
      ]
    },
    {
      "cell_type": "markdown",
      "metadata": {
        "id": "lPfNIycXLCkg"
      },
      "source": [
        "Dataset E-Commerce berisi informasi mengenai pesanan, produk, metode pembayaran, dan status pengiriman. Proyek ini bertujuan untuk menganalisis tren pembelian pelanggan dengan fokus pada lima hal utama: kategori produk yang paling laris dan paling sedikit laris, kategori produk dengan pendapatan tertinggi, metode pembayaran yang sering digunakan, serta perkembangan total penjualan dari waktu ke waktu. Hasil analisis diharapkan membantu strategi pemasaran dan perbaikan layanan."
      ]
    },
    {
      "cell_type": "markdown",
      "metadata": {
        "id": "V149b3CT-wFg"
      },
      "source": [
        "### Tujuan"
      ]
    },
    {
      "cell_type": "markdown",
      "metadata": {
        "id": "S6sotm5OLMke"
      },
      "source": [
        "- Menemukan kategori produk yang paling populer atau tidak populer berdasarkan jumlah penjualan.\n",
        "- Menganalisis kategori produk yang memberikan pendapatan terbesar untuk perusahaan.\n",
        "- Mengkaji metode pembayaran yang paling sering digunakan oleh pelanggan.\n",
        "- Melihat perkembangan total penjualan produk dari waktu ke waktu."
      ]
    },
    {
      "cell_type": "markdown",
      "metadata": {
        "id": "YYeZ3b3f-yr5"
      },
      "source": [
        "### Scope\n",
        "\n",
        "\n"
      ]
    },
    {
      "cell_type": "markdown",
      "metadata": {
        "id": "O2vhWM_eLTWP"
      },
      "source": [
        "- Proyek ini akan berfokus pada tiga analisis utama menggunakan dataset E-Commerce\n",
        "\n",
        "\n",
        "1. Kategori Produk dengan Penjualan Tertinggi dan Terendah\n",
        "     - Menganalisis kategori produk yang paling banyak terjual dan sedikit terjual menggunakan diagram batang.\n",
        "\n",
        "2. Kategori Produk dengan Pendapatan Terbesar\n",
        "     - Mengidentifikasi kategori produk dengan kontribusi pendapatan terbesar menggunakan diagram batang.\n",
        "\n",
        "3. Distribusi Metode Pembayaran\n",
        "     - Menganalisis metode pembayaran yang paling sering digunakan dengan diagram lingkaran.\n",
        "\n",
        "4. Perkembangan Total Penjualan\n",
        "     - Menganalisis tren penjualan produk dari waktu ke waktu menggunakan diagram garis."
      ]
    },
    {
      "cell_type": "markdown",
      "metadata": {
        "id": "Fg87tXPG-2QA"
      },
      "source": [
        "### Kebutuhan Data\n"
      ]
    },
    {
      "cell_type": "markdown",
      "metadata": {
        "id": "BAs6YVSgLaVt"
      },
      "source": [
        "Tabel dan Kolom Data E-commerce yang digunakan untuk analisis ini:\n",
        "\n",
        "1. Tabel products_dataset.csv\n",
        "    - Menganalisis kategori produk dengan penjualan tertinggi dan terendah.\n",
        "    - Mengidentifikasi kategori produk yang memberikan kontribusi pendapatan terbesar.\n",
        "\n",
        "2. Tabel orders_dataset.csv\n",
        "    - Digunakan untuk menganalisis rata-rata waktu pengiriman berdasarkan kategori produk dan tren penjualan dari waktu ke waktu berdasarkan tanggal pembelian.\n",
        "\n",
        "3. Tabel order_payments_dataset.csv\n",
        "    - Digunakan untuk menganalisis distribusi metode pembayaran yang sering digunakan.\n",
        "\n",
        "4. Tabel order_items_dataset.csv\n",
        "    - Mengidentifikasi kategori produk dengan penjualan tertinggi.\n",
        "    - Menghitung kontribusi pendapatan terbesar berdasarkan harga"
      ]
    },
    {
      "cell_type": "markdown",
      "metadata": {
        "id": "kxl20KOYIM3d"
      },
      "source": [
        "### Pertanyaan Bisnis"
      ]
    },
    {
      "cell_type": "markdown",
      "metadata": {
        "id": "JXzsV_45JVCy"
      },
      "source": [
        "1. Kategori produk apa yang paling populer dan tidak populer di antara pelanggan berdasarkan jumlah produk terjual? (bar chart)\n",
        "\n",
        "2. Kategori produk mana yang memberikan kontribusi pendapatan terbesar bagi perusahaan? (bar chart)\n",
        "\n",
        "3. Metode pembayaran mana yang paling sering digunakan oleh pelanggan berdasarkan total transaksi (pie chart)?\n",
        "\n",
        "5. Bagaimana total penjualan produk dari waktu ke waktu (line chart)"
      ]
    },
    {
      "cell_type": "markdown",
      "metadata": {
        "id": "SINj4H-3Ha2e"
      },
      "source": [
        "## Menyiapkan Library Yang Digunakan"
      ]
    },
    {
      "cell_type": "code",
      "execution_count": 1,
      "metadata": {
        "id": "Jg1ua0U1HfEA"
      },
      "outputs": [],
      "source": [
        "import pandas as pd\n",
        "import matplotlib.pyplot as plt"
      ]
    },
    {
      "cell_type": "markdown",
      "metadata": {
        "id": "fBtBfeyr-6wR"
      },
      "source": [
        "## Data Wrangling"
      ]
    },
    {
      "cell_type": "markdown",
      "metadata": {
        "id": "QaD1rmK5--z_"
      },
      "source": [
        "### Gathering Data"
      ]
    },
    {
      "cell_type": "markdown",
      "metadata": {
        "id": "H7YzOBYTMixC"
      },
      "source": [
        "#### Data Produk (products_df)"
      ]
    },
    {
      "cell_type": "code",
      "execution_count": 2,
      "metadata": {
        "colab": {
          "base_uri": "https://localhost:8080/",
          "height": 0
        },
        "id": "kI-QJTQa_yt7",
        "outputId": "a5921b78-42d1-4d9e-ace4-b2e7b699b066"
      },
      "outputs": [
        {
          "data": {
            "text/html": [
              "<div>\n",
              "<style scoped>\n",
              "    .dataframe tbody tr th:only-of-type {\n",
              "        vertical-align: middle;\n",
              "    }\n",
              "\n",
              "    .dataframe tbody tr th {\n",
              "        vertical-align: top;\n",
              "    }\n",
              "\n",
              "    .dataframe thead th {\n",
              "        text-align: right;\n",
              "    }\n",
              "</style>\n",
              "<table border=\"1\" class=\"dataframe\">\n",
              "  <thead>\n",
              "    <tr style=\"text-align: right;\">\n",
              "      <th></th>\n",
              "      <th>product_id</th>\n",
              "      <th>product_category_name</th>\n",
              "      <th>product_name_lenght</th>\n",
              "      <th>product_description_lenght</th>\n",
              "      <th>product_photos_qty</th>\n",
              "      <th>product_weight_g</th>\n",
              "      <th>product_length_cm</th>\n",
              "      <th>product_height_cm</th>\n",
              "      <th>product_width_cm</th>\n",
              "    </tr>\n",
              "  </thead>\n",
              "  <tbody>\n",
              "    <tr>\n",
              "      <th>0</th>\n",
              "      <td>1e9e8ef04dbcff4541ed26657ea517e5</td>\n",
              "      <td>perfumaria</td>\n",
              "      <td>40.0</td>\n",
              "      <td>287.0</td>\n",
              "      <td>1.0</td>\n",
              "      <td>225.0</td>\n",
              "      <td>16.0</td>\n",
              "      <td>10.0</td>\n",
              "      <td>14.0</td>\n",
              "    </tr>\n",
              "    <tr>\n",
              "      <th>1</th>\n",
              "      <td>3aa071139cb16b67ca9e5dea641aaa2f</td>\n",
              "      <td>artes</td>\n",
              "      <td>44.0</td>\n",
              "      <td>276.0</td>\n",
              "      <td>1.0</td>\n",
              "      <td>1000.0</td>\n",
              "      <td>30.0</td>\n",
              "      <td>18.0</td>\n",
              "      <td>20.0</td>\n",
              "    </tr>\n",
              "    <tr>\n",
              "      <th>2</th>\n",
              "      <td>96bd76ec8810374ed1b65e291975717f</td>\n",
              "      <td>esporte_lazer</td>\n",
              "      <td>46.0</td>\n",
              "      <td>250.0</td>\n",
              "      <td>1.0</td>\n",
              "      <td>154.0</td>\n",
              "      <td>18.0</td>\n",
              "      <td>9.0</td>\n",
              "      <td>15.0</td>\n",
              "    </tr>\n",
              "    <tr>\n",
              "      <th>3</th>\n",
              "      <td>cef67bcfe19066a932b7673e239eb23d</td>\n",
              "      <td>bebes</td>\n",
              "      <td>27.0</td>\n",
              "      <td>261.0</td>\n",
              "      <td>1.0</td>\n",
              "      <td>371.0</td>\n",
              "      <td>26.0</td>\n",
              "      <td>4.0</td>\n",
              "      <td>26.0</td>\n",
              "    </tr>\n",
              "    <tr>\n",
              "      <th>4</th>\n",
              "      <td>9dc1a7de274444849c219cff195d0b71</td>\n",
              "      <td>utilidades_domesticas</td>\n",
              "      <td>37.0</td>\n",
              "      <td>402.0</td>\n",
              "      <td>4.0</td>\n",
              "      <td>625.0</td>\n",
              "      <td>20.0</td>\n",
              "      <td>17.0</td>\n",
              "      <td>13.0</td>\n",
              "    </tr>\n",
              "  </tbody>\n",
              "</table>\n",
              "</div>"
            ],
            "text/plain": [
              "                         product_id  product_category_name  \\\n",
              "0  1e9e8ef04dbcff4541ed26657ea517e5             perfumaria   \n",
              "1  3aa071139cb16b67ca9e5dea641aaa2f                  artes   \n",
              "2  96bd76ec8810374ed1b65e291975717f          esporte_lazer   \n",
              "3  cef67bcfe19066a932b7673e239eb23d                  bebes   \n",
              "4  9dc1a7de274444849c219cff195d0b71  utilidades_domesticas   \n",
              "\n",
              "   product_name_lenght  product_description_lenght  product_photos_qty  \\\n",
              "0                 40.0                       287.0                 1.0   \n",
              "1                 44.0                       276.0                 1.0   \n",
              "2                 46.0                       250.0                 1.0   \n",
              "3                 27.0                       261.0                 1.0   \n",
              "4                 37.0                       402.0                 4.0   \n",
              "\n",
              "   product_weight_g  product_length_cm  product_height_cm  product_width_cm  \n",
              "0             225.0               16.0               10.0              14.0  \n",
              "1            1000.0               30.0               18.0              20.0  \n",
              "2             154.0               18.0                9.0              15.0  \n",
              "3             371.0               26.0                4.0              26.0  \n",
              "4             625.0               20.0               17.0              13.0  "
            ]
          },
          "execution_count": 2,
          "metadata": {},
          "output_type": "execute_result"
        }
      ],
      "source": [
        "products_df = pd.read_csv(\"data_set/products_dataset.csv\")\n",
        "products_df.head()"
      ]
    },
    {
      "cell_type": "markdown",
      "metadata": {
        "id": "QLBW6znvM2ex"
      },
      "source": [
        "#### Data Orderan (orders_df)"
      ]
    },
    {
      "cell_type": "code",
      "execution_count": 3,
      "metadata": {
        "colab": {
          "base_uri": "https://localhost:8080/",
          "height": 206
        },
        "id": "I7ngc6iqBqNa",
        "outputId": "158b52cc-a5a0-45a8-ba16-40c0fedea068"
      },
      "outputs": [
        {
          "data": {
            "text/html": [
              "<div>\n",
              "<style scoped>\n",
              "    .dataframe tbody tr th:only-of-type {\n",
              "        vertical-align: middle;\n",
              "    }\n",
              "\n",
              "    .dataframe tbody tr th {\n",
              "        vertical-align: top;\n",
              "    }\n",
              "\n",
              "    .dataframe thead th {\n",
              "        text-align: right;\n",
              "    }\n",
              "</style>\n",
              "<table border=\"1\" class=\"dataframe\">\n",
              "  <thead>\n",
              "    <tr style=\"text-align: right;\">\n",
              "      <th></th>\n",
              "      <th>order_id</th>\n",
              "      <th>customer_id</th>\n",
              "      <th>order_status</th>\n",
              "      <th>order_purchase_timestamp</th>\n",
              "      <th>order_approved_at</th>\n",
              "      <th>order_delivered_carrier_date</th>\n",
              "      <th>order_delivered_customer_date</th>\n",
              "      <th>order_estimated_delivery_date</th>\n",
              "    </tr>\n",
              "  </thead>\n",
              "  <tbody>\n",
              "    <tr>\n",
              "      <th>0</th>\n",
              "      <td>e481f51cbdc54678b7cc49136f2d6af7</td>\n",
              "      <td>9ef432eb6251297304e76186b10a928d</td>\n",
              "      <td>delivered</td>\n",
              "      <td>2017-10-02 10:56:33</td>\n",
              "      <td>2017-10-02 11:07:15</td>\n",
              "      <td>2017-10-04 19:55:00</td>\n",
              "      <td>2017-10-10 21:25:13</td>\n",
              "      <td>2017-10-18 00:00:00</td>\n",
              "    </tr>\n",
              "    <tr>\n",
              "      <th>1</th>\n",
              "      <td>53cdb2fc8bc7dce0b6741e2150273451</td>\n",
              "      <td>b0830fb4747a6c6d20dea0b8c802d7ef</td>\n",
              "      <td>delivered</td>\n",
              "      <td>2018-07-24 20:41:37</td>\n",
              "      <td>2018-07-26 03:24:27</td>\n",
              "      <td>2018-07-26 14:31:00</td>\n",
              "      <td>2018-08-07 15:27:45</td>\n",
              "      <td>2018-08-13 00:00:00</td>\n",
              "    </tr>\n",
              "    <tr>\n",
              "      <th>2</th>\n",
              "      <td>47770eb9100c2d0c44946d9cf07ec65d</td>\n",
              "      <td>41ce2a54c0b03bf3443c3d931a367089</td>\n",
              "      <td>delivered</td>\n",
              "      <td>2018-08-08 08:38:49</td>\n",
              "      <td>2018-08-08 08:55:23</td>\n",
              "      <td>2018-08-08 13:50:00</td>\n",
              "      <td>2018-08-17 18:06:29</td>\n",
              "      <td>2018-09-04 00:00:00</td>\n",
              "    </tr>\n",
              "    <tr>\n",
              "      <th>3</th>\n",
              "      <td>949d5b44dbf5de918fe9c16f97b45f8a</td>\n",
              "      <td>f88197465ea7920adcdbec7375364d82</td>\n",
              "      <td>delivered</td>\n",
              "      <td>2017-11-18 19:28:06</td>\n",
              "      <td>2017-11-18 19:45:59</td>\n",
              "      <td>2017-11-22 13:39:59</td>\n",
              "      <td>2017-12-02 00:28:42</td>\n",
              "      <td>2017-12-15 00:00:00</td>\n",
              "    </tr>\n",
              "    <tr>\n",
              "      <th>4</th>\n",
              "      <td>ad21c59c0840e6cb83a9ceb5573f8159</td>\n",
              "      <td>8ab97904e6daea8866dbdbc4fb7aad2c</td>\n",
              "      <td>delivered</td>\n",
              "      <td>2018-02-13 21:18:39</td>\n",
              "      <td>2018-02-13 22:20:29</td>\n",
              "      <td>2018-02-14 19:46:34</td>\n",
              "      <td>2018-02-16 18:17:02</td>\n",
              "      <td>2018-02-26 00:00:00</td>\n",
              "    </tr>\n",
              "  </tbody>\n",
              "</table>\n",
              "</div>"
            ],
            "text/plain": [
              "                           order_id                       customer_id  \\\n",
              "0  e481f51cbdc54678b7cc49136f2d6af7  9ef432eb6251297304e76186b10a928d   \n",
              "1  53cdb2fc8bc7dce0b6741e2150273451  b0830fb4747a6c6d20dea0b8c802d7ef   \n",
              "2  47770eb9100c2d0c44946d9cf07ec65d  41ce2a54c0b03bf3443c3d931a367089   \n",
              "3  949d5b44dbf5de918fe9c16f97b45f8a  f88197465ea7920adcdbec7375364d82   \n",
              "4  ad21c59c0840e6cb83a9ceb5573f8159  8ab97904e6daea8866dbdbc4fb7aad2c   \n",
              "\n",
              "  order_status order_purchase_timestamp    order_approved_at  \\\n",
              "0    delivered      2017-10-02 10:56:33  2017-10-02 11:07:15   \n",
              "1    delivered      2018-07-24 20:41:37  2018-07-26 03:24:27   \n",
              "2    delivered      2018-08-08 08:38:49  2018-08-08 08:55:23   \n",
              "3    delivered      2017-11-18 19:28:06  2017-11-18 19:45:59   \n",
              "4    delivered      2018-02-13 21:18:39  2018-02-13 22:20:29   \n",
              "\n",
              "  order_delivered_carrier_date order_delivered_customer_date  \\\n",
              "0          2017-10-04 19:55:00           2017-10-10 21:25:13   \n",
              "1          2018-07-26 14:31:00           2018-08-07 15:27:45   \n",
              "2          2018-08-08 13:50:00           2018-08-17 18:06:29   \n",
              "3          2017-11-22 13:39:59           2017-12-02 00:28:42   \n",
              "4          2018-02-14 19:46:34           2018-02-16 18:17:02   \n",
              "\n",
              "  order_estimated_delivery_date  \n",
              "0           2017-10-18 00:00:00  \n",
              "1           2018-08-13 00:00:00  \n",
              "2           2018-09-04 00:00:00  \n",
              "3           2017-12-15 00:00:00  \n",
              "4           2018-02-26 00:00:00  "
            ]
          },
          "execution_count": 3,
          "metadata": {},
          "output_type": "execute_result"
        }
      ],
      "source": [
        "orders_df = pd.read_csv(\"data_set/orders_dataset.csv\")\n",
        "orders_df.head()"
      ]
    },
    {
      "cell_type": "markdown",
      "metadata": {
        "id": "jfJslrd9M7xw"
      },
      "source": [
        "#### Data Metode Pembayaran (payments_df)"
      ]
    },
    {
      "cell_type": "code",
      "execution_count": 4,
      "metadata": {
        "colab": {
          "base_uri": "https://localhost:8080/",
          "height": 0
        },
        "id": "QSNceU7hHMkf",
        "outputId": "d3c87514-b390-4993-f2e9-e6af3e01cfec"
      },
      "outputs": [
        {
          "data": {
            "text/html": [
              "<div>\n",
              "<style scoped>\n",
              "    .dataframe tbody tr th:only-of-type {\n",
              "        vertical-align: middle;\n",
              "    }\n",
              "\n",
              "    .dataframe tbody tr th {\n",
              "        vertical-align: top;\n",
              "    }\n",
              "\n",
              "    .dataframe thead th {\n",
              "        text-align: right;\n",
              "    }\n",
              "</style>\n",
              "<table border=\"1\" class=\"dataframe\">\n",
              "  <thead>\n",
              "    <tr style=\"text-align: right;\">\n",
              "      <th></th>\n",
              "      <th>order_id</th>\n",
              "      <th>payment_sequential</th>\n",
              "      <th>payment_type</th>\n",
              "      <th>payment_installments</th>\n",
              "      <th>payment_value</th>\n",
              "    </tr>\n",
              "  </thead>\n",
              "  <tbody>\n",
              "    <tr>\n",
              "      <th>0</th>\n",
              "      <td>b81ef226f3fe1789b1e8b2acac839d17</td>\n",
              "      <td>1</td>\n",
              "      <td>credit_card</td>\n",
              "      <td>8</td>\n",
              "      <td>99.33</td>\n",
              "    </tr>\n",
              "    <tr>\n",
              "      <th>1</th>\n",
              "      <td>a9810da82917af2d9aefd1278f1dcfa0</td>\n",
              "      <td>1</td>\n",
              "      <td>credit_card</td>\n",
              "      <td>1</td>\n",
              "      <td>24.39</td>\n",
              "    </tr>\n",
              "    <tr>\n",
              "      <th>2</th>\n",
              "      <td>25e8ea4e93396b6fa0d3dd708e76c1bd</td>\n",
              "      <td>1</td>\n",
              "      <td>credit_card</td>\n",
              "      <td>1</td>\n",
              "      <td>65.71</td>\n",
              "    </tr>\n",
              "    <tr>\n",
              "      <th>3</th>\n",
              "      <td>ba78997921bbcdc1373bb41e913ab953</td>\n",
              "      <td>1</td>\n",
              "      <td>credit_card</td>\n",
              "      <td>8</td>\n",
              "      <td>107.78</td>\n",
              "    </tr>\n",
              "    <tr>\n",
              "      <th>4</th>\n",
              "      <td>42fdf880ba16b47b59251dd489d4441a</td>\n",
              "      <td>1</td>\n",
              "      <td>credit_card</td>\n",
              "      <td>2</td>\n",
              "      <td>128.45</td>\n",
              "    </tr>\n",
              "  </tbody>\n",
              "</table>\n",
              "</div>"
            ],
            "text/plain": [
              "                           order_id  payment_sequential payment_type  \\\n",
              "0  b81ef226f3fe1789b1e8b2acac839d17                   1  credit_card   \n",
              "1  a9810da82917af2d9aefd1278f1dcfa0                   1  credit_card   \n",
              "2  25e8ea4e93396b6fa0d3dd708e76c1bd                   1  credit_card   \n",
              "3  ba78997921bbcdc1373bb41e913ab953                   1  credit_card   \n",
              "4  42fdf880ba16b47b59251dd489d4441a                   1  credit_card   \n",
              "\n",
              "   payment_installments  payment_value  \n",
              "0                     8          99.33  \n",
              "1                     1          24.39  \n",
              "2                     1          65.71  \n",
              "3                     8         107.78  \n",
              "4                     2         128.45  "
            ]
          },
          "execution_count": 4,
          "metadata": {},
          "output_type": "execute_result"
        }
      ],
      "source": [
        "payments_df = pd.read_csv(\"data_set/order_payments_dataset.csv\")\n",
        "payments_df.head()"
      ]
    },
    {
      "cell_type": "markdown",
      "metadata": {
        "id": "3LhTiMbWNDAN"
      },
      "source": [
        "#### Data Order Item (item_df)"
      ]
    },
    {
      "cell_type": "code",
      "execution_count": 5,
      "metadata": {
        "colab": {
          "base_uri": "https://localhost:8080/",
          "height": 0
        },
        "id": "zfuwSiSKmlni",
        "outputId": "679fda51-8fec-4881-8ef1-d994920a143f"
      },
      "outputs": [
        {
          "data": {
            "text/html": [
              "<div>\n",
              "<style scoped>\n",
              "    .dataframe tbody tr th:only-of-type {\n",
              "        vertical-align: middle;\n",
              "    }\n",
              "\n",
              "    .dataframe tbody tr th {\n",
              "        vertical-align: top;\n",
              "    }\n",
              "\n",
              "    .dataframe thead th {\n",
              "        text-align: right;\n",
              "    }\n",
              "</style>\n",
              "<table border=\"1\" class=\"dataframe\">\n",
              "  <thead>\n",
              "    <tr style=\"text-align: right;\">\n",
              "      <th></th>\n",
              "      <th>order_id</th>\n",
              "      <th>order_item_id</th>\n",
              "      <th>product_id</th>\n",
              "      <th>seller_id</th>\n",
              "      <th>shipping_limit_date</th>\n",
              "      <th>price</th>\n",
              "      <th>freight_value</th>\n",
              "    </tr>\n",
              "  </thead>\n",
              "  <tbody>\n",
              "    <tr>\n",
              "      <th>0</th>\n",
              "      <td>00010242fe8c5a6d1ba2dd792cb16214</td>\n",
              "      <td>1</td>\n",
              "      <td>4244733e06e7ecb4970a6e2683c13e61</td>\n",
              "      <td>48436dade18ac8b2bce089ec2a041202</td>\n",
              "      <td>2017-09-19 09:45:35</td>\n",
              "      <td>58.90</td>\n",
              "      <td>13.29</td>\n",
              "    </tr>\n",
              "    <tr>\n",
              "      <th>1</th>\n",
              "      <td>00018f77f2f0320c557190d7a144bdd3</td>\n",
              "      <td>1</td>\n",
              "      <td>e5f2d52b802189ee658865ca93d83a8f</td>\n",
              "      <td>dd7ddc04e1b6c2c614352b383efe2d36</td>\n",
              "      <td>2017-05-03 11:05:13</td>\n",
              "      <td>239.90</td>\n",
              "      <td>19.93</td>\n",
              "    </tr>\n",
              "    <tr>\n",
              "      <th>2</th>\n",
              "      <td>000229ec398224ef6ca0657da4fc703e</td>\n",
              "      <td>1</td>\n",
              "      <td>c777355d18b72b67abbeef9df44fd0fd</td>\n",
              "      <td>5b51032eddd242adc84c38acab88f23d</td>\n",
              "      <td>2018-01-18 14:48:30</td>\n",
              "      <td>199.00</td>\n",
              "      <td>17.87</td>\n",
              "    </tr>\n",
              "    <tr>\n",
              "      <th>3</th>\n",
              "      <td>00024acbcdf0a6daa1e931b038114c75</td>\n",
              "      <td>1</td>\n",
              "      <td>7634da152a4610f1595efa32f14722fc</td>\n",
              "      <td>9d7a1d34a5052409006425275ba1c2b4</td>\n",
              "      <td>2018-08-15 10:10:18</td>\n",
              "      <td>12.99</td>\n",
              "      <td>12.79</td>\n",
              "    </tr>\n",
              "    <tr>\n",
              "      <th>4</th>\n",
              "      <td>00042b26cf59d7ce69dfabb4e55b4fd9</td>\n",
              "      <td>1</td>\n",
              "      <td>ac6c3623068f30de03045865e4e10089</td>\n",
              "      <td>df560393f3a51e74553ab94004ba5c87</td>\n",
              "      <td>2017-02-13 13:57:51</td>\n",
              "      <td>199.90</td>\n",
              "      <td>18.14</td>\n",
              "    </tr>\n",
              "  </tbody>\n",
              "</table>\n",
              "</div>"
            ],
            "text/plain": [
              "                           order_id  order_item_id  \\\n",
              "0  00010242fe8c5a6d1ba2dd792cb16214              1   \n",
              "1  00018f77f2f0320c557190d7a144bdd3              1   \n",
              "2  000229ec398224ef6ca0657da4fc703e              1   \n",
              "3  00024acbcdf0a6daa1e931b038114c75              1   \n",
              "4  00042b26cf59d7ce69dfabb4e55b4fd9              1   \n",
              "\n",
              "                         product_id                         seller_id  \\\n",
              "0  4244733e06e7ecb4970a6e2683c13e61  48436dade18ac8b2bce089ec2a041202   \n",
              "1  e5f2d52b802189ee658865ca93d83a8f  dd7ddc04e1b6c2c614352b383efe2d36   \n",
              "2  c777355d18b72b67abbeef9df44fd0fd  5b51032eddd242adc84c38acab88f23d   \n",
              "3  7634da152a4610f1595efa32f14722fc  9d7a1d34a5052409006425275ba1c2b4   \n",
              "4  ac6c3623068f30de03045865e4e10089  df560393f3a51e74553ab94004ba5c87   \n",
              "\n",
              "   shipping_limit_date   price  freight_value  \n",
              "0  2017-09-19 09:45:35   58.90          13.29  \n",
              "1  2017-05-03 11:05:13  239.90          19.93  \n",
              "2  2018-01-18 14:48:30  199.00          17.87  \n",
              "3  2018-08-15 10:10:18   12.99          12.79  \n",
              "4  2017-02-13 13:57:51  199.90          18.14  "
            ]
          },
          "execution_count": 5,
          "metadata": {},
          "output_type": "execute_result"
        }
      ],
      "source": [
        "items_df = pd.read_csv(\"data_set/order_items_dataset.csv\")\n",
        "items_df.head()"
      ]
    },
    {
      "cell_type": "markdown",
      "metadata": {
        "id": "0hjnQHf0NESE"
      },
      "source": [
        "### Assesing Data"
      ]
    },
    {
      "cell_type": "markdown",
      "metadata": {
        "id": "wxGKug1UNLO2"
      },
      "source": [
        "#### Menilai Data products_df"
      ]
    },
    {
      "cell_type": "code",
      "execution_count": 6,
      "metadata": {
        "colab": {
          "base_uri": "https://localhost:8080/"
        },
        "id": "YUNW0uAZNzOX",
        "outputId": "99ac03f6-ebfc-40b5-d452-16134bcee7fd"
      },
      "outputs": [
        {
          "name": "stdout",
          "output_type": "stream",
          "text": [
            "<class 'pandas.core.frame.DataFrame'>\n",
            "RangeIndex: 32951 entries, 0 to 32950\n",
            "Data columns (total 9 columns):\n",
            " #   Column                      Non-Null Count  Dtype  \n",
            "---  ------                      --------------  -----  \n",
            " 0   product_id                  32951 non-null  object \n",
            " 1   product_category_name       32341 non-null  object \n",
            " 2   product_name_lenght         32341 non-null  float64\n",
            " 3   product_description_lenght  32341 non-null  float64\n",
            " 4   product_photos_qty          32341 non-null  float64\n",
            " 5   product_weight_g            32949 non-null  float64\n",
            " 6   product_length_cm           32949 non-null  float64\n",
            " 7   product_height_cm           32949 non-null  float64\n",
            " 8   product_width_cm            32949 non-null  float64\n",
            "dtypes: float64(7), object(2)\n",
            "memory usage: 2.3+ MB\n"
          ]
        }
      ],
      "source": [
        "products_df.info()"
      ]
    },
    {
      "cell_type": "code",
      "execution_count": 7,
      "metadata": {
        "colab": {
          "base_uri": "https://localhost:8080/",
          "height": 0
        },
        "id": "9VoqxBJKRgHN",
        "outputId": "9d94083c-5dfe-4c22-ea13-dfb7ccc1eae6"
      },
      "outputs": [
        {
          "data": {
            "text/plain": [
              "product_id                      0\n",
              "product_category_name         610\n",
              "product_name_lenght           610\n",
              "product_description_lenght    610\n",
              "product_photos_qty            610\n",
              "product_weight_g                2\n",
              "product_length_cm               2\n",
              "product_height_cm               2\n",
              "product_width_cm                2\n",
              "dtype: int64"
            ]
          },
          "execution_count": 7,
          "metadata": {},
          "output_type": "execute_result"
        }
      ],
      "source": [
        "products_df.isna().sum()"
      ]
    },
    {
      "cell_type": "code",
      "execution_count": 8,
      "metadata": {
        "colab": {
          "base_uri": "https://localhost:8080/"
        },
        "id": "3Zx5LrpXR7zy",
        "outputId": "8760ebd7-ab21-4a02-d185-b4124ee1a597"
      },
      "outputs": [
        {
          "name": "stdout",
          "output_type": "stream",
          "text": [
            "Jumlah duplikasi:  0\n"
          ]
        }
      ],
      "source": [
        "print(\"Jumlah duplikasi: \", products_df.duplicated().sum())"
      ]
    },
    {
      "cell_type": "code",
      "execution_count": 9,
      "metadata": {
        "colab": {
          "base_uri": "https://localhost:8080/",
          "height": 0
        },
        "id": "Pr7u86JZSFb1",
        "outputId": "595ea110-8ecb-434b-9c08-16db3cac4134"
      },
      "outputs": [
        {
          "data": {
            "text/html": [
              "<div>\n",
              "<style scoped>\n",
              "    .dataframe tbody tr th:only-of-type {\n",
              "        vertical-align: middle;\n",
              "    }\n",
              "\n",
              "    .dataframe tbody tr th {\n",
              "        vertical-align: top;\n",
              "    }\n",
              "\n",
              "    .dataframe thead th {\n",
              "        text-align: right;\n",
              "    }\n",
              "</style>\n",
              "<table border=\"1\" class=\"dataframe\">\n",
              "  <thead>\n",
              "    <tr style=\"text-align: right;\">\n",
              "      <th></th>\n",
              "      <th>product_name_lenght</th>\n",
              "      <th>product_description_lenght</th>\n",
              "      <th>product_photos_qty</th>\n",
              "      <th>product_weight_g</th>\n",
              "      <th>product_length_cm</th>\n",
              "      <th>product_height_cm</th>\n",
              "      <th>product_width_cm</th>\n",
              "    </tr>\n",
              "  </thead>\n",
              "  <tbody>\n",
              "    <tr>\n",
              "      <th>count</th>\n",
              "      <td>32341.000000</td>\n",
              "      <td>32341.000000</td>\n",
              "      <td>32341.000000</td>\n",
              "      <td>32949.000000</td>\n",
              "      <td>32949.000000</td>\n",
              "      <td>32949.000000</td>\n",
              "      <td>32949.000000</td>\n",
              "    </tr>\n",
              "    <tr>\n",
              "      <th>mean</th>\n",
              "      <td>48.476949</td>\n",
              "      <td>771.495285</td>\n",
              "      <td>2.188986</td>\n",
              "      <td>2276.472488</td>\n",
              "      <td>30.815078</td>\n",
              "      <td>16.937661</td>\n",
              "      <td>23.196728</td>\n",
              "    </tr>\n",
              "    <tr>\n",
              "      <th>std</th>\n",
              "      <td>10.245741</td>\n",
              "      <td>635.115225</td>\n",
              "      <td>1.736766</td>\n",
              "      <td>4282.038731</td>\n",
              "      <td>16.914458</td>\n",
              "      <td>13.637554</td>\n",
              "      <td>12.079047</td>\n",
              "    </tr>\n",
              "    <tr>\n",
              "      <th>min</th>\n",
              "      <td>5.000000</td>\n",
              "      <td>4.000000</td>\n",
              "      <td>1.000000</td>\n",
              "      <td>0.000000</td>\n",
              "      <td>7.000000</td>\n",
              "      <td>2.000000</td>\n",
              "      <td>6.000000</td>\n",
              "    </tr>\n",
              "    <tr>\n",
              "      <th>25%</th>\n",
              "      <td>42.000000</td>\n",
              "      <td>339.000000</td>\n",
              "      <td>1.000000</td>\n",
              "      <td>300.000000</td>\n",
              "      <td>18.000000</td>\n",
              "      <td>8.000000</td>\n",
              "      <td>15.000000</td>\n",
              "    </tr>\n",
              "    <tr>\n",
              "      <th>50%</th>\n",
              "      <td>51.000000</td>\n",
              "      <td>595.000000</td>\n",
              "      <td>1.000000</td>\n",
              "      <td>700.000000</td>\n",
              "      <td>25.000000</td>\n",
              "      <td>13.000000</td>\n",
              "      <td>20.000000</td>\n",
              "    </tr>\n",
              "    <tr>\n",
              "      <th>75%</th>\n",
              "      <td>57.000000</td>\n",
              "      <td>972.000000</td>\n",
              "      <td>3.000000</td>\n",
              "      <td>1900.000000</td>\n",
              "      <td>38.000000</td>\n",
              "      <td>21.000000</td>\n",
              "      <td>30.000000</td>\n",
              "    </tr>\n",
              "    <tr>\n",
              "      <th>max</th>\n",
              "      <td>76.000000</td>\n",
              "      <td>3992.000000</td>\n",
              "      <td>20.000000</td>\n",
              "      <td>40425.000000</td>\n",
              "      <td>105.000000</td>\n",
              "      <td>105.000000</td>\n",
              "      <td>118.000000</td>\n",
              "    </tr>\n",
              "  </tbody>\n",
              "</table>\n",
              "</div>"
            ],
            "text/plain": [
              "       product_name_lenght  product_description_lenght  product_photos_qty  \\\n",
              "count         32341.000000                32341.000000        32341.000000   \n",
              "mean             48.476949                  771.495285            2.188986   \n",
              "std              10.245741                  635.115225            1.736766   \n",
              "min               5.000000                    4.000000            1.000000   \n",
              "25%              42.000000                  339.000000            1.000000   \n",
              "50%              51.000000                  595.000000            1.000000   \n",
              "75%              57.000000                  972.000000            3.000000   \n",
              "max              76.000000                 3992.000000           20.000000   \n",
              "\n",
              "       product_weight_g  product_length_cm  product_height_cm  \\\n",
              "count      32949.000000       32949.000000       32949.000000   \n",
              "mean        2276.472488          30.815078          16.937661   \n",
              "std         4282.038731          16.914458          13.637554   \n",
              "min            0.000000           7.000000           2.000000   \n",
              "25%          300.000000          18.000000           8.000000   \n",
              "50%          700.000000          25.000000          13.000000   \n",
              "75%         1900.000000          38.000000          21.000000   \n",
              "max        40425.000000         105.000000         105.000000   \n",
              "\n",
              "       product_width_cm  \n",
              "count      32949.000000  \n",
              "mean          23.196728  \n",
              "std           12.079047  \n",
              "min            6.000000  \n",
              "25%           15.000000  \n",
              "50%           20.000000  \n",
              "75%           30.000000  \n",
              "max          118.000000  "
            ]
          },
          "execution_count": 9,
          "metadata": {},
          "output_type": "execute_result"
        }
      ],
      "source": [
        "products_df.describe()"
      ]
    },
    {
      "cell_type": "markdown",
      "metadata": {
        "id": "rkxtqw41S5m4"
      },
      "source": [
        "**Tidak ada duplikasi data tetapi ada beberapa kesalahan (missing value) dalam data**\n",
        "\n",
        "\n",
        "1. product_category_name: 610 missing.\n",
        "2. product_name_lenght, product_description_lenght, product_photos_qty: : total 32341 missing.\n",
        "3. product_weight_g, product_length_cm, product_height_cm, product_width_cm: 2 mising.\n"
      ]
    },
    {
      "cell_type": "markdown",
      "metadata": {
        "id": "6RECBp1DTAOH"
      },
      "source": [
        "#### Menilai Data orders_df"
      ]
    },
    {
      "cell_type": "code",
      "execution_count": 10,
      "metadata": {
        "colab": {
          "base_uri": "https://localhost:8080/"
        },
        "id": "JqOIDUBWTIEN",
        "outputId": "a143b11c-7f2c-414e-f122-4730c101e0f6"
      },
      "outputs": [
        {
          "name": "stdout",
          "output_type": "stream",
          "text": [
            "<class 'pandas.core.frame.DataFrame'>\n",
            "RangeIndex: 99441 entries, 0 to 99440\n",
            "Data columns (total 8 columns):\n",
            " #   Column                         Non-Null Count  Dtype \n",
            "---  ------                         --------------  ----- \n",
            " 0   order_id                       99441 non-null  object\n",
            " 1   customer_id                    99441 non-null  object\n",
            " 2   order_status                   99441 non-null  object\n",
            " 3   order_purchase_timestamp       99441 non-null  object\n",
            " 4   order_approved_at              99281 non-null  object\n",
            " 5   order_delivered_carrier_date   97658 non-null  object\n",
            " 6   order_delivered_customer_date  96476 non-null  object\n",
            " 7   order_estimated_delivery_date  99441 non-null  object\n",
            "dtypes: object(8)\n",
            "memory usage: 6.1+ MB\n"
          ]
        }
      ],
      "source": [
        "orders_df.info()"
      ]
    },
    {
      "cell_type": "code",
      "execution_count": 11,
      "metadata": {
        "colab": {
          "base_uri": "https://localhost:8080/",
          "height": 0
        },
        "id": "-PV9EdWcTMhD",
        "outputId": "c4c3d0f8-af16-45d7-88bd-a60679b98760"
      },
      "outputs": [
        {
          "data": {
            "text/plain": [
              "order_id                            0\n",
              "customer_id                         0\n",
              "order_status                        0\n",
              "order_purchase_timestamp            0\n",
              "order_approved_at                 160\n",
              "order_delivered_carrier_date     1783\n",
              "order_delivered_customer_date    2965\n",
              "order_estimated_delivery_date       0\n",
              "dtype: int64"
            ]
          },
          "execution_count": 11,
          "metadata": {},
          "output_type": "execute_result"
        }
      ],
      "source": [
        "orders_df.isna().sum()"
      ]
    },
    {
      "cell_type": "code",
      "execution_count": 12,
      "metadata": {
        "colab": {
          "base_uri": "https://localhost:8080/"
        },
        "id": "F_hBd6tjTSsW",
        "outputId": "df7fc461-9a54-455b-c6ce-8f3b972d9d18"
      },
      "outputs": [
        {
          "name": "stdout",
          "output_type": "stream",
          "text": [
            "Jumlah duplikasi:  0\n"
          ]
        }
      ],
      "source": [
        "print(\"Jumlah duplikasi: \", orders_df.duplicated().sum())"
      ]
    },
    {
      "cell_type": "code",
      "execution_count": 13,
      "metadata": {
        "colab": {
          "base_uri": "https://localhost:8080/",
          "height": 0
        },
        "id": "CXDEaAo3TbLT",
        "outputId": "1824e9d4-f056-4205-a3b3-65e7a0d969ff"
      },
      "outputs": [
        {
          "data": {
            "text/html": [
              "<div>\n",
              "<style scoped>\n",
              "    .dataframe tbody tr th:only-of-type {\n",
              "        vertical-align: middle;\n",
              "    }\n",
              "\n",
              "    .dataframe tbody tr th {\n",
              "        vertical-align: top;\n",
              "    }\n",
              "\n",
              "    .dataframe thead th {\n",
              "        text-align: right;\n",
              "    }\n",
              "</style>\n",
              "<table border=\"1\" class=\"dataframe\">\n",
              "  <thead>\n",
              "    <tr style=\"text-align: right;\">\n",
              "      <th></th>\n",
              "      <th>order_id</th>\n",
              "      <th>customer_id</th>\n",
              "      <th>order_status</th>\n",
              "      <th>order_purchase_timestamp</th>\n",
              "      <th>order_approved_at</th>\n",
              "      <th>order_delivered_carrier_date</th>\n",
              "      <th>order_delivered_customer_date</th>\n",
              "      <th>order_estimated_delivery_date</th>\n",
              "    </tr>\n",
              "  </thead>\n",
              "  <tbody>\n",
              "    <tr>\n",
              "      <th>count</th>\n",
              "      <td>99441</td>\n",
              "      <td>99441</td>\n",
              "      <td>99441</td>\n",
              "      <td>99441</td>\n",
              "      <td>99281</td>\n",
              "      <td>97658</td>\n",
              "      <td>96476</td>\n",
              "      <td>99441</td>\n",
              "    </tr>\n",
              "    <tr>\n",
              "      <th>unique</th>\n",
              "      <td>99441</td>\n",
              "      <td>99441</td>\n",
              "      <td>8</td>\n",
              "      <td>98875</td>\n",
              "      <td>90733</td>\n",
              "      <td>81018</td>\n",
              "      <td>95664</td>\n",
              "      <td>459</td>\n",
              "    </tr>\n",
              "    <tr>\n",
              "      <th>top</th>\n",
              "      <td>e481f51cbdc54678b7cc49136f2d6af7</td>\n",
              "      <td>9ef432eb6251297304e76186b10a928d</td>\n",
              "      <td>delivered</td>\n",
              "      <td>2018-04-11 10:48:14</td>\n",
              "      <td>2018-02-27 04:31:10</td>\n",
              "      <td>2018-05-09 15:48:00</td>\n",
              "      <td>2018-05-08 23:38:46</td>\n",
              "      <td>2017-12-20 00:00:00</td>\n",
              "    </tr>\n",
              "    <tr>\n",
              "      <th>freq</th>\n",
              "      <td>1</td>\n",
              "      <td>1</td>\n",
              "      <td>96478</td>\n",
              "      <td>3</td>\n",
              "      <td>9</td>\n",
              "      <td>47</td>\n",
              "      <td>3</td>\n",
              "      <td>522</td>\n",
              "    </tr>\n",
              "  </tbody>\n",
              "</table>\n",
              "</div>"
            ],
            "text/plain": [
              "                                order_id                       customer_id  \\\n",
              "count                              99441                             99441   \n",
              "unique                             99441                             99441   \n",
              "top     e481f51cbdc54678b7cc49136f2d6af7  9ef432eb6251297304e76186b10a928d   \n",
              "freq                                   1                                 1   \n",
              "\n",
              "       order_status order_purchase_timestamp    order_approved_at  \\\n",
              "count         99441                    99441                99281   \n",
              "unique            8                    98875                90733   \n",
              "top       delivered      2018-04-11 10:48:14  2018-02-27 04:31:10   \n",
              "freq          96478                        3                    9   \n",
              "\n",
              "       order_delivered_carrier_date order_delivered_customer_date  \\\n",
              "count                         97658                         96476   \n",
              "unique                        81018                         95664   \n",
              "top             2018-05-09 15:48:00           2018-05-08 23:38:46   \n",
              "freq                             47                             3   \n",
              "\n",
              "       order_estimated_delivery_date  \n",
              "count                          99441  \n",
              "unique                           459  \n",
              "top              2017-12-20 00:00:00  \n",
              "freq                             522  "
            ]
          },
          "execution_count": 13,
          "metadata": {},
          "output_type": "execute_result"
        }
      ],
      "source": [
        "orders_df.describe()"
      ]
    },
    {
      "cell_type": "markdown",
      "metadata": {
        "id": "erCK0adjUY9x"
      },
      "source": [
        "**Tidak ada duplikasi data, namun ditemukan beberapa kesalahan (missing value) dalam data**\n",
        "\n",
        "\n",
        "1. order_approved_at: 160 missing.\n",
        "2. order_delivered_carrier_date: 1783 missing.\n",
        "3. order_delivered_customer_date: 2965 missing."
      ]
    },
    {
      "cell_type": "markdown",
      "metadata": {
        "id": "Ff4BSYo5VHTM"
      },
      "source": [
        "#### Menilai Data payments_df"
      ]
    },
    {
      "cell_type": "code",
      "execution_count": 14,
      "metadata": {
        "colab": {
          "base_uri": "https://localhost:8080/"
        },
        "id": "w5-DIdhIVGWW",
        "outputId": "f9165b8a-af27-4abd-83c9-8719f5954d4f"
      },
      "outputs": [
        {
          "name": "stdout",
          "output_type": "stream",
          "text": [
            "<class 'pandas.core.frame.DataFrame'>\n",
            "RangeIndex: 103886 entries, 0 to 103885\n",
            "Data columns (total 5 columns):\n",
            " #   Column                Non-Null Count   Dtype  \n",
            "---  ------                --------------   -----  \n",
            " 0   order_id              103886 non-null  object \n",
            " 1   payment_sequential    103886 non-null  int64  \n",
            " 2   payment_type          103886 non-null  object \n",
            " 3   payment_installments  103886 non-null  int64  \n",
            " 4   payment_value         103886 non-null  float64\n",
            "dtypes: float64(1), int64(2), object(2)\n",
            "memory usage: 4.0+ MB\n"
          ]
        }
      ],
      "source": [
        "payments_df.info()"
      ]
    },
    {
      "cell_type": "code",
      "execution_count": 15,
      "metadata": {
        "colab": {
          "base_uri": "https://localhost:8080/",
          "height": 0
        },
        "id": "r6aSIxmgVS86",
        "outputId": "28533b48-cec7-4515-c0c4-4e38ca412af0"
      },
      "outputs": [
        {
          "data": {
            "text/plain": [
              "order_id                0\n",
              "payment_sequential      0\n",
              "payment_type            0\n",
              "payment_installments    0\n",
              "payment_value           0\n",
              "dtype: int64"
            ]
          },
          "execution_count": 15,
          "metadata": {},
          "output_type": "execute_result"
        }
      ],
      "source": [
        "payments_df.isna().sum()"
      ]
    },
    {
      "cell_type": "code",
      "execution_count": 16,
      "metadata": {
        "colab": {
          "base_uri": "https://localhost:8080/"
        },
        "id": "JNtfMStOVd-L",
        "outputId": "a4f4761f-592f-4cfd-bdf4-8f4ec87e2e09"
      },
      "outputs": [
        {
          "name": "stdout",
          "output_type": "stream",
          "text": [
            "Jumlah duplikasi:  0\n"
          ]
        }
      ],
      "source": [
        "print(\"Jumlah duplikasi: \", payments_df.duplicated().sum())"
      ]
    },
    {
      "cell_type": "code",
      "execution_count": 17,
      "metadata": {
        "colab": {
          "base_uri": "https://localhost:8080/",
          "height": 0
        },
        "id": "_5ghbZ9QVem1",
        "outputId": "0eeb5fb8-6c2e-4e48-9660-456904a9918f"
      },
      "outputs": [
        {
          "data": {
            "text/html": [
              "<div>\n",
              "<style scoped>\n",
              "    .dataframe tbody tr th:only-of-type {\n",
              "        vertical-align: middle;\n",
              "    }\n",
              "\n",
              "    .dataframe tbody tr th {\n",
              "        vertical-align: top;\n",
              "    }\n",
              "\n",
              "    .dataframe thead th {\n",
              "        text-align: right;\n",
              "    }\n",
              "</style>\n",
              "<table border=\"1\" class=\"dataframe\">\n",
              "  <thead>\n",
              "    <tr style=\"text-align: right;\">\n",
              "      <th></th>\n",
              "      <th>payment_sequential</th>\n",
              "      <th>payment_installments</th>\n",
              "      <th>payment_value</th>\n",
              "    </tr>\n",
              "  </thead>\n",
              "  <tbody>\n",
              "    <tr>\n",
              "      <th>count</th>\n",
              "      <td>103886.000000</td>\n",
              "      <td>103886.000000</td>\n",
              "      <td>103886.000000</td>\n",
              "    </tr>\n",
              "    <tr>\n",
              "      <th>mean</th>\n",
              "      <td>1.092679</td>\n",
              "      <td>2.853349</td>\n",
              "      <td>154.100380</td>\n",
              "    </tr>\n",
              "    <tr>\n",
              "      <th>std</th>\n",
              "      <td>0.706584</td>\n",
              "      <td>2.687051</td>\n",
              "      <td>217.494064</td>\n",
              "    </tr>\n",
              "    <tr>\n",
              "      <th>min</th>\n",
              "      <td>1.000000</td>\n",
              "      <td>0.000000</td>\n",
              "      <td>0.000000</td>\n",
              "    </tr>\n",
              "    <tr>\n",
              "      <th>25%</th>\n",
              "      <td>1.000000</td>\n",
              "      <td>1.000000</td>\n",
              "      <td>56.790000</td>\n",
              "    </tr>\n",
              "    <tr>\n",
              "      <th>50%</th>\n",
              "      <td>1.000000</td>\n",
              "      <td>1.000000</td>\n",
              "      <td>100.000000</td>\n",
              "    </tr>\n",
              "    <tr>\n",
              "      <th>75%</th>\n",
              "      <td>1.000000</td>\n",
              "      <td>4.000000</td>\n",
              "      <td>171.837500</td>\n",
              "    </tr>\n",
              "    <tr>\n",
              "      <th>max</th>\n",
              "      <td>29.000000</td>\n",
              "      <td>24.000000</td>\n",
              "      <td>13664.080000</td>\n",
              "    </tr>\n",
              "  </tbody>\n",
              "</table>\n",
              "</div>"
            ],
            "text/plain": [
              "       payment_sequential  payment_installments  payment_value\n",
              "count       103886.000000         103886.000000  103886.000000\n",
              "mean             1.092679              2.853349     154.100380\n",
              "std              0.706584              2.687051     217.494064\n",
              "min              1.000000              0.000000       0.000000\n",
              "25%              1.000000              1.000000      56.790000\n",
              "50%              1.000000              1.000000     100.000000\n",
              "75%              1.000000              4.000000     171.837500\n",
              "max             29.000000             24.000000   13664.080000"
            ]
          },
          "execution_count": 17,
          "metadata": {},
          "output_type": "execute_result"
        }
      ],
      "source": [
        "payments_df.describe()"
      ]
    },
    {
      "cell_type": "markdown",
      "metadata": {
        "id": "hVogm__DWEzN"
      },
      "source": [
        "**Tidak ada duplikasi data atau kesalahan (missing value) dalam data**"
      ]
    },
    {
      "cell_type": "markdown",
      "metadata": {
        "id": "6lPbcxwzm9qw"
      },
      "source": [
        "#### Menilai Data items_df"
      ]
    },
    {
      "cell_type": "code",
      "execution_count": 18,
      "metadata": {
        "colab": {
          "base_uri": "https://localhost:8080/"
        },
        "id": "iCjZkGFenD5K",
        "outputId": "dff5ff05-4033-46ae-d1d1-01ce5e12289c"
      },
      "outputs": [
        {
          "name": "stdout",
          "output_type": "stream",
          "text": [
            "<class 'pandas.core.frame.DataFrame'>\n",
            "RangeIndex: 112650 entries, 0 to 112649\n",
            "Data columns (total 7 columns):\n",
            " #   Column               Non-Null Count   Dtype  \n",
            "---  ------               --------------   -----  \n",
            " 0   order_id             112650 non-null  object \n",
            " 1   order_item_id        112650 non-null  int64  \n",
            " 2   product_id           112650 non-null  object \n",
            " 3   seller_id            112650 non-null  object \n",
            " 4   shipping_limit_date  112650 non-null  object \n",
            " 5   price                112650 non-null  float64\n",
            " 6   freight_value        112650 non-null  float64\n",
            "dtypes: float64(2), int64(1), object(4)\n",
            "memory usage: 6.0+ MB\n"
          ]
        }
      ],
      "source": [
        "items_df.info()"
      ]
    },
    {
      "cell_type": "code",
      "execution_count": 19,
      "metadata": {
        "colab": {
          "base_uri": "https://localhost:8080/",
          "height": 0
        },
        "id": "9jMAAXlxnJvH",
        "outputId": "25de65f4-1563-4e26-c161-030469b6f94d"
      },
      "outputs": [
        {
          "data": {
            "text/plain": [
              "order_id               0\n",
              "order_item_id          0\n",
              "product_id             0\n",
              "seller_id              0\n",
              "shipping_limit_date    0\n",
              "price                  0\n",
              "freight_value          0\n",
              "dtype: int64"
            ]
          },
          "execution_count": 19,
          "metadata": {},
          "output_type": "execute_result"
        }
      ],
      "source": [
        "items_df.isna().sum()"
      ]
    },
    {
      "cell_type": "code",
      "execution_count": 20,
      "metadata": {
        "colab": {
          "base_uri": "https://localhost:8080/"
        },
        "id": "J7Xi9KFhnPPu",
        "outputId": "2e256a3c-4b4f-4a21-f2d3-551fab6366fd"
      },
      "outputs": [
        {
          "name": "stdout",
          "output_type": "stream",
          "text": [
            "Jumlah duplikasi:  0\n"
          ]
        }
      ],
      "source": [
        "print(\"Jumlah duplikasi: \", items_df.duplicated().sum())"
      ]
    },
    {
      "cell_type": "code",
      "execution_count": 21,
      "metadata": {
        "colab": {
          "base_uri": "https://localhost:8080/",
          "height": 0
        },
        "id": "bbnJrYH3nfAx",
        "outputId": "59eaa97f-c7ed-406b-a833-6691e3afdc75"
      },
      "outputs": [
        {
          "data": {
            "text/html": [
              "<div>\n",
              "<style scoped>\n",
              "    .dataframe tbody tr th:only-of-type {\n",
              "        vertical-align: middle;\n",
              "    }\n",
              "\n",
              "    .dataframe tbody tr th {\n",
              "        vertical-align: top;\n",
              "    }\n",
              "\n",
              "    .dataframe thead th {\n",
              "        text-align: right;\n",
              "    }\n",
              "</style>\n",
              "<table border=\"1\" class=\"dataframe\">\n",
              "  <thead>\n",
              "    <tr style=\"text-align: right;\">\n",
              "      <th></th>\n",
              "      <th>order_item_id</th>\n",
              "      <th>price</th>\n",
              "      <th>freight_value</th>\n",
              "    </tr>\n",
              "  </thead>\n",
              "  <tbody>\n",
              "    <tr>\n",
              "      <th>count</th>\n",
              "      <td>112650.000000</td>\n",
              "      <td>112650.000000</td>\n",
              "      <td>112650.000000</td>\n",
              "    </tr>\n",
              "    <tr>\n",
              "      <th>mean</th>\n",
              "      <td>1.197834</td>\n",
              "      <td>120.653739</td>\n",
              "      <td>19.990320</td>\n",
              "    </tr>\n",
              "    <tr>\n",
              "      <th>std</th>\n",
              "      <td>0.705124</td>\n",
              "      <td>183.633928</td>\n",
              "      <td>15.806405</td>\n",
              "    </tr>\n",
              "    <tr>\n",
              "      <th>min</th>\n",
              "      <td>1.000000</td>\n",
              "      <td>0.850000</td>\n",
              "      <td>0.000000</td>\n",
              "    </tr>\n",
              "    <tr>\n",
              "      <th>25%</th>\n",
              "      <td>1.000000</td>\n",
              "      <td>39.900000</td>\n",
              "      <td>13.080000</td>\n",
              "    </tr>\n",
              "    <tr>\n",
              "      <th>50%</th>\n",
              "      <td>1.000000</td>\n",
              "      <td>74.990000</td>\n",
              "      <td>16.260000</td>\n",
              "    </tr>\n",
              "    <tr>\n",
              "      <th>75%</th>\n",
              "      <td>1.000000</td>\n",
              "      <td>134.900000</td>\n",
              "      <td>21.150000</td>\n",
              "    </tr>\n",
              "    <tr>\n",
              "      <th>max</th>\n",
              "      <td>21.000000</td>\n",
              "      <td>6735.000000</td>\n",
              "      <td>409.680000</td>\n",
              "    </tr>\n",
              "  </tbody>\n",
              "</table>\n",
              "</div>"
            ],
            "text/plain": [
              "       order_item_id          price  freight_value\n",
              "count  112650.000000  112650.000000  112650.000000\n",
              "mean        1.197834     120.653739      19.990320\n",
              "std         0.705124     183.633928      15.806405\n",
              "min         1.000000       0.850000       0.000000\n",
              "25%         1.000000      39.900000      13.080000\n",
              "50%         1.000000      74.990000      16.260000\n",
              "75%         1.000000     134.900000      21.150000\n",
              "max        21.000000    6735.000000     409.680000"
            ]
          },
          "execution_count": 21,
          "metadata": {},
          "output_type": "execute_result"
        }
      ],
      "source": [
        "items_df.describe()"
      ]
    },
    {
      "cell_type": "markdown",
      "metadata": {
        "id": "Y-EDMy6anoZg"
      },
      "source": [
        "**Tidak ada duplikasi data atau kesalahan (missing value) dalam data**"
      ]
    },
    {
      "cell_type": "markdown",
      "metadata": {
        "id": "7RgsV3duWT7n"
      },
      "source": [
        "### Cleaning Data"
      ]
    },
    {
      "cell_type": "markdown",
      "metadata": {
        "id": "68gTURrDWnNW"
      },
      "source": [
        "- **semua data set tidak perlu membersihkan data yang duplikasi karena semua data sudah tidak ada yang terduplikasi**\n",
        "- **Hanya Terdapat Mising Value data di data products_df & orders_df**\n",
        "- **Serta pengecekan ulang pada data payments_df**\n"
      ]
    },
    {
      "cell_type": "code",
      "execution_count": 22,
      "metadata": {
        "id": "TNHGRH0LZ9Fm"
      },
      "outputs": [],
      "source": [
        "orders_df.columns = orders_df.columns.str.lower().str.replace(\" \", \"_\")\n",
        "products_df.columns = products_df.columns.str.lower().str.replace(\" \", \"_\")\n",
        "payments_df.columns = payments_df.columns.str.lower().str.replace(\" \", \"_\")\n",
        "items_df.columns = items_df.columns.str.lower().str.replace(\" \", \"_\")"
      ]
    },
    {
      "cell_type": "markdown",
      "metadata": {
        "id": "5yTkSTcIZ6lL"
      },
      "source": [
        "**agar data_set rapih dan mudah di visualisasikan**\n"
      ]
    },
    {
      "cell_type": "markdown",
      "metadata": {
        "id": "vMio1UhISuQx"
      },
      "source": [
        "#### Membersihkan Data products_df"
      ]
    },
    {
      "cell_type": "markdown",
      "metadata": {
        "id": "AxURW9bmS5b0"
      },
      "source": [
        "##### Menangani Mising Value product_category_name, product_name_lenght,\tproduct_description_lenght, & product_photos_qty"
      ]
    },
    {
      "cell_type": "code",
      "execution_count": 23,
      "metadata": {
        "colab": {
          "base_uri": "https://localhost:8080/",
          "height": 0
        },
        "id": "fcGQ4wHdS2ex",
        "outputId": "3d7ec672-9996-493b-b147-e02cac43170f"
      },
      "outputs": [
        {
          "data": {
            "text/html": [
              "<div>\n",
              "<style scoped>\n",
              "    .dataframe tbody tr th:only-of-type {\n",
              "        vertical-align: middle;\n",
              "    }\n",
              "\n",
              "    .dataframe tbody tr th {\n",
              "        vertical-align: top;\n",
              "    }\n",
              "\n",
              "    .dataframe thead th {\n",
              "        text-align: right;\n",
              "    }\n",
              "</style>\n",
              "<table border=\"1\" class=\"dataframe\">\n",
              "  <thead>\n",
              "    <tr style=\"text-align: right;\">\n",
              "      <th></th>\n",
              "      <th>product_id</th>\n",
              "      <th>product_category_name</th>\n",
              "      <th>product_name_lenght</th>\n",
              "      <th>product_description_lenght</th>\n",
              "      <th>product_photos_qty</th>\n",
              "      <th>product_weight_g</th>\n",
              "      <th>product_length_cm</th>\n",
              "      <th>product_height_cm</th>\n",
              "      <th>product_width_cm</th>\n",
              "    </tr>\n",
              "  </thead>\n",
              "  <tbody>\n",
              "    <tr>\n",
              "      <th>105</th>\n",
              "      <td>a41e356c76fab66334f36de622ecbd3a</td>\n",
              "      <td>NaN</td>\n",
              "      <td>NaN</td>\n",
              "      <td>NaN</td>\n",
              "      <td>NaN</td>\n",
              "      <td>650.0</td>\n",
              "      <td>17.0</td>\n",
              "      <td>14.0</td>\n",
              "      <td>12.0</td>\n",
              "    </tr>\n",
              "    <tr>\n",
              "      <th>128</th>\n",
              "      <td>d8dee61c2034d6d075997acef1870e9b</td>\n",
              "      <td>NaN</td>\n",
              "      <td>NaN</td>\n",
              "      <td>NaN</td>\n",
              "      <td>NaN</td>\n",
              "      <td>300.0</td>\n",
              "      <td>16.0</td>\n",
              "      <td>7.0</td>\n",
              "      <td>20.0</td>\n",
              "    </tr>\n",
              "    <tr>\n",
              "      <th>145</th>\n",
              "      <td>56139431d72cd51f19eb9f7dae4d1617</td>\n",
              "      <td>NaN</td>\n",
              "      <td>NaN</td>\n",
              "      <td>NaN</td>\n",
              "      <td>NaN</td>\n",
              "      <td>200.0</td>\n",
              "      <td>20.0</td>\n",
              "      <td>20.0</td>\n",
              "      <td>20.0</td>\n",
              "    </tr>\n",
              "    <tr>\n",
              "      <th>154</th>\n",
              "      <td>46b48281eb6d663ced748f324108c733</td>\n",
              "      <td>NaN</td>\n",
              "      <td>NaN</td>\n",
              "      <td>NaN</td>\n",
              "      <td>NaN</td>\n",
              "      <td>18500.0</td>\n",
              "      <td>41.0</td>\n",
              "      <td>30.0</td>\n",
              "      <td>41.0</td>\n",
              "    </tr>\n",
              "    <tr>\n",
              "      <th>197</th>\n",
              "      <td>5fb61f482620cb672f5e586bb132eae9</td>\n",
              "      <td>NaN</td>\n",
              "      <td>NaN</td>\n",
              "      <td>NaN</td>\n",
              "      <td>NaN</td>\n",
              "      <td>300.0</td>\n",
              "      <td>35.0</td>\n",
              "      <td>7.0</td>\n",
              "      <td>12.0</td>\n",
              "    </tr>\n",
              "    <tr>\n",
              "      <th>...</th>\n",
              "      <td>...</td>\n",
              "      <td>...</td>\n",
              "      <td>...</td>\n",
              "      <td>...</td>\n",
              "      <td>...</td>\n",
              "      <td>...</td>\n",
              "      <td>...</td>\n",
              "      <td>...</td>\n",
              "      <td>...</td>\n",
              "    </tr>\n",
              "    <tr>\n",
              "      <th>32515</th>\n",
              "      <td>b0a0c5dd78e644373b199380612c350a</td>\n",
              "      <td>NaN</td>\n",
              "      <td>NaN</td>\n",
              "      <td>NaN</td>\n",
              "      <td>NaN</td>\n",
              "      <td>1800.0</td>\n",
              "      <td>30.0</td>\n",
              "      <td>20.0</td>\n",
              "      <td>70.0</td>\n",
              "    </tr>\n",
              "    <tr>\n",
              "      <th>32589</th>\n",
              "      <td>10dbe0fbaa2c505123c17fdc34a63c56</td>\n",
              "      <td>NaN</td>\n",
              "      <td>NaN</td>\n",
              "      <td>NaN</td>\n",
              "      <td>NaN</td>\n",
              "      <td>800.0</td>\n",
              "      <td>30.0</td>\n",
              "      <td>10.0</td>\n",
              "      <td>23.0</td>\n",
              "    </tr>\n",
              "    <tr>\n",
              "      <th>32616</th>\n",
              "      <td>bd2ada37b58ae94cc838b9c0569fecd8</td>\n",
              "      <td>NaN</td>\n",
              "      <td>NaN</td>\n",
              "      <td>NaN</td>\n",
              "      <td>NaN</td>\n",
              "      <td>200.0</td>\n",
              "      <td>21.0</td>\n",
              "      <td>8.0</td>\n",
              "      <td>16.0</td>\n",
              "    </tr>\n",
              "    <tr>\n",
              "      <th>32772</th>\n",
              "      <td>fa51e914046aab32764c41356b9d4ea4</td>\n",
              "      <td>NaN</td>\n",
              "      <td>NaN</td>\n",
              "      <td>NaN</td>\n",
              "      <td>NaN</td>\n",
              "      <td>1300.0</td>\n",
              "      <td>45.0</td>\n",
              "      <td>16.0</td>\n",
              "      <td>45.0</td>\n",
              "    </tr>\n",
              "    <tr>\n",
              "      <th>32852</th>\n",
              "      <td>c4ceee876c82b8328e9c293fa0e1989b</td>\n",
              "      <td>NaN</td>\n",
              "      <td>NaN</td>\n",
              "      <td>NaN</td>\n",
              "      <td>NaN</td>\n",
              "      <td>700.0</td>\n",
              "      <td>28.0</td>\n",
              "      <td>3.0</td>\n",
              "      <td>43.0</td>\n",
              "    </tr>\n",
              "  </tbody>\n",
              "</table>\n",
              "<p>610 rows × 9 columns</p>\n",
              "</div>"
            ],
            "text/plain": [
              "                             product_id product_category_name  \\\n",
              "105    a41e356c76fab66334f36de622ecbd3a                   NaN   \n",
              "128    d8dee61c2034d6d075997acef1870e9b                   NaN   \n",
              "145    56139431d72cd51f19eb9f7dae4d1617                   NaN   \n",
              "154    46b48281eb6d663ced748f324108c733                   NaN   \n",
              "197    5fb61f482620cb672f5e586bb132eae9                   NaN   \n",
              "...                                 ...                   ...   \n",
              "32515  b0a0c5dd78e644373b199380612c350a                   NaN   \n",
              "32589  10dbe0fbaa2c505123c17fdc34a63c56                   NaN   \n",
              "32616  bd2ada37b58ae94cc838b9c0569fecd8                   NaN   \n",
              "32772  fa51e914046aab32764c41356b9d4ea4                   NaN   \n",
              "32852  c4ceee876c82b8328e9c293fa0e1989b                   NaN   \n",
              "\n",
              "       product_name_lenght  product_description_lenght  product_photos_qty  \\\n",
              "105                    NaN                         NaN                 NaN   \n",
              "128                    NaN                         NaN                 NaN   \n",
              "145                    NaN                         NaN                 NaN   \n",
              "154                    NaN                         NaN                 NaN   \n",
              "197                    NaN                         NaN                 NaN   \n",
              "...                    ...                         ...                 ...   \n",
              "32515                  NaN                         NaN                 NaN   \n",
              "32589                  NaN                         NaN                 NaN   \n",
              "32616                  NaN                         NaN                 NaN   \n",
              "32772                  NaN                         NaN                 NaN   \n",
              "32852                  NaN                         NaN                 NaN   \n",
              "\n",
              "       product_weight_g  product_length_cm  product_height_cm  \\\n",
              "105               650.0               17.0               14.0   \n",
              "128               300.0               16.0                7.0   \n",
              "145               200.0               20.0               20.0   \n",
              "154             18500.0               41.0               30.0   \n",
              "197               300.0               35.0                7.0   \n",
              "...                 ...                ...                ...   \n",
              "32515            1800.0               30.0               20.0   \n",
              "32589             800.0               30.0               10.0   \n",
              "32616             200.0               21.0                8.0   \n",
              "32772            1300.0               45.0               16.0   \n",
              "32852             700.0               28.0                3.0   \n",
              "\n",
              "       product_width_cm  \n",
              "105                12.0  \n",
              "128                20.0  \n",
              "145                20.0  \n",
              "154                41.0  \n",
              "197                12.0  \n",
              "...                 ...  \n",
              "32515              70.0  \n",
              "32589              23.0  \n",
              "32616              16.0  \n",
              "32772              45.0  \n",
              "32852              43.0  \n",
              "\n",
              "[610 rows x 9 columns]"
            ]
          },
          "execution_count": 23,
          "metadata": {},
          "output_type": "execute_result"
        }
      ],
      "source": [
        "products_df[products_df.product_category_name.isna()]"
      ]
    },
    {
      "cell_type": "code",
      "execution_count": 24,
      "metadata": {
        "colab": {
          "base_uri": "https://localhost:8080/",
          "height": 0
        },
        "id": "FRMHjjxQWYD-",
        "outputId": "dee07a30-9e96-4f69-b74e-f969410788ca"
      },
      "outputs": [
        {
          "data": {
            "text/plain": [
              "product_category_name\n",
              "cama_mesa_banho                  3029\n",
              "esporte_lazer                    2867\n",
              "moveis_decoracao                 2657\n",
              "beleza_saude                     2444\n",
              "utilidades_domesticas            2335\n",
              "                                 ... \n",
              "fashion_roupa_infanto_juvenil       5\n",
              "casa_conforto_2                     5\n",
              "pc_gamer                            3\n",
              "seguros_e_servicos                  2\n",
              "cds_dvds_musicais                   1\n",
              "Name: count, Length: 73, dtype: int64"
            ]
          },
          "execution_count": 24,
          "metadata": {},
          "output_type": "execute_result"
        }
      ],
      "source": [
        "products_df.product_category_name.value_counts()"
      ]
    },
    {
      "cell_type": "code",
      "execution_count": 25,
      "metadata": {
        "colab": {
          "base_uri": "https://localhost:8080/",
          "height": 0
        },
        "id": "gLHbrcxtdBl8",
        "outputId": "508227d6-2c7e-45c4-a606-215fd6c76ad7"
      },
      "outputs": [
        {
          "data": {
            "text/plain": [
              "product_name_lenght\n",
              "60.0    2182\n",
              "59.0    2025\n",
              "58.0    1887\n",
              "57.0    1719\n",
              "55.0    1683\n",
              "        ... \n",
              "66.0       1\n",
              "72.0       1\n",
              "67.0       1\n",
              "76.0       1\n",
              "6.0        1\n",
              "Name: count, Length: 66, dtype: int64"
            ]
          },
          "execution_count": 25,
          "metadata": {},
          "output_type": "execute_result"
        }
      ],
      "source": [
        "products_df.product_name_lenght.value_counts()"
      ]
    },
    {
      "cell_type": "code",
      "execution_count": 26,
      "metadata": {
        "colab": {
          "base_uri": "https://localhost:8080/",
          "height": 0
        },
        "id": "gGkJ2MhndLxx",
        "outputId": "43db0b2a-d4f1-4702-e412-6843b6ff7d73"
      },
      "outputs": [
        {
          "data": {
            "text/plain": [
              "product_description_lenght\n",
              "404.0     94\n",
              "729.0     86\n",
              "651.0     66\n",
              "703.0     66\n",
              "236.0     65\n",
              "          ..\n",
              "2795.0     1\n",
              "2308.0     1\n",
              "3698.0     1\n",
              "3522.0     1\n",
              "2207.0     1\n",
              "Name: count, Length: 2960, dtype: int64"
            ]
          },
          "execution_count": 26,
          "metadata": {},
          "output_type": "execute_result"
        }
      ],
      "source": [
        "products_df.product_description_lenght.value_counts()"
      ]
    },
    {
      "cell_type": "code",
      "execution_count": 27,
      "metadata": {
        "colab": {
          "base_uri": "https://localhost:8080/",
          "height": 0
        },
        "id": "1Q1NxS32dMm0",
        "outputId": "994ed468-00bd-4d7f-d2ff-54627e47f21d"
      },
      "outputs": [
        {
          "data": {
            "text/plain": [
              "product_photos_qty\n",
              "1.0     16489\n",
              "2.0      6263\n",
              "3.0      3860\n",
              "4.0      2428\n",
              "5.0      1484\n",
              "6.0       968\n",
              "7.0       343\n",
              "8.0       192\n",
              "9.0       105\n",
              "10.0       95\n",
              "11.0       46\n",
              "12.0       35\n",
              "13.0        9\n",
              "15.0        8\n",
              "17.0        7\n",
              "14.0        5\n",
              "18.0        2\n",
              "20.0        1\n",
              "19.0        1\n",
              "Name: count, dtype: int64"
            ]
          },
          "execution_count": 27,
          "metadata": {},
          "output_type": "execute_result"
        }
      ],
      "source": [
        "products_df.product_photos_qty.value_counts()"
      ]
    },
    {
      "cell_type": "markdown",
      "metadata": {
        "id": "Dznc0WCFemV_"
      },
      "source": [
        "**Analisis Perbandingan Antara Total data dengan missing value**"
      ]
    },
    {
      "cell_type": "code",
      "execution_count": 28,
      "metadata": {
        "id": "-4kClusPXWh8"
      },
      "outputs": [],
      "source": [
        "missing_values = products_df.isna().sum()\n",
        "missing_percentage = (missing_values / len(products_df)) * 100\n",
        "missing_comparison = pd.DataFrame({\n",
        "    'Missing Values': missing_values,\n",
        "    'Total Values': len(products_df),\n",
        "    'Missing Percentage': missing_percentage\n",
        "})"
      ]
    },
    {
      "cell_type": "code",
      "execution_count": 29,
      "metadata": {
        "colab": {
          "base_uri": "https://localhost:8080/"
        },
        "id": "P4H5eFLqejyt",
        "outputId": "1049957b-f224-4059-d595-605dd6043c8b"
      },
      "outputs": [
        {
          "name": "stdout",
          "output_type": "stream",
          "text": [
            "                            Missing Values  Total Values  Missing Percentage\n",
            "product_id                               0         32951            0.000000\n",
            "product_category_name                  610         32951            1.851234\n",
            "product_name_lenght                    610         32951            1.851234\n",
            "product_description_lenght             610         32951            1.851234\n",
            "product_photos_qty                     610         32951            1.851234\n",
            "product_weight_g                         2         32951            0.006070\n",
            "product_length_cm                        2         32951            0.006070\n",
            "product_height_cm                        2         32951            0.006070\n",
            "product_width_cm                         2         32951            0.006070\n"
          ]
        }
      ],
      "source": [
        "print(missing_comparison)"
      ]
    },
    {
      "cell_type": "markdown",
      "metadata": {
        "id": "jO5sFbYSeycX"
      },
      "source": [
        "**Karena missing values di kolom product_category_name, product_name_lenght, product_description_lenght, & product_photos_qty hanya sekitar index 1.9% (dibulatkan) dari total keseluruhan dataset, memutuskan untuk menghapus baris dengan nilai hilang, agar menghindari bias dan outlier**"
      ]
    },
    {
      "cell_type": "code",
      "execution_count": 30,
      "metadata": {
        "id": "tJp9i8bxfh02"
      },
      "outputs": [],
      "source": [
        "products_df.dropna(subset=['product_category_name', 'product_name_lenght', 'product_description_lenght', 'product_photos_qty'], inplace=True)"
      ]
    },
    {
      "cell_type": "code",
      "execution_count": null,
      "metadata": {
        "colab": {
          "base_uri": "https://localhost:8080/"
        },
        "id": "BJimlc_yXYRY",
        "outputId": "ca479f85-6b06-4e9c-bfda-471868c004ff"
      },
      "outputs": [
        {
          "name": "stdout",
          "output_type": "stream",
          "text": [
            "Jumlah missing value setelah pembersihan (product_category_name, product_name_lenght, product_description_lenght, & product_photos_qty):\n",
            " product_id                    0\n",
            "product_category_name         0\n",
            "product_name_lenght           0\n",
            "product_description_lenght    0\n",
            "product_photos_qty            0\n",
            "product_weight_g              1\n",
            "product_length_cm             1\n",
            "product_height_cm             1\n",
            "product_width_cm              1\n",
            "dtype: int64\n"
          ]
        }
      ],
      "source": [
        "print(\"Jumlah missing value setelah pembersihan (product_category_name, product_name_lenght, product_description_lenght, & product_photos_qty):\\n\", products_df.isna().sum())"
      ]
    },
    {
      "cell_type": "markdown",
      "metadata": {
        "id": "ojjRicuDYTEv"
      },
      "source": [
        "##### Menangani Mising Value product_weight_g, product_length_cm, product_height_cm, & product_width_cm."
      ]
    },
    {
      "cell_type": "code",
      "execution_count": 32,
      "metadata": {
        "colab": {
          "base_uri": "https://localhost:8080/",
          "height": 0
        },
        "id": "e_ZPEQghYW1h",
        "outputId": "25bc14bf-ba12-4796-84e8-b779bd79af93"
      },
      "outputs": [
        {
          "data": {
            "text/html": [
              "<div>\n",
              "<style scoped>\n",
              "    .dataframe tbody tr th:only-of-type {\n",
              "        vertical-align: middle;\n",
              "    }\n",
              "\n",
              "    .dataframe tbody tr th {\n",
              "        vertical-align: top;\n",
              "    }\n",
              "\n",
              "    .dataframe thead th {\n",
              "        text-align: right;\n",
              "    }\n",
              "</style>\n",
              "<table border=\"1\" class=\"dataframe\">\n",
              "  <thead>\n",
              "    <tr style=\"text-align: right;\">\n",
              "      <th></th>\n",
              "      <th>product_id</th>\n",
              "      <th>product_category_name</th>\n",
              "      <th>product_name_lenght</th>\n",
              "      <th>product_description_lenght</th>\n",
              "      <th>product_photos_qty</th>\n",
              "      <th>product_weight_g</th>\n",
              "      <th>product_length_cm</th>\n",
              "      <th>product_height_cm</th>\n",
              "      <th>product_width_cm</th>\n",
              "    </tr>\n",
              "  </thead>\n",
              "  <tbody>\n",
              "    <tr>\n",
              "      <th>8578</th>\n",
              "      <td>09ff539a621711667c43eba6a3bd8466</td>\n",
              "      <td>bebes</td>\n",
              "      <td>60.0</td>\n",
              "      <td>865.0</td>\n",
              "      <td>3.0</td>\n",
              "      <td>NaN</td>\n",
              "      <td>NaN</td>\n",
              "      <td>NaN</td>\n",
              "      <td>NaN</td>\n",
              "    </tr>\n",
              "  </tbody>\n",
              "</table>\n",
              "</div>"
            ],
            "text/plain": [
              "                            product_id product_category_name  \\\n",
              "8578  09ff539a621711667c43eba6a3bd8466                 bebes   \n",
              "\n",
              "      product_name_lenght  product_description_lenght  product_photos_qty  \\\n",
              "8578                 60.0                       865.0                 3.0   \n",
              "\n",
              "      product_weight_g  product_length_cm  product_height_cm  product_width_cm  \n",
              "8578               NaN                NaN                NaN               NaN  "
            ]
          },
          "execution_count": 32,
          "metadata": {},
          "output_type": "execute_result"
        }
      ],
      "source": [
        "products_df[products_df.product_weight_g.isna()]"
      ]
    },
    {
      "cell_type": "markdown",
      "metadata": {
        "id": "SEy15vFNh8l0"
      },
      "source": [
        "**memutuskan untuk mengisi missing values dengan median masing-masing kolom, sebab tidak banyak terdapat outlier.**"
      ]
    },
    {
      "cell_type": "code",
      "execution_count": 33,
      "metadata": {
        "id": "_eTl4MBWhufB"
      },
      "outputs": [],
      "source": [
        "products_df['product_weight_g'] = products_df['product_weight_g'].fillna(products_df['product_weight_g'].median())\n",
        "products_df['product_length_cm'] = products_df['product_length_cm'].fillna(products_df['product_length_cm'].median())\n",
        "products_df['product_height_cm'] = products_df['product_height_cm'].fillna(products_df['product_height_cm'].median())\n",
        "products_df['product_width_cm'] = products_df['product_width_cm'].fillna(products_df['product_width_cm'].median())"
      ]
    },
    {
      "cell_type": "code",
      "execution_count": 34,
      "metadata": {
        "colab": {
          "base_uri": "https://localhost:8080/"
        },
        "id": "A2zXzIe9hyYK",
        "outputId": "19cb38e5-7148-4aac-c37c-09f33c6918f2"
      },
      "outputs": [
        {
          "name": "stdout",
          "output_type": "stream",
          "text": [
            "Jumlah missing value setelah pembersihan (product_weight_g, product_length_cm, product_height_cm, & product_width_cm).:\n",
            " product_id                    0\n",
            "product_category_name         0\n",
            "product_name_lenght           0\n",
            "product_description_lenght    0\n",
            "product_photos_qty            0\n",
            "product_weight_g              0\n",
            "product_length_cm             0\n",
            "product_height_cm             0\n",
            "product_width_cm              0\n",
            "dtype: int64\n"
          ]
        }
      ],
      "source": [
        "print(\"Jumlah missing value setelah pembersihan (product_weight_g, product_length_cm, product_height_cm, & product_width_cm).:\\n\",products_df.isna().sum())"
      ]
    },
    {
      "cell_type": "markdown",
      "metadata": {
        "id": "VBa0aHCYi_1L"
      },
      "source": [
        "##### Pengecekan Akhir Setalah Pembersihan 3 Missing Value"
      ]
    },
    {
      "cell_type": "code",
      "execution_count": 35,
      "metadata": {
        "colab": {
          "base_uri": "https://localhost:8080/"
        },
        "id": "NQuU7Duhp6qE",
        "outputId": "ef4a5f08-87dc-4fa7-d9f9-4a5ba128f9ac"
      },
      "outputs": [
        {
          "name": "stdout",
          "output_type": "stream",
          "text": [
            "Validasi kategori produk:\n",
            "Empty DataFrame\n",
            "Columns: [product_id, product_category_name, product_name_lenght, product_description_lenght, product_photos_qty, product_weight_g, product_length_cm, product_height_cm, product_width_cm]\n",
            "Index: []\n"
          ]
        }
      ],
      "source": [
        "print(\"Validasi kategori produk:\")\n",
        "invalid_categories = products_df[~products_df['product_category_name'].isin(products_df['product_category_name'].unique())]\n",
        "print(invalid_categories)"
      ]
    },
    {
      "cell_type": "code",
      "execution_count": 36,
      "metadata": {
        "colab": {
          "base_uri": "https://localhost:8080/",
          "height": 0
        },
        "id": "Tye3hOqvjBz6",
        "outputId": "7338b406-ca66-4174-fefc-d8ea23b1362b"
      },
      "outputs": [
        {
          "data": {
            "text/plain": [
              "product_id                    0\n",
              "product_category_name         0\n",
              "product_name_lenght           0\n",
              "product_description_lenght    0\n",
              "product_photos_qty            0\n",
              "product_weight_g              0\n",
              "product_length_cm             0\n",
              "product_height_cm             0\n",
              "product_width_cm              0\n",
              "dtype: int64"
            ]
          },
          "execution_count": 36,
          "metadata": {},
          "output_type": "execute_result"
        }
      ],
      "source": [
        "products_df.isna().sum()"
      ]
    },
    {
      "cell_type": "markdown",
      "metadata": {
        "id": "jOVzNseqWwKT"
      },
      "source": [
        "#### Membersihkan Data orders_df"
      ]
    },
    {
      "cell_type": "markdown",
      "metadata": {
        "id": "X7vuKEtpc0-y"
      },
      "source": [
        "##### Menangani Mising Value order_approved_at"
      ]
    },
    {
      "cell_type": "code",
      "execution_count": 37,
      "metadata": {
        "colab": {
          "base_uri": "https://localhost:8080/",
          "height": 0
        },
        "id": "krVEkEtVYkX2",
        "outputId": "f3886435-16e7-476b-b323-81cc3d719791"
      },
      "outputs": [
        {
          "data": {
            "text/html": [
              "<div>\n",
              "<style scoped>\n",
              "    .dataframe tbody tr th:only-of-type {\n",
              "        vertical-align: middle;\n",
              "    }\n",
              "\n",
              "    .dataframe tbody tr th {\n",
              "        vertical-align: top;\n",
              "    }\n",
              "\n",
              "    .dataframe thead th {\n",
              "        text-align: right;\n",
              "    }\n",
              "</style>\n",
              "<table border=\"1\" class=\"dataframe\">\n",
              "  <thead>\n",
              "    <tr style=\"text-align: right;\">\n",
              "      <th></th>\n",
              "      <th>order_id</th>\n",
              "      <th>customer_id</th>\n",
              "      <th>order_status</th>\n",
              "      <th>order_purchase_timestamp</th>\n",
              "      <th>order_approved_at</th>\n",
              "      <th>order_delivered_carrier_date</th>\n",
              "      <th>order_delivered_customer_date</th>\n",
              "      <th>order_estimated_delivery_date</th>\n",
              "    </tr>\n",
              "  </thead>\n",
              "  <tbody>\n",
              "    <tr>\n",
              "      <th>1130</th>\n",
              "      <td>00b1cb0320190ca0daa2c88b35206009</td>\n",
              "      <td>3532ba38a3fd242259a514ac2b6ae6b6</td>\n",
              "      <td>canceled</td>\n",
              "      <td>2018-08-28 15:26:39</td>\n",
              "      <td>NaN</td>\n",
              "      <td>NaN</td>\n",
              "      <td>NaN</td>\n",
              "      <td>2018-09-12 00:00:00</td>\n",
              "    </tr>\n",
              "    <tr>\n",
              "      <th>1801</th>\n",
              "      <td>ed3efbd3a87bea76c2812c66a0b32219</td>\n",
              "      <td>191984a8ba4cbb2145acb4fe35b69664</td>\n",
              "      <td>canceled</td>\n",
              "      <td>2018-09-20 13:54:16</td>\n",
              "      <td>NaN</td>\n",
              "      <td>NaN</td>\n",
              "      <td>NaN</td>\n",
              "      <td>2018-10-17 00:00:00</td>\n",
              "    </tr>\n",
              "    <tr>\n",
              "      <th>1868</th>\n",
              "      <td>df8282afe61008dc26c6c31011474d02</td>\n",
              "      <td>aa797b187b5466bc6925aaaa4bb3bed1</td>\n",
              "      <td>canceled</td>\n",
              "      <td>2017-03-04 12:14:30</td>\n",
              "      <td>NaN</td>\n",
              "      <td>NaN</td>\n",
              "      <td>NaN</td>\n",
              "      <td>2017-04-10 00:00:00</td>\n",
              "    </tr>\n",
              "    <tr>\n",
              "      <th>2029</th>\n",
              "      <td>8d4c637f1accf7a88a4555f02741e606</td>\n",
              "      <td>b1dd715db389a2077f43174e7a675d07</td>\n",
              "      <td>canceled</td>\n",
              "      <td>2018-08-29 16:27:49</td>\n",
              "      <td>NaN</td>\n",
              "      <td>NaN</td>\n",
              "      <td>NaN</td>\n",
              "      <td>2018-09-13 00:00:00</td>\n",
              "    </tr>\n",
              "    <tr>\n",
              "      <th>2161</th>\n",
              "      <td>7a9d4c7f9b068337875b95465330f2fc</td>\n",
              "      <td>7f71ae48074c0cfec9195f88fcbfac55</td>\n",
              "      <td>canceled</td>\n",
              "      <td>2017-05-01 16:12:39</td>\n",
              "      <td>NaN</td>\n",
              "      <td>NaN</td>\n",
              "      <td>NaN</td>\n",
              "      <td>2017-05-30 00:00:00</td>\n",
              "    </tr>\n",
              "    <tr>\n",
              "      <th>...</th>\n",
              "      <td>...</td>\n",
              "      <td>...</td>\n",
              "      <td>...</td>\n",
              "      <td>...</td>\n",
              "      <td>...</td>\n",
              "      <td>...</td>\n",
              "      <td>...</td>\n",
              "      <td>...</td>\n",
              "    </tr>\n",
              "    <tr>\n",
              "      <th>97696</th>\n",
              "      <td>5a00b4d35edffc56b825c3646a99ba9d</td>\n",
              "      <td>6a3bdf004ca96338fb5fad1b8d93c2e6</td>\n",
              "      <td>canceled</td>\n",
              "      <td>2017-07-02 15:38:46</td>\n",
              "      <td>NaN</td>\n",
              "      <td>NaN</td>\n",
              "      <td>NaN</td>\n",
              "      <td>2017-07-25 00:00:00</td>\n",
              "    </tr>\n",
              "    <tr>\n",
              "      <th>98415</th>\n",
              "      <td>227c804e2a44760671a6a5697ea549e4</td>\n",
              "      <td>62e7477e75e542243ee62a0ba73f410f</td>\n",
              "      <td>canceled</td>\n",
              "      <td>2017-09-28 15:02:56</td>\n",
              "      <td>NaN</td>\n",
              "      <td>NaN</td>\n",
              "      <td>NaN</td>\n",
              "      <td>2017-10-16 00:00:00</td>\n",
              "    </tr>\n",
              "    <tr>\n",
              "      <th>98909</th>\n",
              "      <td>e49e7ce1471b4693482d40c2bd3ad196</td>\n",
              "      <td>e4e7ab3f449aeb401f0216f86c2104db</td>\n",
              "      <td>canceled</td>\n",
              "      <td>2018-08-07 11:16:28</td>\n",
              "      <td>NaN</td>\n",
              "      <td>NaN</td>\n",
              "      <td>NaN</td>\n",
              "      <td>2018-08-10 00:00:00</td>\n",
              "    </tr>\n",
              "    <tr>\n",
              "      <th>99283</th>\n",
              "      <td>3a3cddda5a7c27851bd96c3313412840</td>\n",
              "      <td>0b0d6095c5555fe083844281f6b093bb</td>\n",
              "      <td>canceled</td>\n",
              "      <td>2018-08-31 16:13:44</td>\n",
              "      <td>NaN</td>\n",
              "      <td>NaN</td>\n",
              "      <td>NaN</td>\n",
              "      <td>2018-10-01 00:00:00</td>\n",
              "    </tr>\n",
              "    <tr>\n",
              "      <th>99347</th>\n",
              "      <td>a89abace0dcc01eeb267a9660b5ac126</td>\n",
              "      <td>2f0524a7b1b3845a1a57fcf3910c4333</td>\n",
              "      <td>canceled</td>\n",
              "      <td>2018-09-06 18:45:47</td>\n",
              "      <td>NaN</td>\n",
              "      <td>NaN</td>\n",
              "      <td>NaN</td>\n",
              "      <td>2018-09-27 00:00:00</td>\n",
              "    </tr>\n",
              "  </tbody>\n",
              "</table>\n",
              "<p>160 rows × 8 columns</p>\n",
              "</div>"
            ],
            "text/plain": [
              "                               order_id                       customer_id  \\\n",
              "1130   00b1cb0320190ca0daa2c88b35206009  3532ba38a3fd242259a514ac2b6ae6b6   \n",
              "1801   ed3efbd3a87bea76c2812c66a0b32219  191984a8ba4cbb2145acb4fe35b69664   \n",
              "1868   df8282afe61008dc26c6c31011474d02  aa797b187b5466bc6925aaaa4bb3bed1   \n",
              "2029   8d4c637f1accf7a88a4555f02741e606  b1dd715db389a2077f43174e7a675d07   \n",
              "2161   7a9d4c7f9b068337875b95465330f2fc  7f71ae48074c0cfec9195f88fcbfac55   \n",
              "...                                 ...                               ...   \n",
              "97696  5a00b4d35edffc56b825c3646a99ba9d  6a3bdf004ca96338fb5fad1b8d93c2e6   \n",
              "98415  227c804e2a44760671a6a5697ea549e4  62e7477e75e542243ee62a0ba73f410f   \n",
              "98909  e49e7ce1471b4693482d40c2bd3ad196  e4e7ab3f449aeb401f0216f86c2104db   \n",
              "99283  3a3cddda5a7c27851bd96c3313412840  0b0d6095c5555fe083844281f6b093bb   \n",
              "99347  a89abace0dcc01eeb267a9660b5ac126  2f0524a7b1b3845a1a57fcf3910c4333   \n",
              "\n",
              "      order_status order_purchase_timestamp order_approved_at  \\\n",
              "1130      canceled      2018-08-28 15:26:39               NaN   \n",
              "1801      canceled      2018-09-20 13:54:16               NaN   \n",
              "1868      canceled      2017-03-04 12:14:30               NaN   \n",
              "2029      canceled      2018-08-29 16:27:49               NaN   \n",
              "2161      canceled      2017-05-01 16:12:39               NaN   \n",
              "...            ...                      ...               ...   \n",
              "97696     canceled      2017-07-02 15:38:46               NaN   \n",
              "98415     canceled      2017-09-28 15:02:56               NaN   \n",
              "98909     canceled      2018-08-07 11:16:28               NaN   \n",
              "99283     canceled      2018-08-31 16:13:44               NaN   \n",
              "99347     canceled      2018-09-06 18:45:47               NaN   \n",
              "\n",
              "      order_delivered_carrier_date order_delivered_customer_date  \\\n",
              "1130                           NaN                           NaN   \n",
              "1801                           NaN                           NaN   \n",
              "1868                           NaN                           NaN   \n",
              "2029                           NaN                           NaN   \n",
              "2161                           NaN                           NaN   \n",
              "...                            ...                           ...   \n",
              "97696                          NaN                           NaN   \n",
              "98415                          NaN                           NaN   \n",
              "98909                          NaN                           NaN   \n",
              "99283                          NaN                           NaN   \n",
              "99347                          NaN                           NaN   \n",
              "\n",
              "      order_estimated_delivery_date  \n",
              "1130            2018-09-12 00:00:00  \n",
              "1801            2018-10-17 00:00:00  \n",
              "1868            2017-04-10 00:00:00  \n",
              "2029            2018-09-13 00:00:00  \n",
              "2161            2017-05-30 00:00:00  \n",
              "...                             ...  \n",
              "97696           2017-07-25 00:00:00  \n",
              "98415           2017-10-16 00:00:00  \n",
              "98909           2018-08-10 00:00:00  \n",
              "99283           2018-10-01 00:00:00  \n",
              "99347           2018-09-27 00:00:00  \n",
              "\n",
              "[160 rows x 8 columns]"
            ]
          },
          "execution_count": 37,
          "metadata": {},
          "output_type": "execute_result"
        }
      ],
      "source": [
        "orders_df[orders_df.order_approved_at.isna()]"
      ]
    },
    {
      "cell_type": "code",
      "execution_count": 38,
      "metadata": {
        "id": "vtb-r0EPbI8i"
      },
      "outputs": [],
      "source": [
        "orders_df.dropna(subset=['order_approved_at'], inplace=True)"
      ]
    },
    {
      "cell_type": "code",
      "execution_count": 39,
      "metadata": {
        "colab": {
          "base_uri": "https://localhost:8080/"
        },
        "id": "5tdy91VWbleT",
        "outputId": "697d13d1-64ba-49e2-f9ef-0fe717636db2"
      },
      "outputs": [
        {
          "name": "stdout",
          "output_type": "stream",
          "text": [
            "Jumlah missing value (order approved at) setelah pembersihan:\n",
            " order_id                            0\n",
            "customer_id                         0\n",
            "order_status                        0\n",
            "order_purchase_timestamp            0\n",
            "order_approved_at                   0\n",
            "order_delivered_carrier_date     1637\n",
            "order_delivered_customer_date    2819\n",
            "order_estimated_delivery_date       0\n",
            "dtype: int64\n"
          ]
        }
      ],
      "source": [
        "print(\"Jumlah missing value (order approved at) setelah pembersihan:\\n\", orders_df.isna().sum())"
      ]
    },
    {
      "cell_type": "markdown",
      "metadata": {
        "id": "59QurnIScryX"
      },
      "source": [
        "##### Menangani kolom order_delivered_carrier_date"
      ]
    },
    {
      "cell_type": "code",
      "execution_count": 40,
      "metadata": {
        "colab": {
          "base_uri": "https://localhost:8080/",
          "height": 0
        },
        "id": "CYOCDxFDcNoR",
        "outputId": "84945ac2-0c8e-40c4-c5d4-f8a634d5eaf2"
      },
      "outputs": [
        {
          "data": {
            "text/html": [
              "<div>\n",
              "<style scoped>\n",
              "    .dataframe tbody tr th:only-of-type {\n",
              "        vertical-align: middle;\n",
              "    }\n",
              "\n",
              "    .dataframe tbody tr th {\n",
              "        vertical-align: top;\n",
              "    }\n",
              "\n",
              "    .dataframe thead th {\n",
              "        text-align: right;\n",
              "    }\n",
              "</style>\n",
              "<table border=\"1\" class=\"dataframe\">\n",
              "  <thead>\n",
              "    <tr style=\"text-align: right;\">\n",
              "      <th></th>\n",
              "      <th>order_id</th>\n",
              "      <th>customer_id</th>\n",
              "      <th>order_status</th>\n",
              "      <th>order_purchase_timestamp</th>\n",
              "      <th>order_approved_at</th>\n",
              "      <th>order_delivered_carrier_date</th>\n",
              "      <th>order_delivered_customer_date</th>\n",
              "      <th>order_estimated_delivery_date</th>\n",
              "    </tr>\n",
              "  </thead>\n",
              "  <tbody>\n",
              "    <tr>\n",
              "      <th>6</th>\n",
              "      <td>136cce7faa42fdb2cefd53fdc79a6098</td>\n",
              "      <td>ed0271e0b7da060a393796590e7b737a</td>\n",
              "      <td>invoiced</td>\n",
              "      <td>2017-04-11 12:22:08</td>\n",
              "      <td>2017-04-13 13:25:17</td>\n",
              "      <td>NaN</td>\n",
              "      <td>NaN</td>\n",
              "      <td>2017-05-09 00:00:00</td>\n",
              "    </tr>\n",
              "    <tr>\n",
              "      <th>103</th>\n",
              "      <td>0760a852e4e9d89eb77bf631eaaf1c84</td>\n",
              "      <td>d2a79636084590b7465af8ab374a8cf5</td>\n",
              "      <td>invoiced</td>\n",
              "      <td>2018-08-03 17:44:42</td>\n",
              "      <td>2018-08-07 06:15:14</td>\n",
              "      <td>NaN</td>\n",
              "      <td>NaN</td>\n",
              "      <td>2018-08-21 00:00:00</td>\n",
              "    </tr>\n",
              "    <tr>\n",
              "      <th>128</th>\n",
              "      <td>15bed8e2fec7fdbadb186b57c46c92f2</td>\n",
              "      <td>f3f0e613e0bdb9c7cee75504f0f90679</td>\n",
              "      <td>processing</td>\n",
              "      <td>2017-09-03 14:22:03</td>\n",
              "      <td>2017-09-03 14:30:09</td>\n",
              "      <td>NaN</td>\n",
              "      <td>NaN</td>\n",
              "      <td>2017-10-03 00:00:00</td>\n",
              "    </tr>\n",
              "    <tr>\n",
              "      <th>266</th>\n",
              "      <td>8e24261a7e58791d10cb1bf9da94df5c</td>\n",
              "      <td>64a254d30eed42cd0e6c36dddb88adf0</td>\n",
              "      <td>unavailable</td>\n",
              "      <td>2017-11-16 15:09:28</td>\n",
              "      <td>2017-11-16 15:26:57</td>\n",
              "      <td>NaN</td>\n",
              "      <td>NaN</td>\n",
              "      <td>2017-12-05 00:00:00</td>\n",
              "    </tr>\n",
              "    <tr>\n",
              "      <th>324</th>\n",
              "      <td>d3c8851a6651eeff2f73b0e011ac45d0</td>\n",
              "      <td>957f8e082185574de25992dc659ebbc0</td>\n",
              "      <td>processing</td>\n",
              "      <td>2016-10-05 22:44:13</td>\n",
              "      <td>2016-10-06 15:51:05</td>\n",
              "      <td>NaN</td>\n",
              "      <td>NaN</td>\n",
              "      <td>2016-12-09 00:00:00</td>\n",
              "    </tr>\n",
              "    <tr>\n",
              "      <th>...</th>\n",
              "      <td>...</td>\n",
              "      <td>...</td>\n",
              "      <td>...</td>\n",
              "      <td>...</td>\n",
              "      <td>...</td>\n",
              "      <td>...</td>\n",
              "      <td>...</td>\n",
              "      <td>...</td>\n",
              "    </tr>\n",
              "    <tr>\n",
              "      <th>99233</th>\n",
              "      <td>1c7c8ab324927f5b6e52338bd110bef4</td>\n",
              "      <td>95b1767df51d6fa09402267d8de314df</td>\n",
              "      <td>unavailable</td>\n",
              "      <td>2017-12-23 18:48:09</td>\n",
              "      <td>2017-12-23 18:54:22</td>\n",
              "      <td>NaN</td>\n",
              "      <td>NaN</td>\n",
              "      <td>2018-01-19 00:00:00</td>\n",
              "    </tr>\n",
              "    <tr>\n",
              "      <th>99252</th>\n",
              "      <td>aaab15da689073f8f9aa978a390a69d1</td>\n",
              "      <td>df20748206e4b865b2f14a5eabbfcf34</td>\n",
              "      <td>unavailable</td>\n",
              "      <td>2018-01-16 14:27:59</td>\n",
              "      <td>2018-01-17 03:37:34</td>\n",
              "      <td>NaN</td>\n",
              "      <td>NaN</td>\n",
              "      <td>2018-02-06 00:00:00</td>\n",
              "    </tr>\n",
              "    <tr>\n",
              "      <th>99313</th>\n",
              "      <td>e9e64a17afa9653aacf2616d94c005b8</td>\n",
              "      <td>b4cd0522e632e481f8eaf766a2646e86</td>\n",
              "      <td>processing</td>\n",
              "      <td>2018-01-05 23:07:24</td>\n",
              "      <td>2018-01-09 07:18:05</td>\n",
              "      <td>NaN</td>\n",
              "      <td>NaN</td>\n",
              "      <td>2018-02-06 00:00:00</td>\n",
              "    </tr>\n",
              "    <tr>\n",
              "      <th>99348</th>\n",
              "      <td>a69ba794cc7deb415c3e15a0a3877e69</td>\n",
              "      <td>726f0894b5becdf952ea537d5266e543</td>\n",
              "      <td>unavailable</td>\n",
              "      <td>2017-08-23 16:28:04</td>\n",
              "      <td>2017-08-28 15:44:47</td>\n",
              "      <td>NaN</td>\n",
              "      <td>NaN</td>\n",
              "      <td>2017-09-15 00:00:00</td>\n",
              "    </tr>\n",
              "    <tr>\n",
              "      <th>99415</th>\n",
              "      <td>5fabc81b6322c8443648e1b21a6fef21</td>\n",
              "      <td>32c9df889d41b0ee8309a5efb6855dcb</td>\n",
              "      <td>unavailable</td>\n",
              "      <td>2017-10-10 10:50:03</td>\n",
              "      <td>2017-10-14 18:35:57</td>\n",
              "      <td>NaN</td>\n",
              "      <td>NaN</td>\n",
              "      <td>2017-10-23 00:00:00</td>\n",
              "    </tr>\n",
              "  </tbody>\n",
              "</table>\n",
              "<p>1637 rows × 8 columns</p>\n",
              "</div>"
            ],
            "text/plain": [
              "                               order_id                       customer_id  \\\n",
              "6      136cce7faa42fdb2cefd53fdc79a6098  ed0271e0b7da060a393796590e7b737a   \n",
              "103    0760a852e4e9d89eb77bf631eaaf1c84  d2a79636084590b7465af8ab374a8cf5   \n",
              "128    15bed8e2fec7fdbadb186b57c46c92f2  f3f0e613e0bdb9c7cee75504f0f90679   \n",
              "266    8e24261a7e58791d10cb1bf9da94df5c  64a254d30eed42cd0e6c36dddb88adf0   \n",
              "324    d3c8851a6651eeff2f73b0e011ac45d0  957f8e082185574de25992dc659ebbc0   \n",
              "...                                 ...                               ...   \n",
              "99233  1c7c8ab324927f5b6e52338bd110bef4  95b1767df51d6fa09402267d8de314df   \n",
              "99252  aaab15da689073f8f9aa978a390a69d1  df20748206e4b865b2f14a5eabbfcf34   \n",
              "99313  e9e64a17afa9653aacf2616d94c005b8  b4cd0522e632e481f8eaf766a2646e86   \n",
              "99348  a69ba794cc7deb415c3e15a0a3877e69  726f0894b5becdf952ea537d5266e543   \n",
              "99415  5fabc81b6322c8443648e1b21a6fef21  32c9df889d41b0ee8309a5efb6855dcb   \n",
              "\n",
              "      order_status order_purchase_timestamp    order_approved_at  \\\n",
              "6         invoiced      2017-04-11 12:22:08  2017-04-13 13:25:17   \n",
              "103       invoiced      2018-08-03 17:44:42  2018-08-07 06:15:14   \n",
              "128     processing      2017-09-03 14:22:03  2017-09-03 14:30:09   \n",
              "266    unavailable      2017-11-16 15:09:28  2017-11-16 15:26:57   \n",
              "324     processing      2016-10-05 22:44:13  2016-10-06 15:51:05   \n",
              "...            ...                      ...                  ...   \n",
              "99233  unavailable      2017-12-23 18:48:09  2017-12-23 18:54:22   \n",
              "99252  unavailable      2018-01-16 14:27:59  2018-01-17 03:37:34   \n",
              "99313   processing      2018-01-05 23:07:24  2018-01-09 07:18:05   \n",
              "99348  unavailable      2017-08-23 16:28:04  2017-08-28 15:44:47   \n",
              "99415  unavailable      2017-10-10 10:50:03  2017-10-14 18:35:57   \n",
              "\n",
              "      order_delivered_carrier_date order_delivered_customer_date  \\\n",
              "6                              NaN                           NaN   \n",
              "103                            NaN                           NaN   \n",
              "128                            NaN                           NaN   \n",
              "266                            NaN                           NaN   \n",
              "324                            NaN                           NaN   \n",
              "...                            ...                           ...   \n",
              "99233                          NaN                           NaN   \n",
              "99252                          NaN                           NaN   \n",
              "99313                          NaN                           NaN   \n",
              "99348                          NaN                           NaN   \n",
              "99415                          NaN                           NaN   \n",
              "\n",
              "      order_estimated_delivery_date  \n",
              "6               2017-05-09 00:00:00  \n",
              "103             2018-08-21 00:00:00  \n",
              "128             2017-10-03 00:00:00  \n",
              "266             2017-12-05 00:00:00  \n",
              "324             2016-12-09 00:00:00  \n",
              "...                             ...  \n",
              "99233           2018-01-19 00:00:00  \n",
              "99252           2018-02-06 00:00:00  \n",
              "99313           2018-02-06 00:00:00  \n",
              "99348           2017-09-15 00:00:00  \n",
              "99415           2017-10-23 00:00:00  \n",
              "\n",
              "[1637 rows x 8 columns]"
            ]
          },
          "execution_count": 40,
          "metadata": {},
          "output_type": "execute_result"
        }
      ],
      "source": [
        "orders_df[orders_df.order_delivered_carrier_date.isna()]"
      ]
    },
    {
      "cell_type": "code",
      "execution_count": 41,
      "metadata": {
        "colab": {
          "base_uri": "https://localhost:8080/",
          "height": 0
        },
        "id": "cGe_devliD0Y",
        "outputId": "1c05056b-5982-4e69-977a-bd08b2a10255"
      },
      "outputs": [
        {
          "data": {
            "text/plain": [
              "order_delivered_carrier_date\n",
              "2018-05-09 15:48:00    47\n",
              "2018-05-10 18:29:00    32\n",
              "2018-05-07 12:31:00    21\n",
              "2018-05-02 15:15:00    16\n",
              "2018-07-24 16:07:00    16\n",
              "                       ..\n",
              "2018-01-03 17:37:21     1\n",
              "2017-10-27 20:07:58     1\n",
              "2017-11-21 18:57:37     1\n",
              "2018-03-21 20:03:37     1\n",
              "2018-03-09 22:11:59     1\n",
              "Name: count, Length: 81006, dtype: int64"
            ]
          },
          "execution_count": 41,
          "metadata": {},
          "output_type": "execute_result"
        }
      ],
      "source": [
        "orders_df.order_delivered_carrier_date.value_counts()"
      ]
    },
    {
      "cell_type": "markdown",
      "metadata": {
        "id": "FnWH7TXltgah"
      },
      "source": [
        "**Kalau dilihat lihat kolom tersebut dalam format tanggal (datetime), jadi perlu mengonversi kolom menjadi format tanggal dan kemudian mengisi missing value**"
      ]
    },
    {
      "cell_type": "code",
      "execution_count": 42,
      "metadata": {
        "id": "zmrfPWy8s8lK"
      },
      "outputs": [],
      "source": [
        "orders_df['order_delivered_carrier_date'] = pd.to_datetime(orders_df['order_delivered_carrier_date'], errors='coerce')"
      ]
    },
    {
      "cell_type": "markdown",
      "metadata": {
        "id": "F6XMPRKey8sp"
      },
      "source": [
        "**Untuk analisis tren penjualan dari waktu ke waktu, kita gunakan median memberikan nilai tengah yang tidak terpengaruh oleh data ekstrem, sehingga bisa memberikan gambaran yang lebih stabil dan akurat.**"
      ]
    },
    {
      "cell_type": "code",
      "execution_count": 43,
      "metadata": {
        "id": "pFG_mze0iuZI"
      },
      "outputs": [],
      "source": [
        "average_date = orders_df['order_delivered_carrier_date'].mean()\n",
        "orders_df['order_delivered_carrier_date'] = orders_df['order_delivered_carrier_date'].fillna(average_date)"
      ]
    },
    {
      "cell_type": "code",
      "execution_count": 44,
      "metadata": {
        "colab": {
          "base_uri": "https://localhost:8080/"
        },
        "id": "0_UPg6zXuUYn",
        "outputId": "5c84e4d4-d72b-44ba-a2b2-3a28b03150b3"
      },
      "outputs": [
        {
          "name": "stdout",
          "output_type": "stream",
          "text": [
            "Jumlah missing value setelah pembersihan (order_delivered_carrier_date:\n",
            " order_id                            0\n",
            "customer_id                         0\n",
            "order_status                        0\n",
            "order_purchase_timestamp            0\n",
            "order_approved_at                   0\n",
            "order_delivered_carrier_date        0\n",
            "order_delivered_customer_date    2819\n",
            "order_estimated_delivery_date       0\n",
            "dtype: int64\n"
          ]
        }
      ],
      "source": [
        "print(\"Jumlah missing value setelah pembersihan (order_delivered_carrier_date:\\n\", orders_df.isna().sum())"
      ]
    },
    {
      "cell_type": "markdown",
      "metadata": {
        "id": "6ZCcGYkVfZIP"
      },
      "source": [
        "##### Menangani kolom order_delivered_customer_date"
      ]
    },
    {
      "cell_type": "code",
      "execution_count": 45,
      "metadata": {
        "colab": {
          "base_uri": "https://localhost:8080/",
          "height": 0
        },
        "id": "ffh9KuZ8dL6c",
        "outputId": "5ceec77c-edd9-48e8-9823-e19e7e062c98"
      },
      "outputs": [
        {
          "data": {
            "text/html": [
              "<div>\n",
              "<style scoped>\n",
              "    .dataframe tbody tr th:only-of-type {\n",
              "        vertical-align: middle;\n",
              "    }\n",
              "\n",
              "    .dataframe tbody tr th {\n",
              "        vertical-align: top;\n",
              "    }\n",
              "\n",
              "    .dataframe thead th {\n",
              "        text-align: right;\n",
              "    }\n",
              "</style>\n",
              "<table border=\"1\" class=\"dataframe\">\n",
              "  <thead>\n",
              "    <tr style=\"text-align: right;\">\n",
              "      <th></th>\n",
              "      <th>order_id</th>\n",
              "      <th>customer_id</th>\n",
              "      <th>order_status</th>\n",
              "      <th>order_purchase_timestamp</th>\n",
              "      <th>order_approved_at</th>\n",
              "      <th>order_delivered_carrier_date</th>\n",
              "      <th>order_delivered_customer_date</th>\n",
              "      <th>order_estimated_delivery_date</th>\n",
              "    </tr>\n",
              "  </thead>\n",
              "  <tbody>\n",
              "    <tr>\n",
              "      <th>6</th>\n",
              "      <td>136cce7faa42fdb2cefd53fdc79a6098</td>\n",
              "      <td>ed0271e0b7da060a393796590e7b737a</td>\n",
              "      <td>invoiced</td>\n",
              "      <td>2017-04-11 12:22:08</td>\n",
              "      <td>2017-04-13 13:25:17</td>\n",
              "      <td>2018-01-04 22:55:51.933677056</td>\n",
              "      <td>NaN</td>\n",
              "      <td>2017-05-09 00:00:00</td>\n",
              "    </tr>\n",
              "    <tr>\n",
              "      <th>44</th>\n",
              "      <td>ee64d42b8cf066f35eac1cf57de1aa85</td>\n",
              "      <td>caded193e8e47b8362864762a83db3c5</td>\n",
              "      <td>shipped</td>\n",
              "      <td>2018-06-04 16:44:48</td>\n",
              "      <td>2018-06-05 04:31:18</td>\n",
              "      <td>2018-06-05 14:32:00.000000000</td>\n",
              "      <td>NaN</td>\n",
              "      <td>2018-06-28 00:00:00</td>\n",
              "    </tr>\n",
              "    <tr>\n",
              "      <th>103</th>\n",
              "      <td>0760a852e4e9d89eb77bf631eaaf1c84</td>\n",
              "      <td>d2a79636084590b7465af8ab374a8cf5</td>\n",
              "      <td>invoiced</td>\n",
              "      <td>2018-08-03 17:44:42</td>\n",
              "      <td>2018-08-07 06:15:14</td>\n",
              "      <td>2018-01-04 22:55:51.933677056</td>\n",
              "      <td>NaN</td>\n",
              "      <td>2018-08-21 00:00:00</td>\n",
              "    </tr>\n",
              "    <tr>\n",
              "      <th>128</th>\n",
              "      <td>15bed8e2fec7fdbadb186b57c46c92f2</td>\n",
              "      <td>f3f0e613e0bdb9c7cee75504f0f90679</td>\n",
              "      <td>processing</td>\n",
              "      <td>2017-09-03 14:22:03</td>\n",
              "      <td>2017-09-03 14:30:09</td>\n",
              "      <td>2018-01-04 22:55:51.933677056</td>\n",
              "      <td>NaN</td>\n",
              "      <td>2017-10-03 00:00:00</td>\n",
              "    </tr>\n",
              "    <tr>\n",
              "      <th>154</th>\n",
              "      <td>6942b8da583c2f9957e990d028607019</td>\n",
              "      <td>52006a9383bf149a4fb24226b173106f</td>\n",
              "      <td>shipped</td>\n",
              "      <td>2018-01-10 11:33:07</td>\n",
              "      <td>2018-01-11 02:32:30</td>\n",
              "      <td>2018-01-11 19:39:23.000000000</td>\n",
              "      <td>NaN</td>\n",
              "      <td>2018-02-07 00:00:00</td>\n",
              "    </tr>\n",
              "    <tr>\n",
              "      <th>...</th>\n",
              "      <td>...</td>\n",
              "      <td>...</td>\n",
              "      <td>...</td>\n",
              "      <td>...</td>\n",
              "      <td>...</td>\n",
              "      <td>...</td>\n",
              "      <td>...</td>\n",
              "      <td>...</td>\n",
              "    </tr>\n",
              "    <tr>\n",
              "      <th>99233</th>\n",
              "      <td>1c7c8ab324927f5b6e52338bd110bef4</td>\n",
              "      <td>95b1767df51d6fa09402267d8de314df</td>\n",
              "      <td>unavailable</td>\n",
              "      <td>2017-12-23 18:48:09</td>\n",
              "      <td>2017-12-23 18:54:22</td>\n",
              "      <td>2018-01-04 22:55:51.933677056</td>\n",
              "      <td>NaN</td>\n",
              "      <td>2018-01-19 00:00:00</td>\n",
              "    </tr>\n",
              "    <tr>\n",
              "      <th>99252</th>\n",
              "      <td>aaab15da689073f8f9aa978a390a69d1</td>\n",
              "      <td>df20748206e4b865b2f14a5eabbfcf34</td>\n",
              "      <td>unavailable</td>\n",
              "      <td>2018-01-16 14:27:59</td>\n",
              "      <td>2018-01-17 03:37:34</td>\n",
              "      <td>2018-01-04 22:55:51.933677056</td>\n",
              "      <td>NaN</td>\n",
              "      <td>2018-02-06 00:00:00</td>\n",
              "    </tr>\n",
              "    <tr>\n",
              "      <th>99313</th>\n",
              "      <td>e9e64a17afa9653aacf2616d94c005b8</td>\n",
              "      <td>b4cd0522e632e481f8eaf766a2646e86</td>\n",
              "      <td>processing</td>\n",
              "      <td>2018-01-05 23:07:24</td>\n",
              "      <td>2018-01-09 07:18:05</td>\n",
              "      <td>2018-01-04 22:55:51.933677056</td>\n",
              "      <td>NaN</td>\n",
              "      <td>2018-02-06 00:00:00</td>\n",
              "    </tr>\n",
              "    <tr>\n",
              "      <th>99348</th>\n",
              "      <td>a69ba794cc7deb415c3e15a0a3877e69</td>\n",
              "      <td>726f0894b5becdf952ea537d5266e543</td>\n",
              "      <td>unavailable</td>\n",
              "      <td>2017-08-23 16:28:04</td>\n",
              "      <td>2017-08-28 15:44:47</td>\n",
              "      <td>2018-01-04 22:55:51.933677056</td>\n",
              "      <td>NaN</td>\n",
              "      <td>2017-09-15 00:00:00</td>\n",
              "    </tr>\n",
              "    <tr>\n",
              "      <th>99415</th>\n",
              "      <td>5fabc81b6322c8443648e1b21a6fef21</td>\n",
              "      <td>32c9df889d41b0ee8309a5efb6855dcb</td>\n",
              "      <td>unavailable</td>\n",
              "      <td>2017-10-10 10:50:03</td>\n",
              "      <td>2017-10-14 18:35:57</td>\n",
              "      <td>2018-01-04 22:55:51.933677056</td>\n",
              "      <td>NaN</td>\n",
              "      <td>2017-10-23 00:00:00</td>\n",
              "    </tr>\n",
              "  </tbody>\n",
              "</table>\n",
              "<p>2819 rows × 8 columns</p>\n",
              "</div>"
            ],
            "text/plain": [
              "                               order_id                       customer_id  \\\n",
              "6      136cce7faa42fdb2cefd53fdc79a6098  ed0271e0b7da060a393796590e7b737a   \n",
              "44     ee64d42b8cf066f35eac1cf57de1aa85  caded193e8e47b8362864762a83db3c5   \n",
              "103    0760a852e4e9d89eb77bf631eaaf1c84  d2a79636084590b7465af8ab374a8cf5   \n",
              "128    15bed8e2fec7fdbadb186b57c46c92f2  f3f0e613e0bdb9c7cee75504f0f90679   \n",
              "154    6942b8da583c2f9957e990d028607019  52006a9383bf149a4fb24226b173106f   \n",
              "...                                 ...                               ...   \n",
              "99233  1c7c8ab324927f5b6e52338bd110bef4  95b1767df51d6fa09402267d8de314df   \n",
              "99252  aaab15da689073f8f9aa978a390a69d1  df20748206e4b865b2f14a5eabbfcf34   \n",
              "99313  e9e64a17afa9653aacf2616d94c005b8  b4cd0522e632e481f8eaf766a2646e86   \n",
              "99348  a69ba794cc7deb415c3e15a0a3877e69  726f0894b5becdf952ea537d5266e543   \n",
              "99415  5fabc81b6322c8443648e1b21a6fef21  32c9df889d41b0ee8309a5efb6855dcb   \n",
              "\n",
              "      order_status order_purchase_timestamp    order_approved_at  \\\n",
              "6         invoiced      2017-04-11 12:22:08  2017-04-13 13:25:17   \n",
              "44         shipped      2018-06-04 16:44:48  2018-06-05 04:31:18   \n",
              "103       invoiced      2018-08-03 17:44:42  2018-08-07 06:15:14   \n",
              "128     processing      2017-09-03 14:22:03  2017-09-03 14:30:09   \n",
              "154        shipped      2018-01-10 11:33:07  2018-01-11 02:32:30   \n",
              "...            ...                      ...                  ...   \n",
              "99233  unavailable      2017-12-23 18:48:09  2017-12-23 18:54:22   \n",
              "99252  unavailable      2018-01-16 14:27:59  2018-01-17 03:37:34   \n",
              "99313   processing      2018-01-05 23:07:24  2018-01-09 07:18:05   \n",
              "99348  unavailable      2017-08-23 16:28:04  2017-08-28 15:44:47   \n",
              "99415  unavailable      2017-10-10 10:50:03  2017-10-14 18:35:57   \n",
              "\n",
              "       order_delivered_carrier_date order_delivered_customer_date  \\\n",
              "6     2018-01-04 22:55:51.933677056                           NaN   \n",
              "44    2018-06-05 14:32:00.000000000                           NaN   \n",
              "103   2018-01-04 22:55:51.933677056                           NaN   \n",
              "128   2018-01-04 22:55:51.933677056                           NaN   \n",
              "154   2018-01-11 19:39:23.000000000                           NaN   \n",
              "...                             ...                           ...   \n",
              "99233 2018-01-04 22:55:51.933677056                           NaN   \n",
              "99252 2018-01-04 22:55:51.933677056                           NaN   \n",
              "99313 2018-01-04 22:55:51.933677056                           NaN   \n",
              "99348 2018-01-04 22:55:51.933677056                           NaN   \n",
              "99415 2018-01-04 22:55:51.933677056                           NaN   \n",
              "\n",
              "      order_estimated_delivery_date  \n",
              "6               2017-05-09 00:00:00  \n",
              "44              2018-06-28 00:00:00  \n",
              "103             2018-08-21 00:00:00  \n",
              "128             2017-10-03 00:00:00  \n",
              "154             2018-02-07 00:00:00  \n",
              "...                             ...  \n",
              "99233           2018-01-19 00:00:00  \n",
              "99252           2018-02-06 00:00:00  \n",
              "99313           2018-02-06 00:00:00  \n",
              "99348           2017-09-15 00:00:00  \n",
              "99415           2017-10-23 00:00:00  \n",
              "\n",
              "[2819 rows x 8 columns]"
            ]
          },
          "execution_count": 45,
          "metadata": {},
          "output_type": "execute_result"
        }
      ],
      "source": [
        "orders_df[orders_df.order_delivered_customer_date.isna()]\n"
      ]
    },
    {
      "cell_type": "code",
      "execution_count": 46,
      "metadata": {
        "colab": {
          "base_uri": "https://localhost:8080/",
          "height": 0
        },
        "id": "f_A5Ldm4u4Wm",
        "outputId": "7c233f41-8ca2-4f8f-ea01-7ec661ff8194"
      },
      "outputs": [
        {
          "data": {
            "text/plain": [
              "order_delivered_customer_date\n",
              "2018-07-24 21:36:42    3\n",
              "2017-06-19 18:47:51    3\n",
              "2018-05-08 19:36:48    3\n",
              "2017-12-02 00:26:45    3\n",
              "2016-10-27 17:32:07    3\n",
              "                      ..\n",
              "2018-03-21 15:49:44    1\n",
              "2018-02-03 00:19:59    1\n",
              "2018-07-12 17:48:45    1\n",
              "2018-05-18 18:24:36    1\n",
              "2018-03-16 13:08:30    1\n",
              "Name: count, Length: 95650, dtype: int64"
            ]
          },
          "execution_count": 46,
          "metadata": {},
          "output_type": "execute_result"
        }
      ],
      "source": [
        "orders_df.order_delivered_customer_date.value_counts()"
      ]
    },
    {
      "cell_type": "markdown",
      "metadata": {
        "id": "4EKJlRCNvwbp"
      },
      "source": [
        "**kasus yang ini sama seperti mising value sebelumnnya jadi perlu mengonversi kolom menjadi format tanggal (date time) dan kemudian mengisi missing value**"
      ]
    },
    {
      "cell_type": "code",
      "execution_count": 47,
      "metadata": {
        "id": "rESmREKawXgk"
      },
      "outputs": [],
      "source": [
        "orders_df['order_delivered_customer_date'] = pd.to_datetime(orders_df['order_delivered_customer_date'], errors='coerce')"
      ]
    },
    {
      "cell_type": "markdown",
      "metadata": {
        "id": "Io2LCdJ6zuyi"
      },
      "source": [
        "**Untuk analisis tren penjualan dari waktu ke waktu, kita gunakan median memberikan nilai tengah yang tidak terpengaruh oleh data ekstrem, sehingga bisa memberikan gambaran yang lebih stabil dan akurat.**"
      ]
    },
    {
      "cell_type": "code",
      "execution_count": 48,
      "metadata": {
        "id": "W56IlNaYzhA0"
      },
      "outputs": [],
      "source": [
        "median_date = orders_df['order_delivered_customer_date'].median()\n",
        "orders_df['order_delivered_customer_date'] = orders_df['order_delivered_customer_date'].fillna(median_date)"
      ]
    },
    {
      "cell_type": "code",
      "execution_count": 49,
      "metadata": {
        "colab": {
          "base_uri": "https://localhost:8080/"
        },
        "id": "2J0xBsp6z59A",
        "outputId": "b75a54bd-0fe3-4cd3-d78e-43adb2435ef2"
      },
      "outputs": [
        {
          "name": "stdout",
          "output_type": "stream",
          "text": [
            "Jumlah missing value (order_delivered_customer_date) setelah pembersihan:\n",
            " order_id                         0\n",
            "customer_id                      0\n",
            "order_status                     0\n",
            "order_purchase_timestamp         0\n",
            "order_approved_at                0\n",
            "order_delivered_carrier_date     0\n",
            "order_delivered_customer_date    0\n",
            "order_estimated_delivery_date    0\n",
            "dtype: int64\n"
          ]
        }
      ],
      "source": [
        "print(\"Jumlah missing value (order_delivered_customer_date) setelah pembersihan:\\n\", orders_df.isna().sum())"
      ]
    },
    {
      "cell_type": "markdown",
      "metadata": {
        "id": "DVPuRd8nucKh"
      },
      "source": [
        "##### Pengecekan Akhir Setalah Pembersihan 3 Missing Value"
      ]
    },
    {
      "cell_type": "code",
      "execution_count": 50,
      "metadata": {
        "colab": {
          "base_uri": "https://localhost:8080/",
          "height": 0
        },
        "id": "eeKKGhh0unFb",
        "outputId": "14c5e8eb-fc1f-45f4-d2ed-1d39b811d50f"
      },
      "outputs": [
        {
          "data": {
            "text/plain": [
              "order_id                         0\n",
              "customer_id                      0\n",
              "order_status                     0\n",
              "order_purchase_timestamp         0\n",
              "order_approved_at                0\n",
              "order_delivered_carrier_date     0\n",
              "order_delivered_customer_date    0\n",
              "order_estimated_delivery_date    0\n",
              "dtype: int64"
            ]
          },
          "execution_count": 50,
          "metadata": {},
          "output_type": "execute_result"
        }
      ],
      "source": [
        "orders_df.isna().sum()"
      ]
    },
    {
      "cell_type": "markdown",
      "metadata": {
        "id": "3TUmUktoWw-5"
      },
      "source": [
        "#### Membersihkan Data payments_df"
      ]
    },
    {
      "cell_type": "code",
      "execution_count": 51,
      "metadata": {
        "colab": {
          "base_uri": "https://localhost:8080/",
          "height": 0
        },
        "id": "JyrCNSrm2MVe",
        "outputId": "41b80cc6-0427-40e7-ff6d-f143d8cd17d0"
      },
      "outputs": [
        {
          "data": {
            "text/plain": [
              "order_id                0\n",
              "payment_sequential      0\n",
              "payment_type            0\n",
              "payment_installments    0\n",
              "payment_value           0\n",
              "dtype: int64"
            ]
          },
          "execution_count": 51,
          "metadata": {},
          "output_type": "execute_result"
        }
      ],
      "source": [
        "payments_df.isna().sum()"
      ]
    },
    {
      "cell_type": "markdown",
      "metadata": {
        "id": "qOrcYueF2Rj6"
      },
      "source": [
        "**Dikarena Tidak Ditemui Duplikat & Missing Value, jadi di cek outlier, agar tidak ada data yang tidak sesuai.**"
      ]
    },
    {
      "cell_type": "markdown",
      "metadata": {
        "id": "m6Jv71GHjYTW"
      },
      "source": [
        "##### Mengecek outlier (payment_sequential <= payment_installments)"
      ]
    },
    {
      "cell_type": "code",
      "execution_count": 52,
      "metadata": {
        "id": "Y-pSwhBr1Oaz"
      },
      "outputs": [],
      "source": [
        "Q1 = payments_df['payment_value'].quantile(0.25)\n",
        "Q3 = payments_df['payment_value'].quantile(0.75)\n",
        "IQR = Q3 - Q1\n",
        "\n",
        "maximum = Q3 + (1.5 * IQR)\n",
        "minimum = Q1 - (1.5 * IQR)\n",
        "\n",
        "kondisi_lower_than = payments_df['payment_value'] < minimum\n",
        "kondisi_more_than = payments_df['payment_value'] > maximum\n",
        "\n",
        "payments_df.drop(payments_df[kondisi_lower_than].index, inplace=True)\n",
        "payments_df.drop(payments_df[kondisi_more_than].index, inplace=True)"
      ]
    },
    {
      "cell_type": "code",
      "execution_count": 53,
      "metadata": {
        "id": "Mx2itfc21gIT"
      },
      "outputs": [],
      "source": [
        "invalid_sequential = payments_df[payments_df['payment_sequential'] > payments_df['payment_installments']]"
      ]
    },
    {
      "cell_type": "code",
      "execution_count": 54,
      "metadata": {
        "colab": {
          "base_uri": "https://localhost:8080/"
        },
        "id": "HcatO3nV1oWV",
        "outputId": "24139127-66f1-4425-efe5-1077f743da6c"
      },
      "outputs": [
        {
          "name": "stdout",
          "output_type": "stream",
          "text": [
            "Data yang tidak valid (payment_sequential > payment_installments):\n",
            "                                order_id  payment_sequential payment_type  \\\n",
            "25      5cfd514482e22bc992e7693f0e3e8df7                   2      voucher   \n",
            "75      3689194c14ad4e2e7361ebd1df0e77b0                   2      voucher   \n",
            "102     21b8b46679ea6482cbf911d960490048                   2      voucher   \n",
            "121     ea9184ad433a404df1d72fa0a8764232                   4      voucher   \n",
            "139     82ffe097d8ddbf319a523b9bbe7725d5                   2      voucher   \n",
            "...                                  ...                 ...          ...   \n",
            "103569  fedcd9f7ccdc8cba3a18defedd1a5547                   6      voucher   \n",
            "103732  f0a5b7c94819c69d12a1c0458ec74756                   2      voucher   \n",
            "103747  cf101c3abd3c061ca9f78c1bbb1125af                   3      voucher   \n",
            "103750  d0bff47153ef056bb4f884a2ec2f0691                   2      voucher   \n",
            "103860  31bc09fdbd701a7a4f9b55b5955b8687                   6      voucher   \n",
            "\n",
            "        payment_installments  payment_value  \n",
            "25                         1          45.17  \n",
            "75                         1          57.53  \n",
            "102                        1          43.12  \n",
            "121                        1          22.49  \n",
            "139                        1          30.00  \n",
            "...                      ...            ...  \n",
            "103569                     1           8.60  \n",
            "103732                     1          80.40  \n",
            "103747                     1           8.46  \n",
            "103750                     1          41.89  \n",
            "103860                     1          77.99  \n",
            "\n",
            "[4270 rows x 5 columns]\n"
          ]
        }
      ],
      "source": [
        "print(\"Data yang tidak valid (payment_sequential > payment_installments):\")\n",
        "print(invalid_sequential)"
      ]
    },
    {
      "cell_type": "code",
      "execution_count": 55,
      "metadata": {
        "id": "rXVmLYoH1qsU"
      },
      "outputs": [],
      "source": [
        "payments_df.drop(payments_df[payments_df['payment_sequential'] > payments_df['payment_installments']].index, inplace=True)"
      ]
    },
    {
      "cell_type": "code",
      "execution_count": 56,
      "metadata": {
        "id": "EOu1zsO71sq1"
      },
      "outputs": [],
      "source": [
        "invalid_sequential = payments_df[payments_df['payment_sequential'] > payments_df['payment_installments']]"
      ]
    },
    {
      "cell_type": "code",
      "execution_count": 57,
      "metadata": {
        "colab": {
          "base_uri": "https://localhost:8080/"
        },
        "id": "hXMROGKT1uJp",
        "outputId": "9a269a25-0776-4ef6-85b6-2f7b29285953"
      },
      "outputs": [
        {
          "name": "stdout",
          "output_type": "stream",
          "text": [
            "Data yang tidak valid setelah penghapusan:\n",
            "Empty DataFrame\n",
            "Columns: [order_id, payment_sequential, payment_type, payment_installments, payment_value]\n",
            "Index: []\n"
          ]
        }
      ],
      "source": [
        "print(\"Data yang tidak valid setelah penghapusan:\")\n",
        "print(invalid_sequential)"
      ]
    },
    {
      "cell_type": "markdown",
      "metadata": {
        "id": "vB0K-09Qnwni"
      },
      "source": [
        "#### Membersihkan Data items_df"
      ]
    },
    {
      "cell_type": "code",
      "execution_count": 58,
      "metadata": {
        "colab": {
          "base_uri": "https://localhost:8080/",
          "height": 0
        },
        "id": "PRRos0r_oQ-b",
        "outputId": "9920e250-5eb5-4bb0-bdcb-87e8e21828cf"
      },
      "outputs": [
        {
          "data": {
            "text/plain": [
              "order_id               0\n",
              "order_item_id          0\n",
              "product_id             0\n",
              "seller_id              0\n",
              "shipping_limit_date    0\n",
              "price                  0\n",
              "freight_value          0\n",
              "dtype: int64"
            ]
          },
          "execution_count": 58,
          "metadata": {},
          "output_type": "execute_result"
        }
      ],
      "source": [
        "items_df.isna().sum()"
      ]
    },
    {
      "cell_type": "markdown",
      "metadata": {
        "id": "jhmdOVu4oY5-"
      },
      "source": [
        "**Dikarena Tidak Ditemui Duplikat & Missing Value, jadi di cek outlier, agar tidak ada data yang tidak sesuai.**"
      ]
    },
    {
      "cell_type": "code",
      "execution_count": 59,
      "metadata": {
        "colab": {
          "base_uri": "https://localhost:8080/",
          "height": 0
        },
        "id": "_G_hmVrioX_I",
        "outputId": "e53b72cd-2e4c-4650-a55d-ef803fbca609"
      },
      "outputs": [
        {
          "data": {
            "text/html": [
              "<div>\n",
              "<style scoped>\n",
              "    .dataframe tbody tr th:only-of-type {\n",
              "        vertical-align: middle;\n",
              "    }\n",
              "\n",
              "    .dataframe tbody tr th {\n",
              "        vertical-align: top;\n",
              "    }\n",
              "\n",
              "    .dataframe thead th {\n",
              "        text-align: right;\n",
              "    }\n",
              "</style>\n",
              "<table border=\"1\" class=\"dataframe\">\n",
              "  <thead>\n",
              "    <tr style=\"text-align: right;\">\n",
              "      <th></th>\n",
              "      <th>order_id</th>\n",
              "      <th>order_item_id</th>\n",
              "      <th>product_id</th>\n",
              "      <th>seller_id</th>\n",
              "      <th>shipping_limit_date</th>\n",
              "      <th>price</th>\n",
              "      <th>freight_value</th>\n",
              "    </tr>\n",
              "  </thead>\n",
              "  <tbody>\n",
              "    <tr>\n",
              "      <th>count</th>\n",
              "      <td>112650</td>\n",
              "      <td>112650.000000</td>\n",
              "      <td>112650</td>\n",
              "      <td>112650</td>\n",
              "      <td>112650</td>\n",
              "      <td>112650.000000</td>\n",
              "      <td>112650.000000</td>\n",
              "    </tr>\n",
              "    <tr>\n",
              "      <th>unique</th>\n",
              "      <td>98666</td>\n",
              "      <td>NaN</td>\n",
              "      <td>32951</td>\n",
              "      <td>3095</td>\n",
              "      <td>93318</td>\n",
              "      <td>NaN</td>\n",
              "      <td>NaN</td>\n",
              "    </tr>\n",
              "    <tr>\n",
              "      <th>top</th>\n",
              "      <td>8272b63d03f5f79c56e9e4120aec44ef</td>\n",
              "      <td>NaN</td>\n",
              "      <td>aca2eb7d00ea1a7b8ebd4e68314663af</td>\n",
              "      <td>6560211a19b47992c3666cc44a7e94c0</td>\n",
              "      <td>2017-07-21 18:25:23</td>\n",
              "      <td>NaN</td>\n",
              "      <td>NaN</td>\n",
              "    </tr>\n",
              "    <tr>\n",
              "      <th>freq</th>\n",
              "      <td>21</td>\n",
              "      <td>NaN</td>\n",
              "      <td>527</td>\n",
              "      <td>2033</td>\n",
              "      <td>21</td>\n",
              "      <td>NaN</td>\n",
              "      <td>NaN</td>\n",
              "    </tr>\n",
              "    <tr>\n",
              "      <th>mean</th>\n",
              "      <td>NaN</td>\n",
              "      <td>1.197834</td>\n",
              "      <td>NaN</td>\n",
              "      <td>NaN</td>\n",
              "      <td>NaN</td>\n",
              "      <td>120.653739</td>\n",
              "      <td>19.990320</td>\n",
              "    </tr>\n",
              "    <tr>\n",
              "      <th>std</th>\n",
              "      <td>NaN</td>\n",
              "      <td>0.705124</td>\n",
              "      <td>NaN</td>\n",
              "      <td>NaN</td>\n",
              "      <td>NaN</td>\n",
              "      <td>183.633928</td>\n",
              "      <td>15.806405</td>\n",
              "    </tr>\n",
              "    <tr>\n",
              "      <th>min</th>\n",
              "      <td>NaN</td>\n",
              "      <td>1.000000</td>\n",
              "      <td>NaN</td>\n",
              "      <td>NaN</td>\n",
              "      <td>NaN</td>\n",
              "      <td>0.850000</td>\n",
              "      <td>0.000000</td>\n",
              "    </tr>\n",
              "    <tr>\n",
              "      <th>25%</th>\n",
              "      <td>NaN</td>\n",
              "      <td>1.000000</td>\n",
              "      <td>NaN</td>\n",
              "      <td>NaN</td>\n",
              "      <td>NaN</td>\n",
              "      <td>39.900000</td>\n",
              "      <td>13.080000</td>\n",
              "    </tr>\n",
              "    <tr>\n",
              "      <th>50%</th>\n",
              "      <td>NaN</td>\n",
              "      <td>1.000000</td>\n",
              "      <td>NaN</td>\n",
              "      <td>NaN</td>\n",
              "      <td>NaN</td>\n",
              "      <td>74.990000</td>\n",
              "      <td>16.260000</td>\n",
              "    </tr>\n",
              "    <tr>\n",
              "      <th>75%</th>\n",
              "      <td>NaN</td>\n",
              "      <td>1.000000</td>\n",
              "      <td>NaN</td>\n",
              "      <td>NaN</td>\n",
              "      <td>NaN</td>\n",
              "      <td>134.900000</td>\n",
              "      <td>21.150000</td>\n",
              "    </tr>\n",
              "    <tr>\n",
              "      <th>max</th>\n",
              "      <td>NaN</td>\n",
              "      <td>21.000000</td>\n",
              "      <td>NaN</td>\n",
              "      <td>NaN</td>\n",
              "      <td>NaN</td>\n",
              "      <td>6735.000000</td>\n",
              "      <td>409.680000</td>\n",
              "    </tr>\n",
              "  </tbody>\n",
              "</table>\n",
              "</div>"
            ],
            "text/plain": [
              "                                order_id  order_item_id  \\\n",
              "count                             112650  112650.000000   \n",
              "unique                             98666            NaN   \n",
              "top     8272b63d03f5f79c56e9e4120aec44ef            NaN   \n",
              "freq                                  21            NaN   \n",
              "mean                                 NaN       1.197834   \n",
              "std                                  NaN       0.705124   \n",
              "min                                  NaN       1.000000   \n",
              "25%                                  NaN       1.000000   \n",
              "50%                                  NaN       1.000000   \n",
              "75%                                  NaN       1.000000   \n",
              "max                                  NaN      21.000000   \n",
              "\n",
              "                              product_id                         seller_id  \\\n",
              "count                             112650                            112650   \n",
              "unique                             32951                              3095   \n",
              "top     aca2eb7d00ea1a7b8ebd4e68314663af  6560211a19b47992c3666cc44a7e94c0   \n",
              "freq                                 527                              2033   \n",
              "mean                                 NaN                               NaN   \n",
              "std                                  NaN                               NaN   \n",
              "min                                  NaN                               NaN   \n",
              "25%                                  NaN                               NaN   \n",
              "50%                                  NaN                               NaN   \n",
              "75%                                  NaN                               NaN   \n",
              "max                                  NaN                               NaN   \n",
              "\n",
              "        shipping_limit_date          price  freight_value  \n",
              "count                112650  112650.000000  112650.000000  \n",
              "unique                93318            NaN            NaN  \n",
              "top     2017-07-21 18:25:23            NaN            NaN  \n",
              "freq                     21            NaN            NaN  \n",
              "mean                    NaN     120.653739      19.990320  \n",
              "std                     NaN     183.633928      15.806405  \n",
              "min                     NaN       0.850000       0.000000  \n",
              "25%                     NaN      39.900000      13.080000  \n",
              "50%                     NaN      74.990000      16.260000  \n",
              "75%                     NaN     134.900000      21.150000  \n",
              "max                     NaN    6735.000000     409.680000  "
            ]
          },
          "execution_count": 59,
          "metadata": {},
          "output_type": "execute_result"
        }
      ],
      "source": [
        "items_df.describe(include=\"all\")"
      ]
    },
    {
      "cell_type": "markdown",
      "metadata": {
        "id": "7CnqLK2FtMrS"
      },
      "source": [
        "##### Mengecek tipe data dan menyesuaikannya"
      ]
    },
    {
      "cell_type": "code",
      "execution_count": 60,
      "metadata": {
        "colab": {
          "base_uri": "https://localhost:8080/",
          "height": 0
        },
        "id": "iKSHOsKVv8Eu",
        "outputId": "3a4c8fdb-6385-4c41-f508-5eac528cac79"
      },
      "outputs": [
        {
          "data": {
            "text/plain": [
              "order_id                object\n",
              "order_item_id            int64\n",
              "product_id              object\n",
              "seller_id               object\n",
              "shipping_limit_date     object\n",
              "price                  float64\n",
              "freight_value          float64\n",
              "dtype: object"
            ]
          },
          "execution_count": 60,
          "metadata": {},
          "output_type": "execute_result"
        }
      ],
      "source": [
        "items_df.dtypes"
      ]
    },
    {
      "cell_type": "code",
      "execution_count": 61,
      "metadata": {
        "id": "RPYov3aPwLR1"
      },
      "outputs": [],
      "source": [
        "items_df['shipping_limit_date'] = pd.to_datetime(items_df['shipping_limit_date'], errors='coerce')"
      ]
    },
    {
      "cell_type": "code",
      "execution_count": 62,
      "metadata": {
        "id": "AZgSnFoxwOwe"
      },
      "outputs": [],
      "source": [
        "items_df['price'] = items_df['price'].astype(float)\n",
        "items_df['freight_value'] = items_df['freight_value'].astype(float)"
      ]
    },
    {
      "cell_type": "markdown",
      "metadata": {
        "id": "YR_ppd6f4L_W"
      },
      "source": [
        "**Menampilkan tipe data yang sudah sesuai**"
      ]
    },
    {
      "cell_type": "code",
      "execution_count": 63,
      "metadata": {
        "colab": {
          "base_uri": "https://localhost:8080/",
          "height": 0
        },
        "id": "IOXp3XStwYtt",
        "outputId": "11e4a766-7f9b-4f9e-d6ab-094ba42e3dee"
      },
      "outputs": [
        {
          "data": {
            "text/plain": [
              "order_id                       object\n",
              "order_item_id                   int64\n",
              "product_id                     object\n",
              "seller_id                      object\n",
              "shipping_limit_date    datetime64[ns]\n",
              "price                         float64\n",
              "freight_value                 float64\n",
              "dtype: object"
            ]
          },
          "execution_count": 63,
          "metadata": {},
          "output_type": "execute_result"
        }
      ],
      "source": [
        "items_df.dtypes"
      ]
    },
    {
      "cell_type": "markdown",
      "metadata": {
        "id": "1w5EEjHmz5VX"
      },
      "source": [
        "##### Cek harga dan biaya pengiriman yang negatif/tidak ada nialinnya"
      ]
    },
    {
      "cell_type": "code",
      "execution_count": 64,
      "metadata": {
        "colab": {
          "base_uri": "https://localhost:8080/"
        },
        "id": "HsmbM62rwS7K",
        "outputId": "fafe2e4d-7667-4a1c-cbe0-45558f3b4614"
      },
      "outputs": [
        {
          "name": "stdout",
          "output_type": "stream",
          "text": [
            "Jumlah harga negatif: 0\n",
            "Jumlah biaya pengiriman negatif: 0\n"
          ]
        }
      ],
      "source": [
        "negative_price = items_df[items_df['price'] < 0]\n",
        "negative_freight = items_df[items_df['freight_value'] < 0]\n",
        "\n",
        "print(f\"Jumlah harga negatif: {negative_price.shape[0]}\")\n",
        "print(f\"Jumlah biaya pengiriman negatif: {negative_freight.shape[0]}\")\n"
      ]
    },
    {
      "cell_type": "markdown",
      "metadata": {
        "id": "23VhNG7mz-xi"
      },
      "source": [
        "##### Mengecek duplikasi order id dan product id yang sama"
      ]
    },
    {
      "cell_type": "code",
      "execution_count": 65,
      "metadata": {
        "colab": {
          "base_uri": "https://localhost:8080/",
          "height": 0
        },
        "id": "sdWqnZZ0MPml",
        "outputId": "d8b54dc9-46d8-4660-b534-94de70cb6afb"
      },
      "outputs": [
        {
          "name": "stdout",
          "output_type": "stream",
          "text": [
            "Jumlah duplikasi berdasarkan order_id dan product_id: 10225\n"
          ]
        },
        {
          "data": {
            "text/html": [
              "<div>\n",
              "<style scoped>\n",
              "    .dataframe tbody tr th:only-of-type {\n",
              "        vertical-align: middle;\n",
              "    }\n",
              "\n",
              "    .dataframe tbody tr th {\n",
              "        vertical-align: top;\n",
              "    }\n",
              "\n",
              "    .dataframe thead th {\n",
              "        text-align: right;\n",
              "    }\n",
              "</style>\n",
              "<table border=\"1\" class=\"dataframe\">\n",
              "  <thead>\n",
              "    <tr style=\"text-align: right;\">\n",
              "      <th></th>\n",
              "      <th>order_id</th>\n",
              "      <th>order_item_id</th>\n",
              "      <th>product_id</th>\n",
              "      <th>seller_id</th>\n",
              "      <th>shipping_limit_date</th>\n",
              "      <th>price</th>\n",
              "      <th>freight_value</th>\n",
              "    </tr>\n",
              "  </thead>\n",
              "  <tbody>\n",
              "    <tr>\n",
              "      <th>13</th>\n",
              "      <td>0008288aa423d2a3f00fcb17cd7d8719</td>\n",
              "      <td>1</td>\n",
              "      <td>368c6c730842d78016ad823897a372db</td>\n",
              "      <td>1f50f920176fa81dab994f9023523100</td>\n",
              "      <td>2018-02-21 02:55:52</td>\n",
              "      <td>49.90</td>\n",
              "      <td>13.37</td>\n",
              "    </tr>\n",
              "    <tr>\n",
              "      <th>14</th>\n",
              "      <td>0008288aa423d2a3f00fcb17cd7d8719</td>\n",
              "      <td>2</td>\n",
              "      <td>368c6c730842d78016ad823897a372db</td>\n",
              "      <td>1f50f920176fa81dab994f9023523100</td>\n",
              "      <td>2018-02-21 02:55:52</td>\n",
              "      <td>49.90</td>\n",
              "      <td>13.37</td>\n",
              "    </tr>\n",
              "    <tr>\n",
              "      <th>32</th>\n",
              "      <td>00143d0f86d6fbd9f9b38ab440ac16f5</td>\n",
              "      <td>1</td>\n",
              "      <td>e95ee6822b66ac6058e2e4aff656071a</td>\n",
              "      <td>a17f621c590ea0fab3d5d883e1630ec6</td>\n",
              "      <td>2017-10-20 16:07:52</td>\n",
              "      <td>21.33</td>\n",
              "      <td>15.10</td>\n",
              "    </tr>\n",
              "    <tr>\n",
              "      <th>33</th>\n",
              "      <td>00143d0f86d6fbd9f9b38ab440ac16f5</td>\n",
              "      <td>2</td>\n",
              "      <td>e95ee6822b66ac6058e2e4aff656071a</td>\n",
              "      <td>a17f621c590ea0fab3d5d883e1630ec6</td>\n",
              "      <td>2017-10-20 16:07:52</td>\n",
              "      <td>21.33</td>\n",
              "      <td>15.10</td>\n",
              "    </tr>\n",
              "    <tr>\n",
              "      <th>34</th>\n",
              "      <td>00143d0f86d6fbd9f9b38ab440ac16f5</td>\n",
              "      <td>3</td>\n",
              "      <td>e95ee6822b66ac6058e2e4aff656071a</td>\n",
              "      <td>a17f621c590ea0fab3d5d883e1630ec6</td>\n",
              "      <td>2017-10-20 16:07:52</td>\n",
              "      <td>21.33</td>\n",
              "      <td>15.10</td>\n",
              "    </tr>\n",
              "    <tr>\n",
              "      <th>...</th>\n",
              "      <td>...</td>\n",
              "      <td>...</td>\n",
              "      <td>...</td>\n",
              "      <td>...</td>\n",
              "      <td>...</td>\n",
              "      <td>...</td>\n",
              "      <td>...</td>\n",
              "    </tr>\n",
              "    <tr>\n",
              "      <th>112634</th>\n",
              "      <td>fff8287bbae429a99bb7e8c21d151c41</td>\n",
              "      <td>1</td>\n",
              "      <td>bee2e070c39f3dd2f6883a17a5f0da45</td>\n",
              "      <td>4e922959ae960d389249c378d1c939f5</td>\n",
              "      <td>2018-03-27 12:29:22</td>\n",
              "      <td>180.00</td>\n",
              "      <td>48.14</td>\n",
              "    </tr>\n",
              "    <tr>\n",
              "      <th>112641</th>\n",
              "      <td>fffb9224b6fc7c43ebb0904318b10b5f</td>\n",
              "      <td>2</td>\n",
              "      <td>43423cdffde7fda63d0414ed38c11a73</td>\n",
              "      <td>b1fc4f64df5a0e8b6913ab38803c57a9</td>\n",
              "      <td>2017-11-03 02:55:58</td>\n",
              "      <td>55.00</td>\n",
              "      <td>34.19</td>\n",
              "    </tr>\n",
              "    <tr>\n",
              "      <th>112642</th>\n",
              "      <td>fffb9224b6fc7c43ebb0904318b10b5f</td>\n",
              "      <td>3</td>\n",
              "      <td>43423cdffde7fda63d0414ed38c11a73</td>\n",
              "      <td>b1fc4f64df5a0e8b6913ab38803c57a9</td>\n",
              "      <td>2017-11-03 02:55:58</td>\n",
              "      <td>55.00</td>\n",
              "      <td>34.19</td>\n",
              "    </tr>\n",
              "    <tr>\n",
              "      <th>112640</th>\n",
              "      <td>fffb9224b6fc7c43ebb0904318b10b5f</td>\n",
              "      <td>1</td>\n",
              "      <td>43423cdffde7fda63d0414ed38c11a73</td>\n",
              "      <td>b1fc4f64df5a0e8b6913ab38803c57a9</td>\n",
              "      <td>2017-11-03 02:55:58</td>\n",
              "      <td>55.00</td>\n",
              "      <td>34.19</td>\n",
              "    </tr>\n",
              "    <tr>\n",
              "      <th>112643</th>\n",
              "      <td>fffb9224b6fc7c43ebb0904318b10b5f</td>\n",
              "      <td>4</td>\n",
              "      <td>43423cdffde7fda63d0414ed38c11a73</td>\n",
              "      <td>b1fc4f64df5a0e8b6913ab38803c57a9</td>\n",
              "      <td>2017-11-03 02:55:58</td>\n",
              "      <td>55.00</td>\n",
              "      <td>34.19</td>\n",
              "    </tr>\n",
              "  </tbody>\n",
              "</table>\n",
              "<p>17313 rows × 7 columns</p>\n",
              "</div>"
            ],
            "text/plain": [
              "                                order_id  order_item_id  \\\n",
              "13      0008288aa423d2a3f00fcb17cd7d8719              1   \n",
              "14      0008288aa423d2a3f00fcb17cd7d8719              2   \n",
              "32      00143d0f86d6fbd9f9b38ab440ac16f5              1   \n",
              "33      00143d0f86d6fbd9f9b38ab440ac16f5              2   \n",
              "34      00143d0f86d6fbd9f9b38ab440ac16f5              3   \n",
              "...                                  ...            ...   \n",
              "112634  fff8287bbae429a99bb7e8c21d151c41              1   \n",
              "112641  fffb9224b6fc7c43ebb0904318b10b5f              2   \n",
              "112642  fffb9224b6fc7c43ebb0904318b10b5f              3   \n",
              "112640  fffb9224b6fc7c43ebb0904318b10b5f              1   \n",
              "112643  fffb9224b6fc7c43ebb0904318b10b5f              4   \n",
              "\n",
              "                              product_id                         seller_id  \\\n",
              "13      368c6c730842d78016ad823897a372db  1f50f920176fa81dab994f9023523100   \n",
              "14      368c6c730842d78016ad823897a372db  1f50f920176fa81dab994f9023523100   \n",
              "32      e95ee6822b66ac6058e2e4aff656071a  a17f621c590ea0fab3d5d883e1630ec6   \n",
              "33      e95ee6822b66ac6058e2e4aff656071a  a17f621c590ea0fab3d5d883e1630ec6   \n",
              "34      e95ee6822b66ac6058e2e4aff656071a  a17f621c590ea0fab3d5d883e1630ec6   \n",
              "...                                  ...                               ...   \n",
              "112634  bee2e070c39f3dd2f6883a17a5f0da45  4e922959ae960d389249c378d1c939f5   \n",
              "112641  43423cdffde7fda63d0414ed38c11a73  b1fc4f64df5a0e8b6913ab38803c57a9   \n",
              "112642  43423cdffde7fda63d0414ed38c11a73  b1fc4f64df5a0e8b6913ab38803c57a9   \n",
              "112640  43423cdffde7fda63d0414ed38c11a73  b1fc4f64df5a0e8b6913ab38803c57a9   \n",
              "112643  43423cdffde7fda63d0414ed38c11a73  b1fc4f64df5a0e8b6913ab38803c57a9   \n",
              "\n",
              "       shipping_limit_date   price  freight_value  \n",
              "13     2018-02-21 02:55:52   49.90          13.37  \n",
              "14     2018-02-21 02:55:52   49.90          13.37  \n",
              "32     2017-10-20 16:07:52   21.33          15.10  \n",
              "33     2017-10-20 16:07:52   21.33          15.10  \n",
              "34     2017-10-20 16:07:52   21.33          15.10  \n",
              "...                    ...     ...            ...  \n",
              "112634 2018-03-27 12:29:22  180.00          48.14  \n",
              "112641 2017-11-03 02:55:58   55.00          34.19  \n",
              "112642 2017-11-03 02:55:58   55.00          34.19  \n",
              "112640 2017-11-03 02:55:58   55.00          34.19  \n",
              "112643 2017-11-03 02:55:58   55.00          34.19  \n",
              "\n",
              "[17313 rows x 7 columns]"
            ]
          },
          "execution_count": 65,
          "metadata": {},
          "output_type": "execute_result"
        }
      ],
      "source": [
        "duplicates = items_df[items_df.duplicated(subset=['order_id', 'product_id'], keep=False)].sort_values('order_id')\n",
        "\n",
        "print(\"Jumlah duplikasi berdasarkan order_id dan product_id:\", duplicates.duplicated(subset=['order_id', 'product_id']).sum())\n",
        "duplicates"
      ]
    },
    {
      "cell_type": "code",
      "execution_count": 66,
      "metadata": {
        "id": "wCRBrzOt0F_P"
      },
      "outputs": [],
      "source": [
        "items_df.drop_duplicates(subset=['order_id', 'product_id'], inplace=True)"
      ]
    },
    {
      "cell_type": "code",
      "execution_count": 67,
      "metadata": {
        "colab": {
          "base_uri": "https://localhost:8080/"
        },
        "id": "JzCMI7M5zXDO",
        "outputId": "af1de967-377c-4c53-c659-7bc7907de6dd"
      },
      "outputs": [
        {
          "name": "stdout",
          "output_type": "stream",
          "text": [
            "Jumlah duplikasi berdasarkan order_id dan product_id seteleh dibersihkan: 0\n"
          ]
        }
      ],
      "source": [
        "print(\"Jumlah duplikasi berdasarkan order_id dan product_id seteleh dibersihkan:\", items_df.duplicated(subset=['order_id', 'product_id']).sum())"
      ]
    },
    {
      "cell_type": "code",
      "execution_count": 68,
      "metadata": {
        "colab": {
          "base_uri": "https://localhost:8080/"
        },
        "id": "zGc_9jgh3mpD",
        "outputId": "3aa5b59b-2d25-4523-bcd1-0b3e74a2f70b"
      },
      "outputs": [
        {
          "name": "stdout",
          "output_type": "stream",
          "text": [
            "\n",
            "Info dataset setelah pembersihan:\n",
            "<class 'pandas.core.frame.DataFrame'>\n",
            "Index: 102425 entries, 0 to 112649\n",
            "Data columns (total 7 columns):\n",
            " #   Column               Non-Null Count   Dtype         \n",
            "---  ------               --------------   -----         \n",
            " 0   order_id             102425 non-null  object        \n",
            " 1   order_item_id        102425 non-null  int64         \n",
            " 2   product_id           102425 non-null  object        \n",
            " 3   seller_id            102425 non-null  object        \n",
            " 4   shipping_limit_date  102425 non-null  datetime64[ns]\n",
            " 5   price                102425 non-null  float64       \n",
            " 6   freight_value        102425 non-null  float64       \n",
            "dtypes: datetime64[ns](1), float64(2), int64(1), object(3)\n",
            "memory usage: 6.3+ MB\n",
            "None\n"
          ]
        }
      ],
      "source": [
        "print(\"\\nInfo dataset setelah pembersihan:\")\n",
        "print(items_df.info())"
      ]
    },
    {
      "cell_type": "markdown",
      "metadata": {
        "id": "AycQrcnL8h8h"
      },
      "source": [
        "## Exploratory Data Analysis"
      ]
    },
    {
      "cell_type": "markdown",
      "metadata": {
        "id": "_rgczXl-80hR"
      },
      "source": [
        "### Eksplorasi Data Tiap Tabel"
      ]
    },
    {
      "cell_type": "markdown",
      "metadata": {
        "id": "AscMk9nYOsAz"
      },
      "source": [
        "#### Explore orders_df"
      ]
    },
    {
      "cell_type": "code",
      "execution_count": 69,
      "metadata": {
        "colab": {
          "base_uri": "https://localhost:8080/",
          "height": 0
        },
        "id": "vgpb58NlPeou",
        "outputId": "a7114700-d60a-44af-e0d4-fe2686183218"
      },
      "outputs": [
        {
          "data": {
            "text/html": [
              "<div>\n",
              "<style scoped>\n",
              "    .dataframe tbody tr th:only-of-type {\n",
              "        vertical-align: middle;\n",
              "    }\n",
              "\n",
              "    .dataframe tbody tr th {\n",
              "        vertical-align: top;\n",
              "    }\n",
              "\n",
              "    .dataframe thead th {\n",
              "        text-align: right;\n",
              "    }\n",
              "</style>\n",
              "<table border=\"1\" class=\"dataframe\">\n",
              "  <thead>\n",
              "    <tr style=\"text-align: right;\">\n",
              "      <th></th>\n",
              "      <th>order_id</th>\n",
              "      <th>customer_id</th>\n",
              "      <th>order_status</th>\n",
              "      <th>order_purchase_timestamp</th>\n",
              "      <th>order_approved_at</th>\n",
              "      <th>order_delivered_carrier_date</th>\n",
              "      <th>order_delivered_customer_date</th>\n",
              "      <th>order_estimated_delivery_date</th>\n",
              "    </tr>\n",
              "  </thead>\n",
              "  <tbody>\n",
              "    <tr>\n",
              "      <th>44036</th>\n",
              "      <td>4618b886260f174ba97bd9a7b81b01a5</td>\n",
              "      <td>165928f38e41598f6ffd3af0c864ca27</td>\n",
              "      <td>delivered</td>\n",
              "      <td>2017-11-29 15:54:57</td>\n",
              "      <td>2017-12-01 11:31:53</td>\n",
              "      <td>2017-12-04 22:09:21</td>\n",
              "      <td>2017-12-15 23:51:41</td>\n",
              "      <td>2017-12-29 00:00:00</td>\n",
              "    </tr>\n",
              "    <tr>\n",
              "      <th>9140</th>\n",
              "      <td>f44109a5bdeb8222bc76288fe1751d35</td>\n",
              "      <td>7bd8d51ba8a18440e8c429e2acc34dbf</td>\n",
              "      <td>delivered</td>\n",
              "      <td>2018-06-09 19:24:53</td>\n",
              "      <td>2018-06-09 19:38:38</td>\n",
              "      <td>2018-06-11 12:56:00</td>\n",
              "      <td>2018-06-18 15:50:50</td>\n",
              "      <td>2018-07-12 00:00:00</td>\n",
              "    </tr>\n",
              "    <tr>\n",
              "      <th>71780</th>\n",
              "      <td>c236814f448d4536d236cbe7e34f94b4</td>\n",
              "      <td>247c9865f4c7ebf8f3bdfe24f8acd8e9</td>\n",
              "      <td>delivered</td>\n",
              "      <td>2017-10-29 16:14:47</td>\n",
              "      <td>2017-10-29 17:01:19</td>\n",
              "      <td>2017-10-30 20:36:53</td>\n",
              "      <td>2017-11-16 15:14:46</td>\n",
              "      <td>2017-11-23 00:00:00</td>\n",
              "    </tr>\n",
              "    <tr>\n",
              "      <th>53857</th>\n",
              "      <td>fc4e3d907bbca064eee88088667f4e98</td>\n",
              "      <td>e6e14f3e3173398dcc2ef5001361ba1c</td>\n",
              "      <td>delivered</td>\n",
              "      <td>2017-07-01 22:03:10</td>\n",
              "      <td>2017-07-01 22:15:17</td>\n",
              "      <td>2017-07-03 15:21:41</td>\n",
              "      <td>2017-07-11 19:26:43</td>\n",
              "      <td>2017-07-25 00:00:00</td>\n",
              "    </tr>\n",
              "    <tr>\n",
              "      <th>20920</th>\n",
              "      <td>3951227294406e4a8f10d726a82027a0</td>\n",
              "      <td>c5a2f7e6d26faefb2a40da15e8eb3e71</td>\n",
              "      <td>delivered</td>\n",
              "      <td>2017-12-25 19:09:03</td>\n",
              "      <td>2017-12-25 19:17:26</td>\n",
              "      <td>2017-12-29 20:43:04</td>\n",
              "      <td>2018-01-22 21:48:20</td>\n",
              "      <td>2018-01-24 00:00:00</td>\n",
              "    </tr>\n",
              "  </tbody>\n",
              "</table>\n",
              "</div>"
            ],
            "text/plain": [
              "                               order_id                       customer_id  \\\n",
              "44036  4618b886260f174ba97bd9a7b81b01a5  165928f38e41598f6ffd3af0c864ca27   \n",
              "9140   f44109a5bdeb8222bc76288fe1751d35  7bd8d51ba8a18440e8c429e2acc34dbf   \n",
              "71780  c236814f448d4536d236cbe7e34f94b4  247c9865f4c7ebf8f3bdfe24f8acd8e9   \n",
              "53857  fc4e3d907bbca064eee88088667f4e98  e6e14f3e3173398dcc2ef5001361ba1c   \n",
              "20920  3951227294406e4a8f10d726a82027a0  c5a2f7e6d26faefb2a40da15e8eb3e71   \n",
              "\n",
              "      order_status order_purchase_timestamp    order_approved_at  \\\n",
              "44036    delivered      2017-11-29 15:54:57  2017-12-01 11:31:53   \n",
              "9140     delivered      2018-06-09 19:24:53  2018-06-09 19:38:38   \n",
              "71780    delivered      2017-10-29 16:14:47  2017-10-29 17:01:19   \n",
              "53857    delivered      2017-07-01 22:03:10  2017-07-01 22:15:17   \n",
              "20920    delivered      2017-12-25 19:09:03  2017-12-25 19:17:26   \n",
              "\n",
              "      order_delivered_carrier_date order_delivered_customer_date  \\\n",
              "44036          2017-12-04 22:09:21           2017-12-15 23:51:41   \n",
              "9140           2018-06-11 12:56:00           2018-06-18 15:50:50   \n",
              "71780          2017-10-30 20:36:53           2017-11-16 15:14:46   \n",
              "53857          2017-07-03 15:21:41           2017-07-11 19:26:43   \n",
              "20920          2017-12-29 20:43:04           2018-01-22 21:48:20   \n",
              "\n",
              "      order_estimated_delivery_date  \n",
              "44036           2017-12-29 00:00:00  \n",
              "9140            2018-07-12 00:00:00  \n",
              "71780           2017-11-23 00:00:00  \n",
              "53857           2017-07-25 00:00:00  \n",
              "20920           2018-01-24 00:00:00  "
            ]
          },
          "execution_count": 69,
          "metadata": {},
          "output_type": "execute_result"
        }
      ],
      "source": [
        "orders_df.sample(5)"
      ]
    },
    {
      "cell_type": "code",
      "execution_count": 70,
      "metadata": {
        "colab": {
          "base_uri": "https://localhost:8080/",
          "height": 0
        },
        "id": "7qtT-VPPPpml",
        "outputId": "9252fad5-458d-4ec6-90c3-3a67ddd3e99b"
      },
      "outputs": [
        {
          "data": {
            "text/html": [
              "<div>\n",
              "<style scoped>\n",
              "    .dataframe tbody tr th:only-of-type {\n",
              "        vertical-align: middle;\n",
              "    }\n",
              "\n",
              "    .dataframe tbody tr th {\n",
              "        vertical-align: top;\n",
              "    }\n",
              "\n",
              "    .dataframe thead th {\n",
              "        text-align: right;\n",
              "    }\n",
              "</style>\n",
              "<table border=\"1\" class=\"dataframe\">\n",
              "  <thead>\n",
              "    <tr style=\"text-align: right;\">\n",
              "      <th></th>\n",
              "      <th>order_id</th>\n",
              "      <th>customer_id</th>\n",
              "      <th>order_status</th>\n",
              "      <th>order_purchase_timestamp</th>\n",
              "      <th>order_approved_at</th>\n",
              "      <th>order_delivered_carrier_date</th>\n",
              "      <th>order_delivered_customer_date</th>\n",
              "      <th>order_estimated_delivery_date</th>\n",
              "    </tr>\n",
              "  </thead>\n",
              "  <tbody>\n",
              "    <tr>\n",
              "      <th>count</th>\n",
              "      <td>99281</td>\n",
              "      <td>99281</td>\n",
              "      <td>99281</td>\n",
              "      <td>99281</td>\n",
              "      <td>99281</td>\n",
              "      <td>99281</td>\n",
              "      <td>99281</td>\n",
              "      <td>99281</td>\n",
              "    </tr>\n",
              "    <tr>\n",
              "      <th>unique</th>\n",
              "      <td>99281</td>\n",
              "      <td>99281</td>\n",
              "      <td>7</td>\n",
              "      <td>98720</td>\n",
              "      <td>90733</td>\n",
              "      <td>NaN</td>\n",
              "      <td>NaN</td>\n",
              "      <td>453</td>\n",
              "    </tr>\n",
              "    <tr>\n",
              "      <th>top</th>\n",
              "      <td>e481f51cbdc54678b7cc49136f2d6af7</td>\n",
              "      <td>9ef432eb6251297304e76186b10a928d</td>\n",
              "      <td>delivered</td>\n",
              "      <td>2018-04-11 10:48:14</td>\n",
              "      <td>2018-02-27 04:31:10</td>\n",
              "      <td>NaN</td>\n",
              "      <td>NaN</td>\n",
              "      <td>2017-12-20 00:00:00</td>\n",
              "    </tr>\n",
              "    <tr>\n",
              "      <th>freq</th>\n",
              "      <td>1</td>\n",
              "      <td>1</td>\n",
              "      <td>96464</td>\n",
              "      <td>3</td>\n",
              "      <td>9</td>\n",
              "      <td>NaN</td>\n",
              "      <td>NaN</td>\n",
              "      <td>521</td>\n",
              "    </tr>\n",
              "    <tr>\n",
              "      <th>mean</th>\n",
              "      <td>NaN</td>\n",
              "      <td>NaN</td>\n",
              "      <td>NaN</td>\n",
              "      <td>NaN</td>\n",
              "      <td>NaN</td>\n",
              "      <td>2018-01-04 22:55:51.933677312</td>\n",
              "      <td>2018-01-15 02:24:26.230758912</td>\n",
              "      <td>NaN</td>\n",
              "    </tr>\n",
              "    <tr>\n",
              "      <th>min</th>\n",
              "      <td>NaN</td>\n",
              "      <td>NaN</td>\n",
              "      <td>NaN</td>\n",
              "      <td>NaN</td>\n",
              "      <td>NaN</td>\n",
              "      <td>2016-10-08 10:34:01</td>\n",
              "      <td>2016-10-11 13:46:32</td>\n",
              "      <td>NaN</td>\n",
              "    </tr>\n",
              "    <tr>\n",
              "      <th>25%</th>\n",
              "      <td>NaN</td>\n",
              "      <td>NaN</td>\n",
              "      <td>NaN</td>\n",
              "      <td>NaN</td>\n",
              "      <td>NaN</td>\n",
              "      <td>2017-09-19 19:25:27</td>\n",
              "      <td>2017-10-01 11:54:00</td>\n",
              "      <td>NaN</td>\n",
              "    </tr>\n",
              "    <tr>\n",
              "      <th>50%</th>\n",
              "      <td>NaN</td>\n",
              "      <td>NaN</td>\n",
              "      <td>NaN</td>\n",
              "      <td>NaN</td>\n",
              "      <td>NaN</td>\n",
              "      <td>2018-01-19 23:33:03</td>\n",
              "      <td>2018-02-02 19:49:47</td>\n",
              "      <td>NaN</td>\n",
              "    </tr>\n",
              "    <tr>\n",
              "      <th>75%</th>\n",
              "      <td>NaN</td>\n",
              "      <td>NaN</td>\n",
              "      <td>NaN</td>\n",
              "      <td>NaN</td>\n",
              "      <td>NaN</td>\n",
              "      <td>2018-05-07 14:11:00</td>\n",
              "      <td>2018-05-14 15:32:15</td>\n",
              "      <td>NaN</td>\n",
              "    </tr>\n",
              "    <tr>\n",
              "      <th>max</th>\n",
              "      <td>NaN</td>\n",
              "      <td>NaN</td>\n",
              "      <td>NaN</td>\n",
              "      <td>NaN</td>\n",
              "      <td>NaN</td>\n",
              "      <td>2018-09-11 19:48:28</td>\n",
              "      <td>2018-10-17 13:22:46</td>\n",
              "      <td>NaN</td>\n",
              "    </tr>\n",
              "  </tbody>\n",
              "</table>\n",
              "</div>"
            ],
            "text/plain": [
              "                                order_id                       customer_id  \\\n",
              "count                              99281                             99281   \n",
              "unique                             99281                             99281   \n",
              "top     e481f51cbdc54678b7cc49136f2d6af7  9ef432eb6251297304e76186b10a928d   \n",
              "freq                                   1                                 1   \n",
              "mean                                 NaN                               NaN   \n",
              "min                                  NaN                               NaN   \n",
              "25%                                  NaN                               NaN   \n",
              "50%                                  NaN                               NaN   \n",
              "75%                                  NaN                               NaN   \n",
              "max                                  NaN                               NaN   \n",
              "\n",
              "       order_status order_purchase_timestamp    order_approved_at  \\\n",
              "count         99281                    99281                99281   \n",
              "unique            7                    98720                90733   \n",
              "top       delivered      2018-04-11 10:48:14  2018-02-27 04:31:10   \n",
              "freq          96464                        3                    9   \n",
              "mean            NaN                      NaN                  NaN   \n",
              "min             NaN                      NaN                  NaN   \n",
              "25%             NaN                      NaN                  NaN   \n",
              "50%             NaN                      NaN                  NaN   \n",
              "75%             NaN                      NaN                  NaN   \n",
              "max             NaN                      NaN                  NaN   \n",
              "\n",
              "         order_delivered_carrier_date  order_delivered_customer_date  \\\n",
              "count                           99281                          99281   \n",
              "unique                            NaN                            NaN   \n",
              "top                               NaN                            NaN   \n",
              "freq                              NaN                            NaN   \n",
              "mean    2018-01-04 22:55:51.933677312  2018-01-15 02:24:26.230758912   \n",
              "min               2016-10-08 10:34:01            2016-10-11 13:46:32   \n",
              "25%               2017-09-19 19:25:27            2017-10-01 11:54:00   \n",
              "50%               2018-01-19 23:33:03            2018-02-02 19:49:47   \n",
              "75%               2018-05-07 14:11:00            2018-05-14 15:32:15   \n",
              "max               2018-09-11 19:48:28            2018-10-17 13:22:46   \n",
              "\n",
              "       order_estimated_delivery_date  \n",
              "count                          99281  \n",
              "unique                           453  \n",
              "top              2017-12-20 00:00:00  \n",
              "freq                             521  \n",
              "mean                             NaN  \n",
              "min                              NaN  \n",
              "25%                              NaN  \n",
              "50%                              NaN  \n",
              "75%                              NaN  \n",
              "max                              NaN  "
            ]
          },
          "execution_count": 70,
          "metadata": {},
          "output_type": "execute_result"
        }
      ],
      "source": [
        "orders_df.describe(include=\"all\")"
      ]
    },
    {
      "cell_type": "markdown",
      "metadata": {
        "id": "qAzlvSkySmTl"
      },
      "source": [
        "##### Cek apakah ada id duplikat, **(di cek ulang, walapun kan seblumnnya sudah di cleaning ya)**"
      ]
    },
    {
      "cell_type": "code",
      "execution_count": 71,
      "metadata": {
        "colab": {
          "base_uri": "https://localhost:8080/"
        },
        "id": "57LV1vv8RTRf",
        "outputId": "4890c319-aeed-4ce7-b6aa-5ba86dfb6ec8"
      },
      "outputs": [
        {
          "data": {
            "text/plain": [
              "True"
            ]
          },
          "execution_count": 71,
          "metadata": {},
          "output_type": "execute_result"
        }
      ],
      "source": [
        "orders_df.order_id.is_unique"
      ]
    },
    {
      "cell_type": "markdown",
      "metadata": {
        "id": "7y8zsvluTRR2"
      },
      "source": [
        "True menunjukkan bahwa setiap nilai di kolom order_id hanya muncul sekali, jadi tidak ada duplikasi."
      ]
    },
    {
      "cell_type": "markdown",
      "metadata": {
        "id": "Oy80PE6eUXvV"
      },
      "source": [
        "##### Memeriksa Format Tanggal"
      ]
    },
    {
      "cell_type": "code",
      "execution_count": 72,
      "metadata": {
        "id": "5OUdJVncSlQf"
      },
      "outputs": [],
      "source": [
        "date_columns = [\n",
        "    'order_purchase_timestamp',\n",
        "    'order_approved_at',\n",
        "    'order_delivered_carrier_date',\n",
        "    'order_delivered_customer_date'\n",
        "]"
      ]
    },
    {
      "cell_type": "code",
      "execution_count": 73,
      "metadata": {
        "id": "tLeM-sTHT4K_"
      },
      "outputs": [],
      "source": [
        "def check_date_format(df, date_columns):\n",
        "    for col in date_columns:\n",
        "        try:\n",
        "            # Mengonversi kolom ke datetime dan menangani error jika ada\n",
        "            df[col] = pd.to_datetime(df[col], errors='raise')\n",
        "            print(f\"Kolom '{col}' valid. Tipe data: {df[col].dtype}\")\n",
        "        except Exception as e:\n",
        "            print(f\"Error pada kolom '{col}': {e}\")"
      ]
    },
    {
      "cell_type": "code",
      "execution_count": 74,
      "metadata": {
        "colab": {
          "base_uri": "https://localhost:8080/"
        },
        "id": "TFlGtbV-T5dE",
        "outputId": "5e9f26a1-6fe4-485a-9313-e5044ceaec05"
      },
      "outputs": [
        {
          "name": "stdout",
          "output_type": "stream",
          "text": [
            "Kolom 'order_purchase_timestamp' valid. Tipe data: datetime64[ns]\n",
            "Kolom 'order_approved_at' valid. Tipe data: datetime64[ns]\n",
            "Kolom 'order_delivered_carrier_date' valid. Tipe data: datetime64[ns]\n",
            "Kolom 'order_delivered_customer_date' valid. Tipe data: datetime64[ns]\n"
          ]
        }
      ],
      "source": [
        "check_date_format(orders_df, date_columns)"
      ]
    },
    {
      "cell_type": "markdown",
      "metadata": {
        "id": "LKb1c03eUxKU"
      },
      "source": [
        "kalau valid berarti menunjukan setiap kolom tanggal terformat dengan benar"
      ]
    },
    {
      "cell_type": "markdown",
      "metadata": {
        "id": "Spg9DtQzVAIf"
      },
      "source": [
        "##### Memeriksa apakah ada tanggal pengiriman yang lebih awal dari tanggal pembelian"
      ]
    },
    {
      "cell_type": "code",
      "execution_count": 75,
      "metadata": {
        "id": "4SuKYimkVnyq"
      },
      "outputs": [],
      "source": [
        "invalid_delivery_dates = orders_df[orders_df['order_delivered_customer_date'] < orders_df['order_purchase_timestamp']]"
      ]
    },
    {
      "cell_type": "code",
      "execution_count": 76,
      "metadata": {
        "colab": {
          "base_uri": "https://localhost:8080/"
        },
        "id": "xr3RKfo6WN1F",
        "outputId": "866e81c2-facf-4fed-8a05-c5927d4a7f67"
      },
      "outputs": [
        {
          "name": "stdout",
          "output_type": "stream",
          "text": [
            "\n",
            "Jumlah baris dengan tanggal pengiriman lebih awal dari tanggal pembelian: 942\n"
          ]
        }
      ],
      "source": [
        "print(f\"\\nJumlah baris dengan tanggal pengiriman lebih awal dari tanggal pembelian: {invalid_delivery_dates.shape[0]}\")"
      ]
    },
    {
      "cell_type": "code",
      "execution_count": 77,
      "metadata": {
        "colab": {
          "base_uri": "https://localhost:8080/"
        },
        "id": "k4mQGby_WPNP",
        "outputId": "2faa245f-4e9d-4952-f434-4634db203176"
      },
      "outputs": [
        {
          "name": "stdout",
          "output_type": "stream",
          "text": [
            "\n",
            "Beberapa baris dengan tanggal pengiriman lebih awal dari tanggal pembelian:\n",
            "                             order_id order_purchase_timestamp  \\\n",
            "44   ee64d42b8cf066f35eac1cf57de1aa85      2018-06-04 16:44:48   \n",
            "103  0760a852e4e9d89eb77bf631eaaf1c84      2018-08-03 17:44:42   \n",
            "299  3b4ad687e7e5190db827e1ae5a8989dd      2018-06-28 12:52:15   \n",
            "305  b68d69564a79dea4776afa33d1d2fcab      2018-02-28 08:57:03   \n",
            "333  f373335aac9a659de916f7170b8bc07a      2018-03-17 15:32:31   \n",
            "\n",
            "    order_delivered_customer_date  \n",
            "44            2018-02-02 19:49:47  \n",
            "103           2018-02-02 19:49:47  \n",
            "299           2018-02-02 19:49:47  \n",
            "305           2018-02-02 19:49:47  \n",
            "333           2018-02-02 19:49:47  \n"
          ]
        }
      ],
      "source": [
        "print(\"\\nBeberapa baris dengan tanggal pengiriman lebih awal dari tanggal pembelian:\")\n",
        "print(invalid_delivery_dates[['order_id', 'order_purchase_timestamp', 'order_delivered_customer_date']].head())"
      ]
    },
    {
      "cell_type": "code",
      "execution_count": 78,
      "metadata": {
        "id": "Lb8unM3PdvVE"
      },
      "outputs": [],
      "source": [
        "total_orders = orders_df.shape[0]\n",
        "invalid_orders = invalid_delivery_dates.shape[0]\n",
        "valid_orders = total_orders - invalid_orders"
      ]
    },
    {
      "cell_type": "code",
      "execution_count": 79,
      "metadata": {
        "id": "0jdKrW-5aGue"
      },
      "outputs": [],
      "source": [
        "percentage_invalid = (invalid_orders / total_orders) * 100\n",
        "percentage_valid = 100 - percentage_invalid\n",
        "\n",
        "comparison = {\n",
        "    \"Total Orders\": total_orders,\n",
        "    \"Invalid Orders (Pengiriman Lebih Awal)\": invalid_orders,\n",
        "    \"Valid Orders\": valid_orders,\n",
        "    \"Persentase Invalid Orders\": percentage_invalid,\n",
        "    \"Persentase Valid Orders\": percentage_valid\n",
        "}"
      ]
    },
    {
      "cell_type": "code",
      "execution_count": 80,
      "metadata": {
        "colab": {
          "base_uri": "https://localhost:8080/"
        },
        "id": "L-vGZmX8d4-N",
        "outputId": "0a4a3195-595a-4977-8e5d-876f391374d4"
      },
      "outputs": [
        {
          "name": "stdout",
          "output_type": "stream",
          "text": [
            "{'Total Orders': 99281, 'Invalid Orders (Pengiriman Lebih Awal)': 942, 'Valid Orders': 98339, 'Persentase Invalid Orders': 0.9488220303985656, 'Persentase Valid Orders': 99.05117796960144}\n"
          ]
        }
      ],
      "source": [
        "print(comparison)"
      ]
    },
    {
      "cell_type": "markdown",
      "metadata": {
        "id": "uPZi4q5JeyU4"
      },
      "source": [
        "**dikarenakan pengiriman lebih awal dari pembelian presentasinya (kurang dari 1%) dari total keseluruhan data, jadi saya gunakan opsi hapus data sajah (drop) untuk memastikan keakuratan analisis waktu pengiriman dan preferensi produk.**"
      ]
    },
    {
      "cell_type": "code",
      "execution_count": 81,
      "metadata": {
        "id": "uzCcY3TifAy6"
      },
      "outputs": [],
      "source": [
        "orders_df.drop(\n",
        "    orders_df[orders_df['order_delivered_customer_date'] < orders_df['order_purchase_timestamp']].index,\n",
        "    inplace=True\n",
        ")"
      ]
    },
    {
      "cell_type": "code",
      "execution_count": 82,
      "metadata": {
        "colab": {
          "base_uri": "https://localhost:8080/"
        },
        "id": "FRAm3NJ1flq1",
        "outputId": "59cbf807-5cb6-458b-e752-bd90276173bc"
      },
      "outputs": [
        {
          "name": "stdout",
          "output_type": "stream",
          "text": [
            "\n",
            "Hasil setelah penghapusan untuk memastikan perubahan: 0\n"
          ]
        }
      ],
      "source": [
        "invalid_delivery_dates = orders_df[orders_df['order_delivered_customer_date'] < orders_df['order_purchase_timestamp']]\n",
        "print(f\"\\nHasil setelah penghapusan untuk memastikan perubahan: {invalid_delivery_dates.shape[0]}\")"
      ]
    },
    {
      "cell_type": "markdown",
      "metadata": {
        "id": "iiKA2Cu4wb8H"
      },
      "source": [
        "##### Menghitung jumlah pesanan per bulan berdasarkan kolom order_purchase_timestamp:"
      ]
    },
    {
      "cell_type": "code",
      "execution_count": 83,
      "metadata": {
        "colab": {
          "base_uri": "https://localhost:8080/",
          "height": 0
        },
        "id": "LKDYs1Fpweug",
        "outputId": "0b46bd83-3d3f-40c6-ea66-37c75d46d3f3"
      },
      "outputs": [
        {
          "data": {
            "text/plain": [
              "order_purchase_timestamp\n",
              "1      8065\n",
              "2      8332\n",
              "3      9683\n",
              "4      9198\n",
              "5     10440\n",
              "6      9337\n",
              "7     10177\n",
              "8     10676\n",
              "9      4285\n",
              "10     4944\n",
              "11     7535\n",
              "12     5667\n",
              "Name: order_id, dtype: int64"
            ]
          },
          "execution_count": 83,
          "metadata": {},
          "output_type": "execute_result"
        }
      ],
      "source": [
        "orders_df.groupby(orders_df['order_purchase_timestamp'].dt.month)['order_id'].count()"
      ]
    },
    {
      "cell_type": "markdown",
      "metadata": {
        "id": "yPuVyva2qRrg"
      },
      "source": [
        "##### Menghitung jumlah pesanan berdasarkan status pengiriman"
      ]
    },
    {
      "cell_type": "code",
      "execution_count": 84,
      "metadata": {
        "colab": {
          "base_uri": "https://localhost:8080/",
          "height": 0
        },
        "id": "SYcn_VtsqQF7",
        "outputId": "94c4e986-dbfb-42ff-f18b-c12a41af230b"
      },
      "outputs": [
        {
          "data": {
            "text/plain": [
              "order_delivered_customer_date\n",
              "True    98339\n",
              "Name: order_id, dtype: int64"
            ]
          },
          "execution_count": 84,
          "metadata": {},
          "output_type": "execute_result"
        }
      ],
      "source": [
        "orders_df.groupby(orders_df['order_delivered_customer_date'].notna())['order_id'].count()"
      ]
    },
    {
      "cell_type": "markdown",
      "metadata": {
        "id": "tAb3U_IvuJRs"
      },
      "source": [
        "**terdapat 98,339 pesanan yang sudah dikirim**"
      ]
    },
    {
      "cell_type": "markdown",
      "metadata": {
        "id": "_VLzOIXOPQ_a"
      },
      "source": [
        "#### Explore products_df"
      ]
    },
    {
      "cell_type": "code",
      "execution_count": 85,
      "metadata": {
        "colab": {
          "base_uri": "https://localhost:8080/",
          "height": 0
        },
        "id": "GTDjEFpasu4a",
        "outputId": "a811a12a-14da-4711-b63b-8affbec2e5cb"
      },
      "outputs": [
        {
          "data": {
            "text/html": [
              "<div>\n",
              "<style scoped>\n",
              "    .dataframe tbody tr th:only-of-type {\n",
              "        vertical-align: middle;\n",
              "    }\n",
              "\n",
              "    .dataframe tbody tr th {\n",
              "        vertical-align: top;\n",
              "    }\n",
              "\n",
              "    .dataframe thead th {\n",
              "        text-align: right;\n",
              "    }\n",
              "</style>\n",
              "<table border=\"1\" class=\"dataframe\">\n",
              "  <thead>\n",
              "    <tr style=\"text-align: right;\">\n",
              "      <th></th>\n",
              "      <th>product_id</th>\n",
              "      <th>product_category_name</th>\n",
              "      <th>product_name_lenght</th>\n",
              "      <th>product_description_lenght</th>\n",
              "      <th>product_photos_qty</th>\n",
              "      <th>product_weight_g</th>\n",
              "      <th>product_length_cm</th>\n",
              "      <th>product_height_cm</th>\n",
              "      <th>product_width_cm</th>\n",
              "    </tr>\n",
              "  </thead>\n",
              "  <tbody>\n",
              "    <tr>\n",
              "      <th>12311</th>\n",
              "      <td>33734acdf5673ba08a01d187f6f4a087</td>\n",
              "      <td>eletrodomesticos</td>\n",
              "      <td>50.0</td>\n",
              "      <td>281.0</td>\n",
              "      <td>1.0</td>\n",
              "      <td>500.0</td>\n",
              "      <td>35.0</td>\n",
              "      <td>46.0</td>\n",
              "      <td>35.0</td>\n",
              "    </tr>\n",
              "    <tr>\n",
              "      <th>31429</th>\n",
              "      <td>186667995393fd686a25866399b41e68</td>\n",
              "      <td>relogios_presentes</td>\n",
              "      <td>56.0</td>\n",
              "      <td>646.0</td>\n",
              "      <td>2.0</td>\n",
              "      <td>400.0</td>\n",
              "      <td>16.0</td>\n",
              "      <td>11.0</td>\n",
              "      <td>11.0</td>\n",
              "    </tr>\n",
              "    <tr>\n",
              "      <th>11077</th>\n",
              "      <td>cc5c55b85ec65541272bea4b9895add4</td>\n",
              "      <td>papelaria</td>\n",
              "      <td>56.0</td>\n",
              "      <td>1349.0</td>\n",
              "      <td>2.0</td>\n",
              "      <td>1100.0</td>\n",
              "      <td>27.0</td>\n",
              "      <td>10.0</td>\n",
              "      <td>20.0</td>\n",
              "    </tr>\n",
              "    <tr>\n",
              "      <th>15635</th>\n",
              "      <td>a2c75a23c2f838881dd4275c0cec519f</td>\n",
              "      <td>fashion_calcados</td>\n",
              "      <td>54.0</td>\n",
              "      <td>451.0</td>\n",
              "      <td>5.0</td>\n",
              "      <td>1650.0</td>\n",
              "      <td>36.0</td>\n",
              "      <td>37.0</td>\n",
              "      <td>16.0</td>\n",
              "    </tr>\n",
              "    <tr>\n",
              "      <th>31835</th>\n",
              "      <td>259318f8df188cf39e275a77f0f6f02d</td>\n",
              "      <td>beleza_saude</td>\n",
              "      <td>50.0</td>\n",
              "      <td>1133.0</td>\n",
              "      <td>3.0</td>\n",
              "      <td>2350.0</td>\n",
              "      <td>21.0</td>\n",
              "      <td>13.0</td>\n",
              "      <td>30.0</td>\n",
              "    </tr>\n",
              "  </tbody>\n",
              "</table>\n",
              "</div>"
            ],
            "text/plain": [
              "                             product_id product_category_name  \\\n",
              "12311  33734acdf5673ba08a01d187f6f4a087      eletrodomesticos   \n",
              "31429  186667995393fd686a25866399b41e68    relogios_presentes   \n",
              "11077  cc5c55b85ec65541272bea4b9895add4             papelaria   \n",
              "15635  a2c75a23c2f838881dd4275c0cec519f      fashion_calcados   \n",
              "31835  259318f8df188cf39e275a77f0f6f02d          beleza_saude   \n",
              "\n",
              "       product_name_lenght  product_description_lenght  product_photos_qty  \\\n",
              "12311                 50.0                       281.0                 1.0   \n",
              "31429                 56.0                       646.0                 2.0   \n",
              "11077                 56.0                      1349.0                 2.0   \n",
              "15635                 54.0                       451.0                 5.0   \n",
              "31835                 50.0                      1133.0                 3.0   \n",
              "\n",
              "       product_weight_g  product_length_cm  product_height_cm  \\\n",
              "12311             500.0               35.0               46.0   \n",
              "31429             400.0               16.0               11.0   \n",
              "11077            1100.0               27.0               10.0   \n",
              "15635            1650.0               36.0               37.0   \n",
              "31835            2350.0               21.0               13.0   \n",
              "\n",
              "       product_width_cm  \n",
              "12311              35.0  \n",
              "31429              11.0  \n",
              "11077              20.0  \n",
              "15635              16.0  \n",
              "31835              30.0  "
            ]
          },
          "execution_count": 85,
          "metadata": {},
          "output_type": "execute_result"
        }
      ],
      "source": [
        "products_df.sample(5)"
      ]
    },
    {
      "cell_type": "code",
      "execution_count": 86,
      "metadata": {
        "colab": {
          "base_uri": "https://localhost:8080/",
          "height": 0
        },
        "id": "az3nyllgs70b",
        "outputId": "645d8f14-12f4-4f85-8b36-2f2d1a1570a9"
      },
      "outputs": [
        {
          "data": {
            "text/html": [
              "<div>\n",
              "<style scoped>\n",
              "    .dataframe tbody tr th:only-of-type {\n",
              "        vertical-align: middle;\n",
              "    }\n",
              "\n",
              "    .dataframe tbody tr th {\n",
              "        vertical-align: top;\n",
              "    }\n",
              "\n",
              "    .dataframe thead th {\n",
              "        text-align: right;\n",
              "    }\n",
              "</style>\n",
              "<table border=\"1\" class=\"dataframe\">\n",
              "  <thead>\n",
              "    <tr style=\"text-align: right;\">\n",
              "      <th></th>\n",
              "      <th>product_id</th>\n",
              "      <th>product_category_name</th>\n",
              "      <th>product_name_lenght</th>\n",
              "      <th>product_description_lenght</th>\n",
              "      <th>product_photos_qty</th>\n",
              "      <th>product_weight_g</th>\n",
              "      <th>product_length_cm</th>\n",
              "      <th>product_height_cm</th>\n",
              "      <th>product_width_cm</th>\n",
              "    </tr>\n",
              "  </thead>\n",
              "  <tbody>\n",
              "    <tr>\n",
              "      <th>count</th>\n",
              "      <td>32341</td>\n",
              "      <td>32341</td>\n",
              "      <td>32341.000000</td>\n",
              "      <td>32341.000000</td>\n",
              "      <td>32341.000000</td>\n",
              "      <td>32341.000000</td>\n",
              "      <td>32341.000000</td>\n",
              "      <td>32341.000000</td>\n",
              "      <td>32341.000000</td>\n",
              "    </tr>\n",
              "    <tr>\n",
              "      <th>unique</th>\n",
              "      <td>32341</td>\n",
              "      <td>73</td>\n",
              "      <td>NaN</td>\n",
              "      <td>NaN</td>\n",
              "      <td>NaN</td>\n",
              "      <td>NaN</td>\n",
              "      <td>NaN</td>\n",
              "      <td>NaN</td>\n",
              "      <td>NaN</td>\n",
              "    </tr>\n",
              "    <tr>\n",
              "      <th>top</th>\n",
              "      <td>1e9e8ef04dbcff4541ed26657ea517e5</td>\n",
              "      <td>cama_mesa_banho</td>\n",
              "      <td>NaN</td>\n",
              "      <td>NaN</td>\n",
              "      <td>NaN</td>\n",
              "      <td>NaN</td>\n",
              "      <td>NaN</td>\n",
              "      <td>NaN</td>\n",
              "      <td>NaN</td>\n",
              "    </tr>\n",
              "    <tr>\n",
              "      <th>freq</th>\n",
              "      <td>1</td>\n",
              "      <td>3029</td>\n",
              "      <td>NaN</td>\n",
              "      <td>NaN</td>\n",
              "      <td>NaN</td>\n",
              "      <td>NaN</td>\n",
              "      <td>NaN</td>\n",
              "      <td>NaN</td>\n",
              "      <td>NaN</td>\n",
              "    </tr>\n",
              "    <tr>\n",
              "      <th>mean</th>\n",
              "      <td>NaN</td>\n",
              "      <td>NaN</td>\n",
              "      <td>48.476949</td>\n",
              "      <td>771.495285</td>\n",
              "      <td>2.188986</td>\n",
              "      <td>2276.907826</td>\n",
              "      <td>30.854364</td>\n",
              "      <td>16.958690</td>\n",
              "      <td>23.208497</td>\n",
              "    </tr>\n",
              "    <tr>\n",
              "      <th>std</th>\n",
              "      <td>NaN</td>\n",
              "      <td>NaN</td>\n",
              "      <td>10.245741</td>\n",
              "      <td>635.115225</td>\n",
              "      <td>1.736766</td>\n",
              "      <td>4279.234668</td>\n",
              "      <td>16.955734</td>\n",
              "      <td>13.635922</td>\n",
              "      <td>12.078589</td>\n",
              "    </tr>\n",
              "    <tr>\n",
              "      <th>min</th>\n",
              "      <td>NaN</td>\n",
              "      <td>NaN</td>\n",
              "      <td>5.000000</td>\n",
              "      <td>4.000000</td>\n",
              "      <td>1.000000</td>\n",
              "      <td>0.000000</td>\n",
              "      <td>7.000000</td>\n",
              "      <td>2.000000</td>\n",
              "      <td>6.000000</td>\n",
              "    </tr>\n",
              "    <tr>\n",
              "      <th>25%</th>\n",
              "      <td>NaN</td>\n",
              "      <td>NaN</td>\n",
              "      <td>42.000000</td>\n",
              "      <td>339.000000</td>\n",
              "      <td>1.000000</td>\n",
              "      <td>300.000000</td>\n",
              "      <td>18.000000</td>\n",
              "      <td>8.000000</td>\n",
              "      <td>15.000000</td>\n",
              "    </tr>\n",
              "    <tr>\n",
              "      <th>50%</th>\n",
              "      <td>NaN</td>\n",
              "      <td>NaN</td>\n",
              "      <td>51.000000</td>\n",
              "      <td>595.000000</td>\n",
              "      <td>1.000000</td>\n",
              "      <td>700.000000</td>\n",
              "      <td>25.000000</td>\n",
              "      <td>13.000000</td>\n",
              "      <td>20.000000</td>\n",
              "    </tr>\n",
              "    <tr>\n",
              "      <th>75%</th>\n",
              "      <td>NaN</td>\n",
              "      <td>NaN</td>\n",
              "      <td>57.000000</td>\n",
              "      <td>972.000000</td>\n",
              "      <td>3.000000</td>\n",
              "      <td>1900.000000</td>\n",
              "      <td>38.000000</td>\n",
              "      <td>21.000000</td>\n",
              "      <td>30.000000</td>\n",
              "    </tr>\n",
              "    <tr>\n",
              "      <th>max</th>\n",
              "      <td>NaN</td>\n",
              "      <td>NaN</td>\n",
              "      <td>76.000000</td>\n",
              "      <td>3992.000000</td>\n",
              "      <td>20.000000</td>\n",
              "      <td>40425.000000</td>\n",
              "      <td>105.000000</td>\n",
              "      <td>105.000000</td>\n",
              "      <td>118.000000</td>\n",
              "    </tr>\n",
              "  </tbody>\n",
              "</table>\n",
              "</div>"
            ],
            "text/plain": [
              "                              product_id product_category_name  \\\n",
              "count                              32341                 32341   \n",
              "unique                             32341                    73   \n",
              "top     1e9e8ef04dbcff4541ed26657ea517e5       cama_mesa_banho   \n",
              "freq                                   1                  3029   \n",
              "mean                                 NaN                   NaN   \n",
              "std                                  NaN                   NaN   \n",
              "min                                  NaN                   NaN   \n",
              "25%                                  NaN                   NaN   \n",
              "50%                                  NaN                   NaN   \n",
              "75%                                  NaN                   NaN   \n",
              "max                                  NaN                   NaN   \n",
              "\n",
              "        product_name_lenght  product_description_lenght  product_photos_qty  \\\n",
              "count          32341.000000                32341.000000        32341.000000   \n",
              "unique                  NaN                         NaN                 NaN   \n",
              "top                     NaN                         NaN                 NaN   \n",
              "freq                    NaN                         NaN                 NaN   \n",
              "mean              48.476949                  771.495285            2.188986   \n",
              "std               10.245741                  635.115225            1.736766   \n",
              "min                5.000000                    4.000000            1.000000   \n",
              "25%               42.000000                  339.000000            1.000000   \n",
              "50%               51.000000                  595.000000            1.000000   \n",
              "75%               57.000000                  972.000000            3.000000   \n",
              "max               76.000000                 3992.000000           20.000000   \n",
              "\n",
              "        product_weight_g  product_length_cm  product_height_cm  \\\n",
              "count       32341.000000       32341.000000       32341.000000   \n",
              "unique               NaN                NaN                NaN   \n",
              "top                  NaN                NaN                NaN   \n",
              "freq                 NaN                NaN                NaN   \n",
              "mean         2276.907826          30.854364          16.958690   \n",
              "std          4279.234668          16.955734          13.635922   \n",
              "min             0.000000           7.000000           2.000000   \n",
              "25%           300.000000          18.000000           8.000000   \n",
              "50%           700.000000          25.000000          13.000000   \n",
              "75%          1900.000000          38.000000          21.000000   \n",
              "max         40425.000000         105.000000         105.000000   \n",
              "\n",
              "        product_width_cm  \n",
              "count       32341.000000  \n",
              "unique               NaN  \n",
              "top                  NaN  \n",
              "freq                 NaN  \n",
              "mean           23.208497  \n",
              "std            12.078589  \n",
              "min             6.000000  \n",
              "25%            15.000000  \n",
              "50%            20.000000  \n",
              "75%            30.000000  \n",
              "max           118.000000  "
            ]
          },
          "execution_count": 86,
          "metadata": {},
          "output_type": "execute_result"
        }
      ],
      "source": [
        "products_df.describe(include=\"all\")"
      ]
    },
    {
      "cell_type": "markdown",
      "metadata": {
        "id": "AA9a8ceRujU2"
      },
      "source": [
        "##### Mengecek Kolom dengan nilai kosong"
      ]
    },
    {
      "cell_type": "code",
      "execution_count": 87,
      "metadata": {
        "colab": {
          "base_uri": "https://localhost:8080/",
          "height": 0
        },
        "id": "8KKln9xHupVf",
        "outputId": "548b7eee-3715-44c7-c5d8-c007bf4a223e"
      },
      "outputs": [
        {
          "data": {
            "text/plain": [
              "product_name_lenght           0\n",
              "product_description_lenght    0\n",
              "dtype: int64"
            ]
          },
          "execution_count": 87,
          "metadata": {},
          "output_type": "execute_result"
        }
      ],
      "source": [
        "products_df[['product_name_lenght', 'product_description_lenght']].isnull().sum()"
      ]
    },
    {
      "cell_type": "markdown",
      "metadata": {
        "id": "KgyYvlI_uzkn"
      },
      "source": [
        "##### Mengecek Distribusi Kategori Produk:"
      ]
    },
    {
      "cell_type": "code",
      "execution_count": 88,
      "metadata": {
        "colab": {
          "base_uri": "https://localhost:8080/",
          "height": 0
        },
        "id": "l5wfIWK0uJvv",
        "outputId": "ad5d4ad6-c6d4-4bd6-8280-8a139851ef9e"
      },
      "outputs": [
        {
          "data": {
            "text/plain": [
              "product_category_name\n",
              "cama_mesa_banho                  3029\n",
              "esporte_lazer                    2867\n",
              "moveis_decoracao                 2657\n",
              "beleza_saude                     2444\n",
              "utilidades_domesticas            2335\n",
              "                                 ... \n",
              "fashion_roupa_infanto_juvenil       5\n",
              "casa_conforto_2                     5\n",
              "pc_gamer                            3\n",
              "seguros_e_servicos                  2\n",
              "cds_dvds_musicais                   1\n",
              "Name: count, Length: 73, dtype: int64"
            ]
          },
          "execution_count": 88,
          "metadata": {},
          "output_type": "execute_result"
        }
      ],
      "source": [
        "products_df['product_category_name'].value_counts()"
      ]
    },
    {
      "cell_type": "markdown",
      "metadata": {
        "id": "ieYUCAqBxDE0"
      },
      "source": [
        "##### Mengecek apakah ada produk yang tidak memiliki kategori sama sekali"
      ]
    },
    {
      "cell_type": "code",
      "execution_count": 89,
      "metadata": {
        "id": "qXUgfoZYxF2F"
      },
      "outputs": [],
      "source": [
        "missing_category = products_df[products_df['product_category_name'].isnull()]"
      ]
    },
    {
      "cell_type": "code",
      "execution_count": 90,
      "metadata": {
        "colab": {
          "base_uri": "https://localhost:8080/"
        },
        "id": "tn6-u6GFxM_o",
        "outputId": "a479c509-cca2-4a52-ca28-6ea7578457aa"
      },
      "outputs": [
        {
          "name": "stdout",
          "output_type": "stream",
          "text": [
            "Jumlah produk tanpa kategori: Empty DataFrame\n",
            "Columns: [product_id, product_category_name, product_name_lenght, product_description_lenght, product_photos_qty, product_weight_g, product_length_cm, product_height_cm, product_width_cm]\n",
            "Index: []\n"
          ]
        }
      ],
      "source": [
        "print(f\"Jumlah produk tanpa kategori: {missing_category}\")"
      ]
    },
    {
      "cell_type": "markdown",
      "metadata": {
        "id": "ofB76RJoxelo"
      },
      "source": [
        "##### Memastikan bahwa semua produk memiliki kategori yang valid"
      ]
    },
    {
      "cell_type": "markdown",
      "metadata": {
        "id": "VuxcgqiczLp6"
      },
      "source": [
        "**Mengecek nilai unik/Kategori produk  dalam kolom product_category_name**"
      ]
    },
    {
      "cell_type": "code",
      "execution_count": 91,
      "metadata": {
        "colab": {
          "base_uri": "https://localhost:8080/"
        },
        "id": "Bud3SdKty3Kh",
        "outputId": "30b25c9b-d209-4798-fee6-a79a16f14286"
      },
      "outputs": [
        {
          "name": "stdout",
          "output_type": "stream",
          "text": [
            "Jumlah kategori produk: 73\n"
          ]
        }
      ],
      "source": [
        "products_df['product_category_name'].nunique()\n",
        "unique_categories = products_df['product_category_name'].nunique()\n",
        "print(f\"Jumlah kategori produk: {unique_categories}\")"
      ]
    },
    {
      "cell_type": "markdown",
      "metadata": {
        "id": "1TpCImjRzPk8"
      },
      "source": [
        "**Mengecek distribusi kategori tertinggi dan terendah**\n"
      ]
    },
    {
      "cell_type": "code",
      "execution_count": 92,
      "metadata": {
        "id": "2CoqbNTqxjl4"
      },
      "outputs": [],
      "source": [
        "category_counts = products_df['product_category_name'].value_counts()"
      ]
    },
    {
      "cell_type": "code",
      "execution_count": 93,
      "metadata": {
        "colab": {
          "base_uri": "https://localhost:8080/"
        },
        "id": "9JrPt6QjzZB3",
        "outputId": "43a76e4a-8c25-4a64-fc9d-b1c6fd964bc5"
      },
      "outputs": [
        {
          "name": "stdout",
          "output_type": "stream",
          "text": [
            "Distribusi kategori produk Tertinggi:\n",
            "product_category_name\n",
            "cama_mesa_banho           3029\n",
            "esporte_lazer             2867\n",
            "moveis_decoracao          2657\n",
            "beleza_saude              2444\n",
            "utilidades_domesticas     2335\n",
            "automotivo                1900\n",
            "informatica_acessorios    1639\n",
            "brinquedos                1411\n",
            "relogios_presentes        1329\n",
            "telefonia                 1134\n",
            "Name: count, dtype: int64\n"
          ]
        }
      ],
      "source": [
        "print(\"Distribusi kategori produk Tertinggi:\")\n",
        "print(category_counts.head(10))"
      ]
    },
    {
      "cell_type": "code",
      "execution_count": 94,
      "metadata": {
        "colab": {
          "base_uri": "https://localhost:8080/"
        },
        "id": "c6LnOKR4zfIN",
        "outputId": "67102c2d-bd32-4596-fecc-aac0f9094dbb"
      },
      "outputs": [
        {
          "name": "stdout",
          "output_type": "stream",
          "text": [
            "Distribusi kategori produk Terendah:\n",
            "product_category_name\n",
            "fraldas_higiene                                  12\n",
            "la_cuisine                                       10\n",
            "portateis_cozinha_e_preparadores_de_alimentos    10\n",
            "moveis_colchao_e_estofado                        10\n",
            "tablets_impressao_imagem                          9\n",
            "fashion_roupa_infanto_juvenil                     5\n",
            "casa_conforto_2                                   5\n",
            "pc_gamer                                          3\n",
            "seguros_e_servicos                                2\n",
            "cds_dvds_musicais                                 1\n",
            "Name: count, dtype: int64\n"
          ]
        }
      ],
      "source": [
        "print(\"Distribusi kategori produk Terendah:\")\n",
        "print(category_counts.tail(10))"
      ]
    },
    {
      "cell_type": "markdown",
      "metadata": {
        "id": "molBGmIz__de"
      },
      "source": [
        "##### Kategori Produk yang Dibeli oleh Pelanggan"
      ]
    },
    {
      "cell_type": "code",
      "execution_count": 95,
      "metadata": {
        "colab": {
          "base_uri": "https://localhost:8080/",
          "height": 0
        },
        "id": "gkLxjRp8C6Wi",
        "outputId": "b9640f3a-98cb-4649-bcf0-8ca4ce2ba166"
      },
      "outputs": [
        {
          "data": {
            "text/plain": [
              "product_category_name\n",
              "cama_mesa_banho                  3029\n",
              "esporte_lazer                    2867\n",
              "moveis_decoracao                 2657\n",
              "beleza_saude                     2444\n",
              "utilidades_domesticas            2335\n",
              "                                 ... \n",
              "fashion_roupa_infanto_juvenil       5\n",
              "casa_conforto_2                     5\n",
              "pc_gamer                            3\n",
              "seguros_e_servicos                  2\n",
              "cds_dvds_musicais                   1\n",
              "Name: count, Length: 73, dtype: int64"
            ]
          },
          "execution_count": 95,
          "metadata": {},
          "output_type": "execute_result"
        }
      ],
      "source": [
        "products_df.groupby('product_category_name').size()\n",
        "category_counts.sort_values(ascending=False)"
      ]
    },
    {
      "cell_type": "code",
      "execution_count": 96,
      "metadata": {
        "colab": {
          "base_uri": "https://localhost:8080/",
          "height": 0
        },
        "id": "ugWDVenBD-3Y",
        "outputId": "a5508e5c-44a4-4ae9-9038-4c3b900ddf18"
      },
      "outputs": [
        {
          "data": {
            "text/html": [
              "<div>\n",
              "<style scoped>\n",
              "    .dataframe tbody tr th:only-of-type {\n",
              "        vertical-align: middle;\n",
              "    }\n",
              "\n",
              "    .dataframe tbody tr th {\n",
              "        vertical-align: top;\n",
              "    }\n",
              "\n",
              "    .dataframe thead tr th {\n",
              "        text-align: left;\n",
              "    }\n",
              "\n",
              "    .dataframe thead tr:last-of-type th {\n",
              "        text-align: right;\n",
              "    }\n",
              "</style>\n",
              "<table border=\"1\" class=\"dataframe\">\n",
              "  <thead>\n",
              "    <tr>\n",
              "      <th></th>\n",
              "      <th colspan=\"4\" halign=\"left\">product_name_lenght</th>\n",
              "      <th colspan=\"4\" halign=\"left\">product_description_lenght</th>\n",
              "      <th colspan=\"4\" halign=\"left\">product_photos_qty</th>\n",
              "      <th colspan=\"4\" halign=\"left\">product_weight_g</th>\n",
              "    </tr>\n",
              "    <tr>\n",
              "      <th></th>\n",
              "      <th>max</th>\n",
              "      <th>min</th>\n",
              "      <th>mean</th>\n",
              "      <th>std</th>\n",
              "      <th>max</th>\n",
              "      <th>min</th>\n",
              "      <th>mean</th>\n",
              "      <th>std</th>\n",
              "      <th>max</th>\n",
              "      <th>min</th>\n",
              "      <th>mean</th>\n",
              "      <th>std</th>\n",
              "      <th>max</th>\n",
              "      <th>min</th>\n",
              "      <th>mean</th>\n",
              "      <th>std</th>\n",
              "    </tr>\n",
              "    <tr>\n",
              "      <th>product_category_name</th>\n",
              "      <th></th>\n",
              "      <th></th>\n",
              "      <th></th>\n",
              "      <th></th>\n",
              "      <th></th>\n",
              "      <th></th>\n",
              "      <th></th>\n",
              "      <th></th>\n",
              "      <th></th>\n",
              "      <th></th>\n",
              "      <th></th>\n",
              "      <th></th>\n",
              "      <th></th>\n",
              "      <th></th>\n",
              "      <th></th>\n",
              "      <th></th>\n",
              "    </tr>\n",
              "  </thead>\n",
              "  <tbody>\n",
              "    <tr>\n",
              "      <th>agro_industria_e_comercio</th>\n",
              "      <td>60.0</td>\n",
              "      <td>22.0</td>\n",
              "      <td>49.108108</td>\n",
              "      <td>8.377346</td>\n",
              "      <td>3177.0</td>\n",
              "      <td>93.0</td>\n",
              "      <td>807.756757</td>\n",
              "      <td>618.289018</td>\n",
              "      <td>8.0</td>\n",
              "      <td>1.0</td>\n",
              "      <td>2.310811</td>\n",
              "      <td>1.901158</td>\n",
              "      <td>30000.0</td>\n",
              "      <td>50.0</td>\n",
              "      <td>5263.405405</td>\n",
              "      <td>5913.073074</td>\n",
              "    </tr>\n",
              "    <tr>\n",
              "      <th>alimentos</th>\n",
              "      <td>63.0</td>\n",
              "      <td>15.0</td>\n",
              "      <td>46.304878</td>\n",
              "      <td>11.797352</td>\n",
              "      <td>3938.0</td>\n",
              "      <td>27.0</td>\n",
              "      <td>1136.512195</td>\n",
              "      <td>1028.703166</td>\n",
              "      <td>7.0</td>\n",
              "      <td>1.0</td>\n",
              "      <td>1.939024</td>\n",
              "      <td>1.665537</td>\n",
              "      <td>8238.0</td>\n",
              "      <td>75.0</td>\n",
              "      <td>923.414634</td>\n",
              "      <td>1222.642079</td>\n",
              "    </tr>\n",
              "    <tr>\n",
              "      <th>alimentos_bebidas</th>\n",
              "      <td>60.0</td>\n",
              "      <td>13.0</td>\n",
              "      <td>44.509615</td>\n",
              "      <td>12.605281</td>\n",
              "      <td>3838.0</td>\n",
              "      <td>99.0</td>\n",
              "      <td>983.134615</td>\n",
              "      <td>929.550482</td>\n",
              "      <td>10.0</td>\n",
              "      <td>1.0</td>\n",
              "      <td>1.894231</td>\n",
              "      <td>1.756642</td>\n",
              "      <td>10800.0</td>\n",
              "      <td>50.0</td>\n",
              "      <td>1307.932692</td>\n",
              "      <td>2011.971927</td>\n",
              "    </tr>\n",
              "    <tr>\n",
              "      <th>artes</th>\n",
              "      <td>62.0</td>\n",
              "      <td>24.0</td>\n",
              "      <td>47.090909</td>\n",
              "      <td>10.628879</td>\n",
              "      <td>3954.0</td>\n",
              "      <td>59.0</td>\n",
              "      <td>678.345455</td>\n",
              "      <td>646.063757</td>\n",
              "      <td>10.0</td>\n",
              "      <td>1.0</td>\n",
              "      <td>2.163636</td>\n",
              "      <td>2.061675</td>\n",
              "      <td>15400.0</td>\n",
              "      <td>100.0</td>\n",
              "      <td>1691.763636</td>\n",
              "      <td>2551.614333</td>\n",
              "    </tr>\n",
              "    <tr>\n",
              "      <th>artes_e_artesanato</th>\n",
              "      <td>60.0</td>\n",
              "      <td>20.0</td>\n",
              "      <td>44.263158</td>\n",
              "      <td>11.371710</td>\n",
              "      <td>1611.0</td>\n",
              "      <td>99.0</td>\n",
              "      <td>620.421053</td>\n",
              "      <td>361.324003</td>\n",
              "      <td>7.0</td>\n",
              "      <td>1.0</td>\n",
              "      <td>3.000000</td>\n",
              "      <td>1.825742</td>\n",
              "      <td>6850.0</td>\n",
              "      <td>100.0</td>\n",
              "      <td>1164.578947</td>\n",
              "      <td>1599.096978</td>\n",
              "    </tr>\n",
              "    <tr>\n",
              "      <th>...</th>\n",
              "      <td>...</td>\n",
              "      <td>...</td>\n",
              "      <td>...</td>\n",
              "      <td>...</td>\n",
              "      <td>...</td>\n",
              "      <td>...</td>\n",
              "      <td>...</td>\n",
              "      <td>...</td>\n",
              "      <td>...</td>\n",
              "      <td>...</td>\n",
              "      <td>...</td>\n",
              "      <td>...</td>\n",
              "      <td>...</td>\n",
              "      <td>...</td>\n",
              "      <td>...</td>\n",
              "      <td>...</td>\n",
              "    </tr>\n",
              "    <tr>\n",
              "      <th>sinalizacao_e_seguranca</th>\n",
              "      <td>60.0</td>\n",
              "      <td>15.0</td>\n",
              "      <td>47.838710</td>\n",
              "      <td>9.710248</td>\n",
              "      <td>2162.0</td>\n",
              "      <td>70.0</td>\n",
              "      <td>816.849462</td>\n",
              "      <td>475.310332</td>\n",
              "      <td>9.0</td>\n",
              "      <td>1.0</td>\n",
              "      <td>2.483871</td>\n",
              "      <td>1.914549</td>\n",
              "      <td>27100.0</td>\n",
              "      <td>100.0</td>\n",
              "      <td>2969.817204</td>\n",
              "      <td>6179.868591</td>\n",
              "    </tr>\n",
              "    <tr>\n",
              "      <th>tablets_impressao_imagem</th>\n",
              "      <td>64.0</td>\n",
              "      <td>34.0</td>\n",
              "      <td>54.000000</td>\n",
              "      <td>8.958236</td>\n",
              "      <td>2532.0</td>\n",
              "      <td>145.0</td>\n",
              "      <td>676.444444</td>\n",
              "      <td>743.146707</td>\n",
              "      <td>7.0</td>\n",
              "      <td>1.0</td>\n",
              "      <td>3.000000</td>\n",
              "      <td>2.236068</td>\n",
              "      <td>1100.0</td>\n",
              "      <td>100.0</td>\n",
              "      <td>381.444444</td>\n",
              "      <td>303.745416</td>\n",
              "    </tr>\n",
              "    <tr>\n",
              "      <th>telefonia</th>\n",
              "      <td>64.0</td>\n",
              "      <td>16.0</td>\n",
              "      <td>50.450617</td>\n",
              "      <td>9.727747</td>\n",
              "      <td>3923.0</td>\n",
              "      <td>43.0</td>\n",
              "      <td>755.327160</td>\n",
              "      <td>553.661242</td>\n",
              "      <td>13.0</td>\n",
              "      <td>1.0</td>\n",
              "      <td>2.759259</td>\n",
              "      <td>2.061131</td>\n",
              "      <td>8100.0</td>\n",
              "      <td>50.0</td>\n",
              "      <td>236.506173</td>\n",
              "      <td>335.883175</td>\n",
              "    </tr>\n",
              "    <tr>\n",
              "      <th>telefonia_fixa</th>\n",
              "      <td>63.0</td>\n",
              "      <td>18.0</td>\n",
              "      <td>48.422414</td>\n",
              "      <td>11.457408</td>\n",
              "      <td>3666.0</td>\n",
              "      <td>78.0</td>\n",
              "      <td>1017.387931</td>\n",
              "      <td>834.543101</td>\n",
              "      <td>11.0</td>\n",
              "      <td>1.0</td>\n",
              "      <td>2.991379</td>\n",
              "      <td>2.140685</td>\n",
              "      <td>6050.0</td>\n",
              "      <td>50.0</td>\n",
              "      <td>660.827586</td>\n",
              "      <td>811.213897</td>\n",
              "    </tr>\n",
              "    <tr>\n",
              "      <th>utilidades_domesticas</th>\n",
              "      <td>64.0</td>\n",
              "      <td>9.0</td>\n",
              "      <td>48.017559</td>\n",
              "      <td>10.462490</td>\n",
              "      <td>3860.0</td>\n",
              "      <td>4.0</td>\n",
              "      <td>674.179872</td>\n",
              "      <td>511.335753</td>\n",
              "      <td>13.0</td>\n",
              "      <td>1.0</td>\n",
              "      <td>2.212848</td>\n",
              "      <td>1.676392</td>\n",
              "      <td>30000.0</td>\n",
              "      <td>50.0</td>\n",
              "      <td>3020.793576</td>\n",
              "      <td>4737.014341</td>\n",
              "    </tr>\n",
              "  </tbody>\n",
              "</table>\n",
              "<p>73 rows × 16 columns</p>\n",
              "</div>"
            ],
            "text/plain": [
              "                          product_name_lenght                              \\\n",
              "                                          max   min       mean        std   \n",
              "product_category_name                                                       \n",
              "agro_industria_e_comercio                60.0  22.0  49.108108   8.377346   \n",
              "alimentos                                63.0  15.0  46.304878  11.797352   \n",
              "alimentos_bebidas                        60.0  13.0  44.509615  12.605281   \n",
              "artes                                    62.0  24.0  47.090909  10.628879   \n",
              "artes_e_artesanato                       60.0  20.0  44.263158  11.371710   \n",
              "...                                       ...   ...        ...        ...   \n",
              "sinalizacao_e_seguranca                  60.0  15.0  47.838710   9.710248   \n",
              "tablets_impressao_imagem                 64.0  34.0  54.000000   8.958236   \n",
              "telefonia                                64.0  16.0  50.450617   9.727747   \n",
              "telefonia_fixa                           63.0  18.0  48.422414  11.457408   \n",
              "utilidades_domesticas                    64.0   9.0  48.017559  10.462490   \n",
              "\n",
              "                          product_description_lenght                      \\\n",
              "                                                 max    min         mean   \n",
              "product_category_name                                                      \n",
              "agro_industria_e_comercio                     3177.0   93.0   807.756757   \n",
              "alimentos                                     3938.0   27.0  1136.512195   \n",
              "alimentos_bebidas                             3838.0   99.0   983.134615   \n",
              "artes                                         3954.0   59.0   678.345455   \n",
              "artes_e_artesanato                            1611.0   99.0   620.421053   \n",
              "...                                              ...    ...          ...   \n",
              "sinalizacao_e_seguranca                       2162.0   70.0   816.849462   \n",
              "tablets_impressao_imagem                      2532.0  145.0   676.444444   \n",
              "telefonia                                     3923.0   43.0   755.327160   \n",
              "telefonia_fixa                                3666.0   78.0  1017.387931   \n",
              "utilidades_domesticas                         3860.0    4.0   674.179872   \n",
              "\n",
              "                                       product_photos_qty                 \\\n",
              "                                   std                max  min      mean   \n",
              "product_category_name                                                      \n",
              "agro_industria_e_comercio   618.289018                8.0  1.0  2.310811   \n",
              "alimentos                  1028.703166                7.0  1.0  1.939024   \n",
              "alimentos_bebidas           929.550482               10.0  1.0  1.894231   \n",
              "artes                       646.063757               10.0  1.0  2.163636   \n",
              "artes_e_artesanato          361.324003                7.0  1.0  3.000000   \n",
              "...                                ...                ...  ...       ...   \n",
              "sinalizacao_e_seguranca     475.310332                9.0  1.0  2.483871   \n",
              "tablets_impressao_imagem    743.146707                7.0  1.0  3.000000   \n",
              "telefonia                   553.661242               13.0  1.0  2.759259   \n",
              "telefonia_fixa              834.543101               11.0  1.0  2.991379   \n",
              "utilidades_domesticas       511.335753               13.0  1.0  2.212848   \n",
              "\n",
              "                                    product_weight_g                      \\\n",
              "                                std              max    min         mean   \n",
              "product_category_name                                                      \n",
              "agro_industria_e_comercio  1.901158          30000.0   50.0  5263.405405   \n",
              "alimentos                  1.665537           8238.0   75.0   923.414634   \n",
              "alimentos_bebidas          1.756642          10800.0   50.0  1307.932692   \n",
              "artes                      2.061675          15400.0  100.0  1691.763636   \n",
              "artes_e_artesanato         1.825742           6850.0  100.0  1164.578947   \n",
              "...                             ...              ...    ...          ...   \n",
              "sinalizacao_e_seguranca    1.914549          27100.0  100.0  2969.817204   \n",
              "tablets_impressao_imagem   2.236068           1100.0  100.0   381.444444   \n",
              "telefonia                  2.061131           8100.0   50.0   236.506173   \n",
              "telefonia_fixa             2.140685           6050.0   50.0   660.827586   \n",
              "utilidades_domesticas      1.676392          30000.0   50.0  3020.793576   \n",
              "\n",
              "                                        \n",
              "                                   std  \n",
              "product_category_name                   \n",
              "agro_industria_e_comercio  5913.073074  \n",
              "alimentos                  1222.642079  \n",
              "alimentos_bebidas          2011.971927  \n",
              "artes                      2551.614333  \n",
              "artes_e_artesanato         1599.096978  \n",
              "...                                ...  \n",
              "sinalizacao_e_seguranca    6179.868591  \n",
              "tablets_impressao_imagem    303.745416  \n",
              "telefonia                   335.883175  \n",
              "telefonia_fixa              811.213897  \n",
              "utilidades_domesticas      4737.014341  \n",
              "\n",
              "[73 rows x 16 columns]"
            ]
          },
          "execution_count": 96,
          "metadata": {},
          "output_type": "execute_result"
        }
      ],
      "source": [
        "products_df.groupby(by=\"product_category_name\").agg({\n",
        "    'product_name_lenght': ['max', 'min', 'mean', 'std'],\n",
        "    'product_description_lenght': ['max', 'min', 'mean', 'std'],\n",
        "    'product_photos_qty': ['max', 'min', 'mean', 'std'],\n",
        "    'product_weight_g': ['max', 'min', 'mean', 'std']\n",
        "})"
      ]
    },
    {
      "cell_type": "markdown",
      "metadata": {
        "id": "r-3z6thVPV1V"
      },
      "source": [
        "#### Explore payments_df\n"
      ]
    },
    {
      "cell_type": "code",
      "execution_count": 97,
      "metadata": {
        "colab": {
          "base_uri": "https://localhost:8080/",
          "height": 0
        },
        "id": "u1xg3kedKveZ",
        "outputId": "8deb3bb4-0864-4fe8-fbc0-f9e3abb1e6dc"
      },
      "outputs": [
        {
          "data": {
            "text/html": [
              "<div>\n",
              "<style scoped>\n",
              "    .dataframe tbody tr th:only-of-type {\n",
              "        vertical-align: middle;\n",
              "    }\n",
              "\n",
              "    .dataframe tbody tr th {\n",
              "        vertical-align: top;\n",
              "    }\n",
              "\n",
              "    .dataframe thead th {\n",
              "        text-align: right;\n",
              "    }\n",
              "</style>\n",
              "<table border=\"1\" class=\"dataframe\">\n",
              "  <thead>\n",
              "    <tr style=\"text-align: right;\">\n",
              "      <th></th>\n",
              "      <th>order_id</th>\n",
              "      <th>payment_sequential</th>\n",
              "      <th>payment_type</th>\n",
              "      <th>payment_installments</th>\n",
              "      <th>payment_value</th>\n",
              "    </tr>\n",
              "  </thead>\n",
              "  <tbody>\n",
              "    <tr>\n",
              "      <th>13076</th>\n",
              "      <td>7097cd0492a280b3e24b36fd672f5a59</td>\n",
              "      <td>1</td>\n",
              "      <td>credit_card</td>\n",
              "      <td>4</td>\n",
              "      <td>211.73</td>\n",
              "    </tr>\n",
              "    <tr>\n",
              "      <th>19234</th>\n",
              "      <td>6d8102dfb9acad707f6e15b413270621</td>\n",
              "      <td>1</td>\n",
              "      <td>credit_card</td>\n",
              "      <td>1</td>\n",
              "      <td>2.19</td>\n",
              "    </tr>\n",
              "    <tr>\n",
              "      <th>73207</th>\n",
              "      <td>9991f93b8033efb6a155363142504f5a</td>\n",
              "      <td>1</td>\n",
              "      <td>credit_card</td>\n",
              "      <td>1</td>\n",
              "      <td>115.58</td>\n",
              "    </tr>\n",
              "    <tr>\n",
              "      <th>15064</th>\n",
              "      <td>3169ea0ca9e7b527454873b4aa6e6583</td>\n",
              "      <td>1</td>\n",
              "      <td>credit_card</td>\n",
              "      <td>2</td>\n",
              "      <td>72.78</td>\n",
              "    </tr>\n",
              "    <tr>\n",
              "      <th>26226</th>\n",
              "      <td>e9a1f1bac2a48afae0dbe612a3aa684b</td>\n",
              "      <td>1</td>\n",
              "      <td>credit_card</td>\n",
              "      <td>6</td>\n",
              "      <td>68.10</td>\n",
              "    </tr>\n",
              "  </tbody>\n",
              "</table>\n",
              "</div>"
            ],
            "text/plain": [
              "                               order_id  payment_sequential payment_type  \\\n",
              "13076  7097cd0492a280b3e24b36fd672f5a59                   1  credit_card   \n",
              "19234  6d8102dfb9acad707f6e15b413270621                   1  credit_card   \n",
              "73207  9991f93b8033efb6a155363142504f5a                   1  credit_card   \n",
              "15064  3169ea0ca9e7b527454873b4aa6e6583                   1  credit_card   \n",
              "26226  e9a1f1bac2a48afae0dbe612a3aa684b                   1  credit_card   \n",
              "\n",
              "       payment_installments  payment_value  \n",
              "13076                     4         211.73  \n",
              "19234                     1           2.19  \n",
              "73207                     1         115.58  \n",
              "15064                     2          72.78  \n",
              "26226                     6          68.10  "
            ]
          },
          "execution_count": 97,
          "metadata": {},
          "output_type": "execute_result"
        }
      ],
      "source": [
        "payments_df.sample(5)"
      ]
    },
    {
      "cell_type": "code",
      "execution_count": 98,
      "metadata": {
        "colab": {
          "base_uri": "https://localhost:8080/",
          "height": 0
        },
        "id": "g_Rh2n64H3g4",
        "outputId": "3503437e-028c-4529-b6b6-cb6bd8a7c81a"
      },
      "outputs": [
        {
          "data": {
            "text/html": [
              "<div>\n",
              "<style scoped>\n",
              "    .dataframe tbody tr th:only-of-type {\n",
              "        vertical-align: middle;\n",
              "    }\n",
              "\n",
              "    .dataframe tbody tr th {\n",
              "        vertical-align: top;\n",
              "    }\n",
              "\n",
              "    .dataframe thead th {\n",
              "        text-align: right;\n",
              "    }\n",
              "</style>\n",
              "<table border=\"1\" class=\"dataframe\">\n",
              "  <thead>\n",
              "    <tr style=\"text-align: right;\">\n",
              "      <th></th>\n",
              "      <th>order_id</th>\n",
              "      <th>payment_sequential</th>\n",
              "      <th>payment_type</th>\n",
              "      <th>payment_installments</th>\n",
              "      <th>payment_value</th>\n",
              "    </tr>\n",
              "  </thead>\n",
              "  <tbody>\n",
              "    <tr>\n",
              "      <th>count</th>\n",
              "      <td>91635</td>\n",
              "      <td>91635.000000</td>\n",
              "      <td>91635</td>\n",
              "      <td>91635.000000</td>\n",
              "      <td>91635.000000</td>\n",
              "    </tr>\n",
              "    <tr>\n",
              "      <th>unique</th>\n",
              "      <td>91492</td>\n",
              "      <td>NaN</td>\n",
              "      <td>5</td>\n",
              "      <td>NaN</td>\n",
              "      <td>NaN</td>\n",
              "    </tr>\n",
              "    <tr>\n",
              "      <th>top</th>\n",
              "      <td>87de7ee4012989d6126fe09989746eaf</td>\n",
              "      <td>NaN</td>\n",
              "      <td>credit_card</td>\n",
              "      <td>NaN</td>\n",
              "      <td>NaN</td>\n",
              "    </tr>\n",
              "    <tr>\n",
              "      <th>freq</th>\n",
              "      <td>2</td>\n",
              "      <td>NaN</td>\n",
              "      <td>70165</td>\n",
              "      <td>NaN</td>\n",
              "      <td>NaN</td>\n",
              "    </tr>\n",
              "    <tr>\n",
              "      <th>mean</th>\n",
              "      <td>NaN</td>\n",
              "      <td>1.001953</td>\n",
              "      <td>NaN</td>\n",
              "      <td>2.704218</td>\n",
              "      <td>112.910527</td>\n",
              "    </tr>\n",
              "    <tr>\n",
              "      <th>std</th>\n",
              "      <td>NaN</td>\n",
              "      <td>0.044401</td>\n",
              "      <td>NaN</td>\n",
              "      <td>2.482119</td>\n",
              "      <td>72.302240</td>\n",
              "    </tr>\n",
              "    <tr>\n",
              "      <th>min</th>\n",
              "      <td>NaN</td>\n",
              "      <td>1.000000</td>\n",
              "      <td>NaN</td>\n",
              "      <td>1.000000</td>\n",
              "      <td>0.000000</td>\n",
              "    </tr>\n",
              "    <tr>\n",
              "      <th>25%</th>\n",
              "      <td>NaN</td>\n",
              "      <td>1.000000</td>\n",
              "      <td>NaN</td>\n",
              "      <td>1.000000</td>\n",
              "      <td>56.880000</td>\n",
              "    </tr>\n",
              "    <tr>\n",
              "      <th>50%</th>\n",
              "      <td>NaN</td>\n",
              "      <td>1.000000</td>\n",
              "      <td>NaN</td>\n",
              "      <td>1.000000</td>\n",
              "      <td>95.210000</td>\n",
              "    </tr>\n",
              "    <tr>\n",
              "      <th>75%</th>\n",
              "      <td>NaN</td>\n",
              "      <td>1.000000</td>\n",
              "      <td>NaN</td>\n",
              "      <td>4.000000</td>\n",
              "      <td>153.720000</td>\n",
              "    </tr>\n",
              "    <tr>\n",
              "      <th>max</th>\n",
              "      <td>NaN</td>\n",
              "      <td>3.000000</td>\n",
              "      <td>NaN</td>\n",
              "      <td>24.000000</td>\n",
              "      <td>344.340000</td>\n",
              "    </tr>\n",
              "  </tbody>\n",
              "</table>\n",
              "</div>"
            ],
            "text/plain": [
              "                                order_id  payment_sequential payment_type  \\\n",
              "count                              91635        91635.000000        91635   \n",
              "unique                             91492                 NaN            5   \n",
              "top     87de7ee4012989d6126fe09989746eaf                 NaN  credit_card   \n",
              "freq                                   2                 NaN        70165   \n",
              "mean                                 NaN            1.001953          NaN   \n",
              "std                                  NaN            0.044401          NaN   \n",
              "min                                  NaN            1.000000          NaN   \n",
              "25%                                  NaN            1.000000          NaN   \n",
              "50%                                  NaN            1.000000          NaN   \n",
              "75%                                  NaN            1.000000          NaN   \n",
              "max                                  NaN            3.000000          NaN   \n",
              "\n",
              "        payment_installments  payment_value  \n",
              "count           91635.000000   91635.000000  \n",
              "unique                   NaN            NaN  \n",
              "top                      NaN            NaN  \n",
              "freq                     NaN            NaN  \n",
              "mean                2.704218     112.910527  \n",
              "std                 2.482119      72.302240  \n",
              "min                 1.000000       0.000000  \n",
              "25%                 1.000000      56.880000  \n",
              "50%                 1.000000      95.210000  \n",
              "75%                 4.000000     153.720000  \n",
              "max                24.000000     344.340000  "
            ]
          },
          "execution_count": 98,
          "metadata": {},
          "output_type": "execute_result"
        }
      ],
      "source": [
        "payments_df.describe(include=\"all\")"
      ]
    },
    {
      "cell_type": "markdown",
      "metadata": {
        "id": "jiDowfXNNn2O"
      },
      "source": [
        "##### Mengecek duplikat berdasarkan 'order_id'"
      ]
    },
    {
      "cell_type": "code",
      "execution_count": 99,
      "metadata": {
        "colab": {
          "base_uri": "https://localhost:8080/"
        },
        "id": "2V9Fl11hM8zg",
        "outputId": "bf9e2627-26f9-499b-eeee-51bf795d7fdf"
      },
      "outputs": [
        {
          "name": "stdout",
          "output_type": "stream",
          "text": [
            "Jumlah duplikat berdasarkan 'order_id': 143\n"
          ]
        }
      ],
      "source": [
        "print(\"Jumlah duplikat berdasarkan 'order_id':\", payments_df.duplicated(subset=['order_id']).sum())"
      ]
    },
    {
      "cell_type": "markdown",
      "metadata": {
        "id": "hFKtyg8NOfEM"
      },
      "source": [
        "**Mengabungkan data duplikat order_id**"
      ]
    },
    {
      "cell_type": "code",
      "execution_count": 100,
      "metadata": {
        "id": "up6DEeP7WcPI"
      },
      "outputs": [],
      "source": [
        "payments_df = payments_df.groupby('order_id').agg({\n",
        "    'payment_sequential': 'first',\n",
        "    'payment_type': 'first',\n",
        "    'payment_installments': 'mean',\n",
        "    'payment_value': 'sum'\n",
        "}).reset_index()"
      ]
    },
    {
      "cell_type": "code",
      "execution_count": 101,
      "metadata": {
        "colab": {
          "base_uri": "https://localhost:8080/"
        },
        "id": "ZEd0DpcTPLAQ",
        "outputId": "7af3a528-1972-46b1-9ba5-5ca11f4d68a5"
      },
      "outputs": [
        {
          "name": "stdout",
          "output_type": "stream",
          "text": [
            "Jumlah duplikat setelah penggabungan: 0\n"
          ]
        }
      ],
      "source": [
        "print(\"Jumlah duplikat setelah penggabungan:\",payments_df.duplicated(subset=['order_id']).sum())"
      ]
    },
    {
      "cell_type": "markdown",
      "metadata": {
        "id": "gaqvyixxXrME"
      },
      "source": [
        "##### Mengecek apakah ada transaksi dengan 'payment_type' yang tidak valid"
      ]
    },
    {
      "cell_type": "code",
      "execution_count": 102,
      "metadata": {
        "colab": {
          "base_uri": "https://localhost:8080/",
          "height": 0
        },
        "id": "kXXn-PzyXuqF",
        "outputId": "5fbc302e-a28e-40de-d5ee-2988258643f7"
      },
      "outputs": [
        {
          "data": {
            "text/html": [
              "<div>\n",
              "<style scoped>\n",
              "    .dataframe tbody tr th:only-of-type {\n",
              "        vertical-align: middle;\n",
              "    }\n",
              "\n",
              "    .dataframe tbody tr th {\n",
              "        vertical-align: top;\n",
              "    }\n",
              "\n",
              "    .dataframe thead th {\n",
              "        text-align: right;\n",
              "    }\n",
              "</style>\n",
              "<table border=\"1\" class=\"dataframe\">\n",
              "  <thead>\n",
              "    <tr style=\"text-align: right;\">\n",
              "      <th></th>\n",
              "      <th>order_id</th>\n",
              "      <th>payment_sequential</th>\n",
              "      <th>payment_type</th>\n",
              "      <th>payment_installments</th>\n",
              "      <th>payment_value</th>\n",
              "    </tr>\n",
              "  </thead>\n",
              "  <tbody>\n",
              "    <tr>\n",
              "      <th>236</th>\n",
              "      <td>00b1cb0320190ca0daa2c88b35206009</td>\n",
              "      <td>1</td>\n",
              "      <td>not_defined</td>\n",
              "      <td>1.0</td>\n",
              "      <td>0.0</td>\n",
              "    </tr>\n",
              "    <tr>\n",
              "      <th>25119</th>\n",
              "      <td>4637ca194b6387e2d538dc89b124b0ee</td>\n",
              "      <td>1</td>\n",
              "      <td>not_defined</td>\n",
              "      <td>1.0</td>\n",
              "      <td>0.0</td>\n",
              "    </tr>\n",
              "    <tr>\n",
              "      <th>71779</th>\n",
              "      <td>c8c528189310eaa44a745b8d9d26908b</td>\n",
              "      <td>1</td>\n",
              "      <td>not_defined</td>\n",
              "      <td>1.0</td>\n",
              "      <td>0.0</td>\n",
              "    </tr>\n",
              "  </tbody>\n",
              "</table>\n",
              "</div>"
            ],
            "text/plain": [
              "                               order_id  payment_sequential payment_type  \\\n",
              "236    00b1cb0320190ca0daa2c88b35206009                   1  not_defined   \n",
              "25119  4637ca194b6387e2d538dc89b124b0ee                   1  not_defined   \n",
              "71779  c8c528189310eaa44a745b8d9d26908b                   1  not_defined   \n",
              "\n",
              "       payment_installments  payment_value  \n",
              "236                     1.0            0.0  \n",
              "25119                   1.0            0.0  \n",
              "71779                   1.0            0.0  "
            ]
          },
          "execution_count": 102,
          "metadata": {},
          "output_type": "execute_result"
        }
      ],
      "source": [
        "valid_payment_types = ['credit_card', 'boleto', 'voucher', 'debit_card', 'ticket']\n",
        "payments_df[~payments_df['payment_type'].isin(valid_payment_types)]"
      ]
    },
    {
      "cell_type": "markdown",
      "metadata": {
        "id": "_3tyNUkmY4a8"
      },
      "source": [
        "**Berdasarkan tabel tersebut, didapati 3 payment_type yang tidak valid, pilihan yang tepat adalah menghapus data agar analisis lebih valid**"
      ]
    },
    {
      "cell_type": "code",
      "execution_count": 103,
      "metadata": {
        "id": "OclxF4cDYbeq"
      },
      "outputs": [],
      "source": [
        "payments_df.drop(payments_df[payments_df['payment_type'] == 'not_defined'].index, inplace=True)"
      ]
    },
    {
      "cell_type": "code",
      "execution_count": 104,
      "metadata": {
        "colab": {
          "base_uri": "https://localhost:8080/"
        },
        "id": "T6SXFRludM8p",
        "outputId": "c96457a7-c07b-46cf-b8f6-da849a486190"
      },
      "outputs": [
        {
          "name": "stdout",
          "output_type": "stream",
          "text": [
            "Data Duplikat berdasarkan 'order_id': Empty DataFrame\n",
            "Columns: [order_id, payment_sequential, payment_type, payment_installments, payment_value]\n",
            "Index: []\n"
          ]
        }
      ],
      "source": [
        "duplicates = payments_df[payments_df.duplicated(subset=['order_id'], keep=False)]\n",
        "print(\"Data Duplikat berdasarkan 'order_id':\", duplicates)"
      ]
    },
    {
      "cell_type": "markdown",
      "metadata": {
        "id": "lRR3t5Aje3Kx"
      },
      "source": [
        "##### Mengecek Cek apakah ada 'order_id' yang hilang di 'orders_df'\n"
      ]
    },
    {
      "cell_type": "code",
      "execution_count": 105,
      "metadata": {
        "colab": {
          "base_uri": "https://localhost:8080/"
        },
        "id": "kLadlRbke5VT",
        "outputId": "6f280d14-455f-437e-a02d-af653825abb4"
      },
      "outputs": [
        {
          "name": "stdout",
          "output_type": "stream",
          "text": [
            "Order ID yang ada di payments_df tapi tidak ada di orders_df:\n",
            "                               order_id\n",
            "67     002f19a65a2ddd70a090297872e6d64e\n",
            "71     00310b0c75bb13015ec4d82d341865a4\n",
            "223    00a99c50fdff7e36262caba33821875a\n",
            "231    00ae7a8b4936674ebb701d4a23719a79\n",
            "289    00d0ffd14774da775ac832ba8520510f\n",
            "...                                 ...\n",
            "90702  fdbbb1715d0c62c714e2a8178b95dd54\n",
            "90952  fe68d8f20f2d6e9d702a74d3bfa9c4fa\n",
            "90980  fe84e8950d87d6b977d9871fd883b76f\n",
            "91025  fe9fae71b4fa7d05f1934adc54391f8d\n",
            "91235  ff358345576214cc9e08488188973c84\n",
            "\n",
            "[973 rows x 1 columns]\n"
          ]
        }
      ],
      "source": [
        "missing_order_ids = payments_df[~payments_df['order_id'].isin(orders_df['order_id'])]\n",
        "print(\"Order ID yang ada di payments_df tapi tidak ada di orders_df:\")\n",
        "print(missing_order_ids[['order_id']].drop_duplicates())"
      ]
    },
    {
      "cell_type": "code",
      "execution_count": 106,
      "metadata": {
        "colab": {
          "base_uri": "https://localhost:8080/"
        },
        "id": "dU460VbbgwKF",
        "outputId": "1deff453-0944-4d37-e425-bc74972f3e2e"
      },
      "outputs": [
        {
          "name": "stdout",
          "output_type": "stream",
          "text": [
            "Order ID yang tidak ada di 'orders_df':\n",
            "                               order_id\n",
            "67     002f19a65a2ddd70a090297872e6d64e\n",
            "71     00310b0c75bb13015ec4d82d341865a4\n",
            "223    00a99c50fdff7e36262caba33821875a\n",
            "231    00ae7a8b4936674ebb701d4a23719a79\n",
            "289    00d0ffd14774da775ac832ba8520510f\n",
            "...                                 ...\n",
            "90702  fdbbb1715d0c62c714e2a8178b95dd54\n",
            "90952  fe68d8f20f2d6e9d702a74d3bfa9c4fa\n",
            "90980  fe84e8950d87d6b977d9871fd883b76f\n",
            "91025  fe9fae71b4fa7d05f1934adc54391f8d\n",
            "91235  ff358345576214cc9e08488188973c84\n",
            "\n",
            "[973 rows x 1 columns]\n"
          ]
        }
      ],
      "source": [
        "missing_in_orders = missing_order_ids[~missing_order_ids['order_id'].isin(orders_df['order_id'])]\n",
        "print(\"Order ID yang tidak ada di 'orders_df':\")\n",
        "print(missing_in_orders[['order_id']].drop_duplicates())\n"
      ]
    },
    {
      "cell_type": "code",
      "execution_count": 107,
      "metadata": {
        "colab": {
          "base_uri": "https://localhost:8080/"
        },
        "id": "cJtrT58XiCZT",
        "outputId": "61ce9258-311e-4763-b04c-c787da72e811"
      },
      "outputs": [
        {
          "name": "stdout",
          "output_type": "stream",
          "text": [
            "Jumlah `order_id` yang tidak ada: 973\n"
          ]
        }
      ],
      "source": [
        "missing_orders = payments_df[~payments_df['order_id'].isin(orders_df['order_id'])]\n",
        "missing_orders_count = len(missing_orders)\n",
        "print(f\"Jumlah `order_id` yang tidak ada: {missing_orders_count}\")"
      ]
    },
    {
      "cell_type": "code",
      "execution_count": 108,
      "metadata": {
        "colab": {
          "base_uri": "https://localhost:8080/"
        },
        "id": "Zt1jZTi4iGQu",
        "outputId": "09d354fb-ee23-4ecb-f210-30eae52f4f7e"
      },
      "outputs": [
        {
          "name": "stdout",
          "output_type": "stream",
          "text": [
            "Persentase `order_id` yang hilang: 1.06%\n"
          ]
        }
      ],
      "source": [
        "total_payments_count = len(payments_df)\n",
        "missing_percentage = (missing_orders_count / total_payments_count) * 100\n",
        "print(f\"Persentase `order_id` yang hilang: {missing_percentage:.2f}%\")\n"
      ]
    },
    {
      "cell_type": "markdown",
      "metadata": {
        "id": "RyohGd1mz6zW"
      },
      "source": [
        "**Karena index berkisar 1% jadi diputuskan untu menghapus data tersebut, agar lebih valid dalam analisi data**"
      ]
    },
    {
      "cell_type": "code",
      "execution_count": 109,
      "metadata": {
        "id": "k5Wq-rIDiu2t"
      },
      "outputs": [],
      "source": [
        "payments_df.drop(payments_df[~payments_df['order_id'].isin(orders_df['order_id'])].index, inplace=True)"
      ]
    },
    {
      "cell_type": "code",
      "execution_count": 110,
      "metadata": {
        "colab": {
          "base_uri": "https://localhost:8080/"
        },
        "id": "IRJwf9LLi13Y",
        "outputId": "0b3c474f-e48a-427b-9d21-3ef08bd404d5"
      },
      "outputs": [
        {
          "name": "stdout",
          "output_type": "stream",
          "text": [
            "Pengecekan ulang apakah ada 'order_id' yang hilang di 'orders_df': 0\n"
          ]
        }
      ],
      "source": [
        "print(\"Pengecekan ulang apakah ada 'order_id' yang hilang di 'orders_df':\", len(payments_df[~payments_df['order_id'].isin(orders_df['order_id'])]))"
      ]
    },
    {
      "cell_type": "markdown",
      "metadata": {
        "id": "qWoEd1jwmbqq"
      },
      "source": [
        "##### Metode Pembayaran Apa yang Sering Digunakan"
      ]
    },
    {
      "cell_type": "code",
      "execution_count": 111,
      "metadata": {
        "colab": {
          "base_uri": "https://localhost:8080/",
          "height": 0
        },
        "id": "5aO6eoTymfI0",
        "outputId": "dee2e894-463c-4b07-cc56-f93937c5a93a"
      },
      "outputs": [
        {
          "data": {
            "text/plain": [
              "payment_type\n",
              "boleto         18323\n",
              "credit_card    69319\n",
              "debit_card      1374\n",
              "voucher         1500\n",
              "dtype: int64"
            ]
          },
          "execution_count": 111,
          "metadata": {},
          "output_type": "execute_result"
        }
      ],
      "source": [
        "payments_df.groupby('payment_type').size()"
      ]
    },
    {
      "cell_type": "markdown",
      "metadata": {
        "id": "39-HJv7C04W6"
      },
      "source": [
        "##### Total Pembayaran per Metode"
      ]
    },
    {
      "cell_type": "code",
      "execution_count": 112,
      "metadata": {
        "colab": {
          "base_uri": "https://localhost:8080/",
          "height": 0
        },
        "id": "TF2lFSqO06Vk",
        "outputId": "ccef47df-6cda-4b32-e4c3-0cb43fb1381e"
      },
      "outputs": [
        {
          "data": {
            "text/plain": [
              "payment_type\n",
              "boleto         1960676.42\n",
              "credit_card    8018122.28\n",
              "debit_card      142891.71\n",
              "voucher         110384.15\n",
              "Name: payment_value, dtype: float64"
            ]
          },
          "execution_count": 112,
          "metadata": {},
          "output_type": "execute_result"
        }
      ],
      "source": [
        "payments_df.groupby('payment_type')['payment_value'].sum()"
      ]
    },
    {
      "cell_type": "markdown",
      "metadata": {
        "id": "B5hSrJlN1AD8"
      },
      "source": [
        "##### Rata-rata Pembayaran per Transaksi"
      ]
    },
    {
      "cell_type": "code",
      "execution_count": 113,
      "metadata": {
        "colab": {
          "base_uri": "https://localhost:8080/",
          "height": 0
        },
        "id": "SgxHBcng1E2L",
        "outputId": "e1997cf0-057c-464b-f989-66b4048624ee"
      },
      "outputs": [
        {
          "data": {
            "text/plain": [
              "payment_type\n",
              "boleto         107.006299\n",
              "credit_card    115.669907\n",
              "debit_card     103.996878\n",
              "voucher         73.589433\n",
              "Name: payment_value, dtype: float64"
            ]
          },
          "execution_count": 113,
          "metadata": {},
          "output_type": "execute_result"
        }
      ],
      "source": [
        "payments_df.groupby('payment_type')['payment_value'].mean()"
      ]
    },
    {
      "cell_type": "markdown",
      "metadata": {
        "id": "eljp3NMoLCqX"
      },
      "source": [
        "#### Explore items_df"
      ]
    },
    {
      "cell_type": "code",
      "execution_count": 114,
      "metadata": {
        "colab": {
          "base_uri": "https://localhost:8080/",
          "height": 0
        },
        "id": "PnQllFDVLdrs",
        "outputId": "a84fc4bc-ef58-4b27-ac94-3e83551761ad"
      },
      "outputs": [
        {
          "data": {
            "text/html": [
              "<div>\n",
              "<style scoped>\n",
              "    .dataframe tbody tr th:only-of-type {\n",
              "        vertical-align: middle;\n",
              "    }\n",
              "\n",
              "    .dataframe tbody tr th {\n",
              "        vertical-align: top;\n",
              "    }\n",
              "\n",
              "    .dataframe thead th {\n",
              "        text-align: right;\n",
              "    }\n",
              "</style>\n",
              "<table border=\"1\" class=\"dataframe\">\n",
              "  <thead>\n",
              "    <tr style=\"text-align: right;\">\n",
              "      <th></th>\n",
              "      <th>order_id</th>\n",
              "      <th>order_item_id</th>\n",
              "      <th>product_id</th>\n",
              "      <th>seller_id</th>\n",
              "      <th>shipping_limit_date</th>\n",
              "      <th>price</th>\n",
              "      <th>freight_value</th>\n",
              "    </tr>\n",
              "  </thead>\n",
              "  <tbody>\n",
              "    <tr>\n",
              "      <th>78096</th>\n",
              "      <td>b1b69f51bb6761e529b47d528ba4470e</td>\n",
              "      <td>1</td>\n",
              "      <td>0e0487ef680ae92e064423238d1b4c05</td>\n",
              "      <td>179d859f51292aac5c10806a356f7af9</td>\n",
              "      <td>2018-07-23 04:31:56</td>\n",
              "      <td>22.00</td>\n",
              "      <td>37.06</td>\n",
              "    </tr>\n",
              "    <tr>\n",
              "      <th>54351</th>\n",
              "      <td>7b881c16b6ad7bd81eff459120afd91e</td>\n",
              "      <td>1</td>\n",
              "      <td>57fcacc3434a1f2f2b039c1b4e61f5e1</td>\n",
              "      <td>2138ccb85b11a4ec1e37afbd1c8eda1f</td>\n",
              "      <td>2017-07-03 12:45:21</td>\n",
              "      <td>18.90</td>\n",
              "      <td>15.10</td>\n",
              "    </tr>\n",
              "    <tr>\n",
              "      <th>63772</th>\n",
              "      <td>919dfcc9cd85179b6da8c06b39a29996</td>\n",
              "      <td>1</td>\n",
              "      <td>0453f63a85b66c3950381599dbbfb2ec</td>\n",
              "      <td>55a5b51f93f2b70ea513f5a047b0262a</td>\n",
              "      <td>2017-08-22 03:26:16</td>\n",
              "      <td>34.70</td>\n",
              "      <td>15.10</td>\n",
              "    </tr>\n",
              "    <tr>\n",
              "      <th>14303</th>\n",
              "      <td>208e8b34ce83784e7f65185eab460000</td>\n",
              "      <td>1</td>\n",
              "      <td>dccab0aeed5632473aa1fccf14846b3a</td>\n",
              "      <td>06a2c3af7b3aee5d69171b0e14f0ee87</td>\n",
              "      <td>2018-03-22 11:30:43</td>\n",
              "      <td>61.99</td>\n",
              "      <td>19.12</td>\n",
              "    </tr>\n",
              "    <tr>\n",
              "      <th>46081</th>\n",
              "      <td>689bb5b4071b09f5e0c4e3633886d3df</td>\n",
              "      <td>1</td>\n",
              "      <td>aca2eb7d00ea1a7b8ebd4e68314663af</td>\n",
              "      <td>955fee9216a65b617aa5c0531780ce60</td>\n",
              "      <td>2018-01-18 02:48:23</td>\n",
              "      <td>69.90</td>\n",
              "      <td>16.12</td>\n",
              "    </tr>\n",
              "  </tbody>\n",
              "</table>\n",
              "</div>"
            ],
            "text/plain": [
              "                               order_id  order_item_id  \\\n",
              "78096  b1b69f51bb6761e529b47d528ba4470e              1   \n",
              "54351  7b881c16b6ad7bd81eff459120afd91e              1   \n",
              "63772  919dfcc9cd85179b6da8c06b39a29996              1   \n",
              "14303  208e8b34ce83784e7f65185eab460000              1   \n",
              "46081  689bb5b4071b09f5e0c4e3633886d3df              1   \n",
              "\n",
              "                             product_id                         seller_id  \\\n",
              "78096  0e0487ef680ae92e064423238d1b4c05  179d859f51292aac5c10806a356f7af9   \n",
              "54351  57fcacc3434a1f2f2b039c1b4e61f5e1  2138ccb85b11a4ec1e37afbd1c8eda1f   \n",
              "63772  0453f63a85b66c3950381599dbbfb2ec  55a5b51f93f2b70ea513f5a047b0262a   \n",
              "14303  dccab0aeed5632473aa1fccf14846b3a  06a2c3af7b3aee5d69171b0e14f0ee87   \n",
              "46081  aca2eb7d00ea1a7b8ebd4e68314663af  955fee9216a65b617aa5c0531780ce60   \n",
              "\n",
              "      shipping_limit_date  price  freight_value  \n",
              "78096 2018-07-23 04:31:56  22.00          37.06  \n",
              "54351 2017-07-03 12:45:21  18.90          15.10  \n",
              "63772 2017-08-22 03:26:16  34.70          15.10  \n",
              "14303 2018-03-22 11:30:43  61.99          19.12  \n",
              "46081 2018-01-18 02:48:23  69.90          16.12  "
            ]
          },
          "execution_count": 114,
          "metadata": {},
          "output_type": "execute_result"
        }
      ],
      "source": [
        "items_df.sample(5)"
      ]
    },
    {
      "cell_type": "code",
      "execution_count": 115,
      "metadata": {
        "colab": {
          "base_uri": "https://localhost:8080/",
          "height": 0
        },
        "id": "g2Emava-L9kN",
        "outputId": "292fb72f-c466-4e28-b1a0-ee2dc7dccd86"
      },
      "outputs": [
        {
          "data": {
            "text/html": [
              "<div>\n",
              "<style scoped>\n",
              "    .dataframe tbody tr th:only-of-type {\n",
              "        vertical-align: middle;\n",
              "    }\n",
              "\n",
              "    .dataframe tbody tr th {\n",
              "        vertical-align: top;\n",
              "    }\n",
              "\n",
              "    .dataframe thead th {\n",
              "        text-align: right;\n",
              "    }\n",
              "</style>\n",
              "<table border=\"1\" class=\"dataframe\">\n",
              "  <thead>\n",
              "    <tr style=\"text-align: right;\">\n",
              "      <th></th>\n",
              "      <th>order_id</th>\n",
              "      <th>order_item_id</th>\n",
              "      <th>product_id</th>\n",
              "      <th>seller_id</th>\n",
              "      <th>shipping_limit_date</th>\n",
              "      <th>price</th>\n",
              "      <th>freight_value</th>\n",
              "    </tr>\n",
              "  </thead>\n",
              "  <tbody>\n",
              "    <tr>\n",
              "      <th>count</th>\n",
              "      <td>102425</td>\n",
              "      <td>102425.000000</td>\n",
              "      <td>102425</td>\n",
              "      <td>102425</td>\n",
              "      <td>102425</td>\n",
              "      <td>102425.000000</td>\n",
              "      <td>102425.000000</td>\n",
              "    </tr>\n",
              "    <tr>\n",
              "      <th>unique</th>\n",
              "      <td>98666</td>\n",
              "      <td>NaN</td>\n",
              "      <td>32951</td>\n",
              "      <td>3095</td>\n",
              "      <td>NaN</td>\n",
              "      <td>NaN</td>\n",
              "      <td>NaN</td>\n",
              "    </tr>\n",
              "    <tr>\n",
              "      <th>top</th>\n",
              "      <td>ca3625898fbd48669d50701aba51cd5f</td>\n",
              "      <td>NaN</td>\n",
              "      <td>99a4788cb24856965c36a24e339b6058</td>\n",
              "      <td>6560211a19b47992c3666cc44a7e94c0</td>\n",
              "      <td>NaN</td>\n",
              "      <td>NaN</td>\n",
              "      <td>NaN</td>\n",
              "    </tr>\n",
              "    <tr>\n",
              "      <th>freq</th>\n",
              "      <td>8</td>\n",
              "      <td>NaN</td>\n",
              "      <td>467</td>\n",
              "      <td>1982</td>\n",
              "      <td>NaN</td>\n",
              "      <td>NaN</td>\n",
              "      <td>NaN</td>\n",
              "    </tr>\n",
              "    <tr>\n",
              "      <th>mean</th>\n",
              "      <td>NaN</td>\n",
              "      <td>1.046268</td>\n",
              "      <td>NaN</td>\n",
              "      <td>NaN</td>\n",
              "      <td>2018-01-07 12:56:20.101556992</td>\n",
              "      <td>124.422006</td>\n",
              "      <td>20.111152</td>\n",
              "    </tr>\n",
              "    <tr>\n",
              "      <th>min</th>\n",
              "      <td>NaN</td>\n",
              "      <td>1.000000</td>\n",
              "      <td>NaN</td>\n",
              "      <td>NaN</td>\n",
              "      <td>2016-09-19 00:15:34</td>\n",
              "      <td>0.850000</td>\n",
              "      <td>0.000000</td>\n",
              "    </tr>\n",
              "    <tr>\n",
              "      <th>25%</th>\n",
              "      <td>NaN</td>\n",
              "      <td>1.000000</td>\n",
              "      <td>NaN</td>\n",
              "      <td>NaN</td>\n",
              "      <td>2017-09-20 03:05:47</td>\n",
              "      <td>40.000000</td>\n",
              "      <td>13.140000</td>\n",
              "    </tr>\n",
              "    <tr>\n",
              "      <th>50%</th>\n",
              "      <td>NaN</td>\n",
              "      <td>1.000000</td>\n",
              "      <td>NaN</td>\n",
              "      <td>NaN</td>\n",
              "      <td>2018-01-26 10:57:22</td>\n",
              "      <td>78.800000</td>\n",
              "      <td>16.320000</td>\n",
              "    </tr>\n",
              "    <tr>\n",
              "      <th>75%</th>\n",
              "      <td>NaN</td>\n",
              "      <td>1.000000</td>\n",
              "      <td>NaN</td>\n",
              "      <td>NaN</td>\n",
              "      <td>2018-05-10 15:50:40</td>\n",
              "      <td>139.000000</td>\n",
              "      <td>21.220000</td>\n",
              "    </tr>\n",
              "    <tr>\n",
              "      <th>max</th>\n",
              "      <td>NaN</td>\n",
              "      <td>21.000000</td>\n",
              "      <td>NaN</td>\n",
              "      <td>NaN</td>\n",
              "      <td>2020-04-09 22:35:08</td>\n",
              "      <td>6735.000000</td>\n",
              "      <td>409.680000</td>\n",
              "    </tr>\n",
              "    <tr>\n",
              "      <th>std</th>\n",
              "      <td>NaN</td>\n",
              "      <td>0.276733</td>\n",
              "      <td>NaN</td>\n",
              "      <td>NaN</td>\n",
              "      <td>NaN</td>\n",
              "      <td>188.926084</td>\n",
              "      <td>15.884700</td>\n",
              "    </tr>\n",
              "  </tbody>\n",
              "</table>\n",
              "</div>"
            ],
            "text/plain": [
              "                                order_id  order_item_id  \\\n",
              "count                             102425  102425.000000   \n",
              "unique                             98666            NaN   \n",
              "top     ca3625898fbd48669d50701aba51cd5f            NaN   \n",
              "freq                                   8            NaN   \n",
              "mean                                 NaN       1.046268   \n",
              "min                                  NaN       1.000000   \n",
              "25%                                  NaN       1.000000   \n",
              "50%                                  NaN       1.000000   \n",
              "75%                                  NaN       1.000000   \n",
              "max                                  NaN      21.000000   \n",
              "std                                  NaN       0.276733   \n",
              "\n",
              "                              product_id                         seller_id  \\\n",
              "count                             102425                            102425   \n",
              "unique                             32951                              3095   \n",
              "top     99a4788cb24856965c36a24e339b6058  6560211a19b47992c3666cc44a7e94c0   \n",
              "freq                                 467                              1982   \n",
              "mean                                 NaN                               NaN   \n",
              "min                                  NaN                               NaN   \n",
              "25%                                  NaN                               NaN   \n",
              "50%                                  NaN                               NaN   \n",
              "75%                                  NaN                               NaN   \n",
              "max                                  NaN                               NaN   \n",
              "std                                  NaN                               NaN   \n",
              "\n",
              "                  shipping_limit_date          price  freight_value  \n",
              "count                          102425  102425.000000  102425.000000  \n",
              "unique                            NaN            NaN            NaN  \n",
              "top                               NaN            NaN            NaN  \n",
              "freq                              NaN            NaN            NaN  \n",
              "mean    2018-01-07 12:56:20.101556992     124.422006      20.111152  \n",
              "min               2016-09-19 00:15:34       0.850000       0.000000  \n",
              "25%               2017-09-20 03:05:47      40.000000      13.140000  \n",
              "50%               2018-01-26 10:57:22      78.800000      16.320000  \n",
              "75%               2018-05-10 15:50:40     139.000000      21.220000  \n",
              "max               2020-04-09 22:35:08    6735.000000     409.680000  \n",
              "std                               NaN     188.926084      15.884700  "
            ]
          },
          "execution_count": 115,
          "metadata": {},
          "output_type": "execute_result"
        }
      ],
      "source": [
        "items_df.describe(include=\"all\")"
      ]
    },
    {
      "cell_type": "markdown",
      "metadata": {
        "id": "-yfhxsHwByhV"
      },
      "source": [
        "##### Menghitung jumlah produk terjual berdasarkan product_id"
      ]
    },
    {
      "cell_type": "code",
      "execution_count": 116,
      "metadata": {
        "colab": {
          "base_uri": "https://localhost:8080/",
          "height": 0
        },
        "id": "9WHvfUsNMZ4m",
        "outputId": "81b86973-9adc-46d4-e382-e1f48d817cf8"
      },
      "outputs": [
        {
          "data": {
            "text/plain": [
              "product_id\n",
              "99a4788cb24856965c36a24e339b6058    467\n",
              "aca2eb7d00ea1a7b8ebd4e68314663af    431\n",
              "422879e10f46682990de24d770e7f83d    352\n",
              "d1c427060a0f73f6b889a5c7c61f2ac4    323\n",
              "389d119b48cf3043d311335e499d9c6b    311\n",
              "dtype: int64"
            ]
          },
          "execution_count": 116,
          "metadata": {},
          "output_type": "execute_result"
        }
      ],
      "source": [
        "product_sales = items_df.groupby('product_id').size().sort_values(ascending=False)\n",
        "product_sales.head()"
      ]
    },
    {
      "cell_type": "markdown",
      "metadata": {
        "id": "85-ALJnDCBcg"
      },
      "source": [
        "#### #Menghitung pendapatan per produk"
      ]
    },
    {
      "cell_type": "code",
      "execution_count": 117,
      "metadata": {
        "colab": {
          "base_uri": "https://localhost:8080/",
          "height": 0
        },
        "id": "udRLpcm57eBR",
        "outputId": "c2b90c7c-7b36-4fa6-b27c-e49123fc5348"
      },
      "outputs": [
        {
          "data": {
            "text/plain": [
              "product_id\n",
              "bb50f2e236e5eea0100680137654686c    61245.00\n",
              "6cdd53843498f92890544667809f1595    52966.60\n",
              "d6160fb7873f184099d9bc95e30376af    48899.34\n",
              "d1c427060a0f73f6b889a5c7c61f2ac4    44417.58\n",
              "99a4788cb24856965c36a24e339b6058    41193.56\n",
              "Name: revenue, dtype: float64"
            ]
          },
          "execution_count": 117,
          "metadata": {},
          "output_type": "execute_result"
        }
      ],
      "source": [
        "items_df['revenue'] = items_df['price'] * 1\n",
        "product_revenue = items_df.groupby('product_id')['revenue'].sum().sort_values(ascending=False)\n",
        "product_revenue.head()"
      ]
    },
    {
      "cell_type": "markdown",
      "metadata": {
        "id": "9_WQrxQsCXKO"
      },
      "source": [
        "##### Menghitung total pendapatan per tanggal"
      ]
    },
    {
      "cell_type": "code",
      "execution_count": 118,
      "metadata": {
        "colab": {
          "base_uri": "https://localhost:8080/",
          "height": 0
        },
        "id": "fZc-uNFX8ENa",
        "outputId": "471660cb-e034-43e4-974a-b17865f03005"
      },
      "outputs": [
        {
          "data": {
            "text/plain": [
              "shipping_limit_date\n",
              "2016-09-19     104.49\n",
              "2016-10-08     884.39\n",
              "2016-10-09    1545.57\n",
              "2016-10-10    7123.31\n",
              "2016-10-11    6691.56\n",
              "Name: revenue, dtype: float64"
            ]
          },
          "execution_count": 118,
          "metadata": {},
          "output_type": "execute_result"
        }
      ],
      "source": [
        "items_df['shipping_limit_date'] = pd.to_datetime(items_df['shipping_limit_date'])\n",
        "daily_revenue = items_df.groupby(items_df['shipping_limit_date'].dt.date)['revenue'].sum()\n",
        "daily_revenue.head()"
      ]
    },
    {
      "cell_type": "markdown",
      "metadata": {
        "id": "LyHGcns7Ca-1"
      },
      "source": [
        "##### Menampilkan tanggal pengiriman pertama dan terakhir"
      ]
    },
    {
      "cell_type": "code",
      "execution_count": 119,
      "metadata": {
        "colab": {
          "base_uri": "https://localhost:8080/"
        },
        "id": "ZxwSy1iH9pCG",
        "outputId": "4ac960a2-51fe-47a4-e28f-cbbdde162a32"
      },
      "outputs": [
        {
          "name": "stdout",
          "output_type": "stream",
          "text": [
            "Tanggal pengiriman pertama: 2016-09-19 00:15:34\n",
            "Tanggal pengiriman terakhir: 2020-04-09 22:35:08\n"
          ]
        }
      ],
      "source": [
        "print(\"Tanggal pengiriman pertama:\", items_df['shipping_limit_date'].min())\n",
        "print(\"Tanggal pengiriman terakhir:\", items_df['shipping_limit_date'].max())"
      ]
    },
    {
      "cell_type": "markdown",
      "metadata": {
        "id": "DJA8B8aRDBCD"
      },
      "source": [
        "##### Menghitung korelasi antara price dan freight_value"
      ]
    },
    {
      "cell_type": "code",
      "execution_count": 120,
      "metadata": {
        "colab": {
          "base_uri": "https://localhost:8080/"
        },
        "id": "ggkGRrgS9sgi",
        "outputId": "898df24c-e98f-4a81-d8c5-7cd4827100ed"
      },
      "outputs": [
        {
          "name": "stdout",
          "output_type": "stream",
          "text": [
            "                  price  freight_value\n",
            "price          1.000000       0.419435\n",
            "freight_value  0.419435       1.000000\n"
          ]
        }
      ],
      "source": [
        "correlation = items_df[['price', 'freight_value']].corr()\n",
        "print(correlation)"
      ]
    },
    {
      "cell_type": "code",
      "execution_count": 121,
      "metadata": {
        "colab": {
          "base_uri": "https://localhost:8080/"
        },
        "id": "HbjMcgYA9_tz",
        "outputId": "530a182c-241e-40de-c7e9-116d99dee874"
      },
      "outputs": [
        {
          "data": {
            "text/plain": [
              "(shipping_day_of_week\n",
              " Thursday     27772\n",
              " Monday       18945\n",
              " Wednesday    18711\n",
              " Tuesday      18179\n",
              " Friday       15851\n",
              " Sunday        2544\n",
              " Saturday       423\n",
              " Name: count, dtype: int64,\n",
              " shipping_month\n",
              " 8     12726\n",
              " 5     11691\n",
              " 3     10341\n",
              " 7      9888\n",
              " 6      9771\n",
              " 4      9096\n",
              " 2      8360\n",
              " 1      7518\n",
              " 12     7026\n",
              " 11     6611\n",
              " 10     4997\n",
              " 9      4400\n",
              " Name: count, dtype: int64)"
            ]
          },
          "execution_count": 121,
          "metadata": {},
          "output_type": "execute_result"
        }
      ],
      "source": [
        "items_df['shipping_day_of_week'] = items_df['shipping_limit_date'].dt.day_name()\n",
        "items_df['shipping_month'] = items_df['shipping_limit_date'].dt.month\n",
        "items_df['shipping_day_of_week'].value_counts(), items_df['shipping_month'].value_counts()"
      ]
    },
    {
      "cell_type": "markdown",
      "metadata": {
        "id": "_9XzsBLkD0xl"
      },
      "source": [
        "##### Menghitung jumlah pesanan serta total pendapatan"
      ]
    },
    {
      "cell_type": "code",
      "execution_count": 122,
      "metadata": {
        "colab": {
          "base_uri": "https://localhost:8080/",
          "height": 0
        },
        "id": "BI3w5nNj-vV3",
        "outputId": "6115640e-e1c5-4b44-e578-f53e90366e5b"
      },
      "outputs": [
        {
          "data": {
            "text/html": [
              "<div>\n",
              "<style scoped>\n",
              "    .dataframe tbody tr th:only-of-type {\n",
              "        vertical-align: middle;\n",
              "    }\n",
              "\n",
              "    .dataframe tbody tr th {\n",
              "        vertical-align: top;\n",
              "    }\n",
              "\n",
              "    .dataframe thead th {\n",
              "        text-align: right;\n",
              "    }\n",
              "</style>\n",
              "<table border=\"1\" class=\"dataframe\">\n",
              "  <thead>\n",
              "    <tr style=\"text-align: right;\">\n",
              "      <th></th>\n",
              "      <th>product_id</th>\n",
              "      <th>total_orders</th>\n",
              "      <th>total_revenue</th>\n",
              "    </tr>\n",
              "  </thead>\n",
              "  <tbody>\n",
              "    <tr>\n",
              "      <th>0</th>\n",
              "      <td>00066f42aeeb9f3007548bb9d3f33c38</td>\n",
              "      <td>1</td>\n",
              "      <td>101.65</td>\n",
              "    </tr>\n",
              "    <tr>\n",
              "      <th>1</th>\n",
              "      <td>00088930e925c41fd95ebfe695fd2655</td>\n",
              "      <td>1</td>\n",
              "      <td>129.90</td>\n",
              "    </tr>\n",
              "    <tr>\n",
              "      <th>2</th>\n",
              "      <td>0009406fd7479715e4bef61dd91f2462</td>\n",
              "      <td>1</td>\n",
              "      <td>229.00</td>\n",
              "    </tr>\n",
              "    <tr>\n",
              "      <th>3</th>\n",
              "      <td>000b8f95fcb9e0096488278317764d19</td>\n",
              "      <td>2</td>\n",
              "      <td>117.80</td>\n",
              "    </tr>\n",
              "    <tr>\n",
              "      <th>4</th>\n",
              "      <td>000d9be29b5207b54e86aa1b1ac54872</td>\n",
              "      <td>1</td>\n",
              "      <td>199.00</td>\n",
              "    </tr>\n",
              "    <tr>\n",
              "      <th>...</th>\n",
              "      <td>...</td>\n",
              "      <td>...</td>\n",
              "      <td>...</td>\n",
              "    </tr>\n",
              "    <tr>\n",
              "      <th>32946</th>\n",
              "      <td>fff6177642830a9a94a0f2cba5e476d1</td>\n",
              "      <td>2</td>\n",
              "      <td>229.98</td>\n",
              "    </tr>\n",
              "    <tr>\n",
              "      <th>32947</th>\n",
              "      <td>fff81cc3158d2725c0655ab9ba0f712c</td>\n",
              "      <td>1</td>\n",
              "      <td>90.00</td>\n",
              "    </tr>\n",
              "    <tr>\n",
              "      <th>32948</th>\n",
              "      <td>fff9553ac224cec9d15d49f5a263411f</td>\n",
              "      <td>1</td>\n",
              "      <td>32.00</td>\n",
              "    </tr>\n",
              "    <tr>\n",
              "      <th>32949</th>\n",
              "      <td>fffdb2d0ec8d6a61f0a0a0db3f25b441</td>\n",
              "      <td>5</td>\n",
              "      <td>169.95</td>\n",
              "    </tr>\n",
              "    <tr>\n",
              "      <th>32950</th>\n",
              "      <td>fffe9eeff12fcbd74a2f2b007dde0c58</td>\n",
              "      <td>1</td>\n",
              "      <td>249.99</td>\n",
              "    </tr>\n",
              "  </tbody>\n",
              "</table>\n",
              "<p>32951 rows × 3 columns</p>\n",
              "</div>"
            ],
            "text/plain": [
              "                             product_id  total_orders  total_revenue\n",
              "0      00066f42aeeb9f3007548bb9d3f33c38             1         101.65\n",
              "1      00088930e925c41fd95ebfe695fd2655             1         129.90\n",
              "2      0009406fd7479715e4bef61dd91f2462             1         229.00\n",
              "3      000b8f95fcb9e0096488278317764d19             2         117.80\n",
              "4      000d9be29b5207b54e86aa1b1ac54872             1         199.00\n",
              "...                                 ...           ...            ...\n",
              "32946  fff6177642830a9a94a0f2cba5e476d1             2         229.98\n",
              "32947  fff81cc3158d2725c0655ab9ba0f712c             1          90.00\n",
              "32948  fff9553ac224cec9d15d49f5a263411f             1          32.00\n",
              "32949  fffdb2d0ec8d6a61f0a0a0db3f25b441             5         169.95\n",
              "32950  fffe9eeff12fcbd74a2f2b007dde0c58             1         249.99\n",
              "\n",
              "[32951 rows x 3 columns]"
            ]
          },
          "execution_count": 122,
          "metadata": {},
          "output_type": "execute_result"
        }
      ],
      "source": [
        "items_df.groupby('product_id').agg(\n",
        "    total_orders=('order_item_id', 'count'),\n",
        "    total_revenue=('price', 'sum')\n",
        ").reset_index()"
      ]
    },
    {
      "cell_type": "markdown",
      "metadata": {
        "id": "ERsN8PNiEQCS"
      },
      "source": [
        "##### Analisis pengiriman berdasarkan hari dalam minggu"
      ]
    },
    {
      "cell_type": "code",
      "execution_count": 123,
      "metadata": {
        "colab": {
          "base_uri": "https://localhost:8080/",
          "height": 0
        },
        "id": "r_qWS42s_I48",
        "outputId": "b590f8b6-ccd2-4c77-e479-33768efc02b3"
      },
      "outputs": [
        {
          "data": {
            "text/html": [
              "<div>\n",
              "<style scoped>\n",
              "    .dataframe tbody tr th:only-of-type {\n",
              "        vertical-align: middle;\n",
              "    }\n",
              "\n",
              "    .dataframe tbody tr th {\n",
              "        vertical-align: top;\n",
              "    }\n",
              "\n",
              "    .dataframe thead th {\n",
              "        text-align: right;\n",
              "    }\n",
              "</style>\n",
              "<table border=\"1\" class=\"dataframe\">\n",
              "  <thead>\n",
              "    <tr style=\"text-align: right;\">\n",
              "      <th></th>\n",
              "      <th>shipping_day_of_week</th>\n",
              "      <th>total_orders</th>\n",
              "      <th>total_revenue</th>\n",
              "    </tr>\n",
              "  </thead>\n",
              "  <tbody>\n",
              "    <tr>\n",
              "      <th>0</th>\n",
              "      <td>Friday</td>\n",
              "      <td>15851</td>\n",
              "      <td>1982110.71</td>\n",
              "    </tr>\n",
              "    <tr>\n",
              "      <th>1</th>\n",
              "      <td>Monday</td>\n",
              "      <td>18945</td>\n",
              "      <td>2304104.89</td>\n",
              "    </tr>\n",
              "    <tr>\n",
              "      <th>2</th>\n",
              "      <td>Saturday</td>\n",
              "      <td>423</td>\n",
              "      <td>59673.56</td>\n",
              "    </tr>\n",
              "    <tr>\n",
              "      <th>3</th>\n",
              "      <td>Sunday</td>\n",
              "      <td>2544</td>\n",
              "      <td>340699.33</td>\n",
              "    </tr>\n",
              "    <tr>\n",
              "      <th>4</th>\n",
              "      <td>Thursday</td>\n",
              "      <td>27772</td>\n",
              "      <td>3481254.79</td>\n",
              "    </tr>\n",
              "    <tr>\n",
              "      <th>5</th>\n",
              "      <td>Tuesday</td>\n",
              "      <td>18179</td>\n",
              "      <td>2235835.80</td>\n",
              "    </tr>\n",
              "    <tr>\n",
              "      <th>6</th>\n",
              "      <td>Wednesday</td>\n",
              "      <td>18711</td>\n",
              "      <td>2340244.92</td>\n",
              "    </tr>\n",
              "  </tbody>\n",
              "</table>\n",
              "</div>"
            ],
            "text/plain": [
              "  shipping_day_of_week  total_orders  total_revenue\n",
              "0               Friday         15851     1982110.71\n",
              "1               Monday         18945     2304104.89\n",
              "2             Saturday           423       59673.56\n",
              "3               Sunday          2544      340699.33\n",
              "4             Thursday         27772     3481254.79\n",
              "5              Tuesday         18179     2235835.80\n",
              "6            Wednesday         18711     2340244.92"
            ]
          },
          "execution_count": 123,
          "metadata": {},
          "output_type": "execute_result"
        }
      ],
      "source": [
        "items_df.groupby('shipping_day_of_week').agg(\n",
        "    total_orders=('order_item_id', 'count'),\n",
        "    total_revenue=('price', 'sum')\n",
        ").reset_index()"
      ]
    },
    {
      "cell_type": "markdown",
      "metadata": {
        "id": "lasA2aVQEfyk"
      },
      "source": [
        "##### Analisis total pendapatan dan jumlah pesanan per bulan:"
      ]
    },
    {
      "cell_type": "code",
      "execution_count": 124,
      "metadata": {
        "colab": {
          "base_uri": "https://localhost:8080/",
          "height": 0
        },
        "id": "cmO4elVv_Q45",
        "outputId": "0f7b94e9-cd0f-41b4-9f15-8b2cbed367fa"
      },
      "outputs": [
        {
          "data": {
            "text/html": [
              "<div>\n",
              "<style scoped>\n",
              "    .dataframe tbody tr th:only-of-type {\n",
              "        vertical-align: middle;\n",
              "    }\n",
              "\n",
              "    .dataframe tbody tr th {\n",
              "        vertical-align: top;\n",
              "    }\n",
              "\n",
              "    .dataframe thead th {\n",
              "        text-align: right;\n",
              "    }\n",
              "</style>\n",
              "<table border=\"1\" class=\"dataframe\">\n",
              "  <thead>\n",
              "    <tr style=\"text-align: right;\">\n",
              "      <th></th>\n",
              "      <th>shipping_month</th>\n",
              "      <th>total_orders</th>\n",
              "      <th>total_revenue</th>\n",
              "    </tr>\n",
              "  </thead>\n",
              "  <tbody>\n",
              "    <tr>\n",
              "      <th>0</th>\n",
              "      <td>1</td>\n",
              "      <td>7518</td>\n",
              "      <td>870319.93</td>\n",
              "    </tr>\n",
              "    <tr>\n",
              "      <th>1</th>\n",
              "      <td>2</td>\n",
              "      <td>8360</td>\n",
              "      <td>998025.43</td>\n",
              "    </tr>\n",
              "    <tr>\n",
              "      <th>2</th>\n",
              "      <td>3</td>\n",
              "      <td>10341</td>\n",
              "      <td>1286823.19</td>\n",
              "    </tr>\n",
              "    <tr>\n",
              "      <th>3</th>\n",
              "      <td>4</td>\n",
              "      <td>9096</td>\n",
              "      <td>1191967.51</td>\n",
              "    </tr>\n",
              "    <tr>\n",
              "      <th>4</th>\n",
              "      <td>5</td>\n",
              "      <td>11691</td>\n",
              "      <td>1485252.55</td>\n",
              "    </tr>\n",
              "    <tr>\n",
              "      <th>5</th>\n",
              "      <td>6</td>\n",
              "      <td>9771</td>\n",
              "      <td>1264438.46</td>\n",
              "    </tr>\n",
              "    <tr>\n",
              "      <th>6</th>\n",
              "      <td>7</td>\n",
              "      <td>9888</td>\n",
              "      <td>1197222.63</td>\n",
              "    </tr>\n",
              "    <tr>\n",
              "      <th>7</th>\n",
              "      <td>8</td>\n",
              "      <td>12726</td>\n",
              "      <td>1542590.36</td>\n",
              "    </tr>\n",
              "    <tr>\n",
              "      <th>8</th>\n",
              "      <td>9</td>\n",
              "      <td>4400</td>\n",
              "      <td>596194.48</td>\n",
              "    </tr>\n",
              "    <tr>\n",
              "      <th>9</th>\n",
              "      <td>10</td>\n",
              "      <td>4997</td>\n",
              "      <td>648587.65</td>\n",
              "    </tr>\n",
              "    <tr>\n",
              "      <th>10</th>\n",
              "      <td>11</td>\n",
              "      <td>6611</td>\n",
              "      <td>820657.58</td>\n",
              "    </tr>\n",
              "    <tr>\n",
              "      <th>11</th>\n",
              "      <td>12</td>\n",
              "      <td>7026</td>\n",
              "      <td>841844.23</td>\n",
              "    </tr>\n",
              "  </tbody>\n",
              "</table>\n",
              "</div>"
            ],
            "text/plain": [
              "    shipping_month  total_orders  total_revenue\n",
              "0                1          7518      870319.93\n",
              "1                2          8360      998025.43\n",
              "2                3         10341     1286823.19\n",
              "3                4          9096     1191967.51\n",
              "4                5         11691     1485252.55\n",
              "5                6          9771     1264438.46\n",
              "6                7          9888     1197222.63\n",
              "7                8         12726     1542590.36\n",
              "8                9          4400      596194.48\n",
              "9               10          4997      648587.65\n",
              "10              11          6611      820657.58\n",
              "11              12          7026      841844.23"
            ]
          },
          "execution_count": 124,
          "metadata": {},
          "output_type": "execute_result"
        }
      ],
      "source": [
        "items_df.groupby('shipping_month').agg(\n",
        "    total_orders=('order_item_id', 'count'),\n",
        "    total_revenue=('price', 'sum')\n",
        ").reset_index()"
      ]
    },
    {
      "cell_type": "markdown",
      "metadata": {
        "id": "QWwCoMQ7Eyd0"
      },
      "source": [
        "##### Melihat rata-rata harga per pesanan"
      ]
    },
    {
      "cell_type": "code",
      "execution_count": 125,
      "metadata": {
        "colab": {
          "base_uri": "https://localhost:8080/",
          "height": 0
        },
        "id": "slOM_K9B_aX5",
        "outputId": "bde83a00-1da3-4cf0-b447-22f2b2f5af8a"
      },
      "outputs": [
        {
          "data": {
            "text/html": [
              "<div>\n",
              "<style scoped>\n",
              "    .dataframe tbody tr th:only-of-type {\n",
              "        vertical-align: middle;\n",
              "    }\n",
              "\n",
              "    .dataframe tbody tr th {\n",
              "        vertical-align: top;\n",
              "    }\n",
              "\n",
              "    .dataframe thead th {\n",
              "        text-align: right;\n",
              "    }\n",
              "</style>\n",
              "<table border=\"1\" class=\"dataframe\">\n",
              "  <thead>\n",
              "    <tr style=\"text-align: right;\">\n",
              "      <th></th>\n",
              "      <th>order_id</th>\n",
              "      <th>avg_order_price</th>\n",
              "    </tr>\n",
              "  </thead>\n",
              "  <tbody>\n",
              "    <tr>\n",
              "      <th>0</th>\n",
              "      <td>00010242fe8c5a6d1ba2dd792cb16214</td>\n",
              "      <td>58.90</td>\n",
              "    </tr>\n",
              "    <tr>\n",
              "      <th>1</th>\n",
              "      <td>00018f77f2f0320c557190d7a144bdd3</td>\n",
              "      <td>239.90</td>\n",
              "    </tr>\n",
              "    <tr>\n",
              "      <th>2</th>\n",
              "      <td>000229ec398224ef6ca0657da4fc703e</td>\n",
              "      <td>199.00</td>\n",
              "    </tr>\n",
              "    <tr>\n",
              "      <th>3</th>\n",
              "      <td>00024acbcdf0a6daa1e931b038114c75</td>\n",
              "      <td>12.99</td>\n",
              "    </tr>\n",
              "    <tr>\n",
              "      <th>4</th>\n",
              "      <td>00042b26cf59d7ce69dfabb4e55b4fd9</td>\n",
              "      <td>199.90</td>\n",
              "    </tr>\n",
              "    <tr>\n",
              "      <th>...</th>\n",
              "      <td>...</td>\n",
              "      <td>...</td>\n",
              "    </tr>\n",
              "    <tr>\n",
              "      <th>98661</th>\n",
              "      <td>fffc94f6ce00a00581880bf54a75a037</td>\n",
              "      <td>299.99</td>\n",
              "    </tr>\n",
              "    <tr>\n",
              "      <th>98662</th>\n",
              "      <td>fffcd46ef2263f404302a634eb57f7eb</td>\n",
              "      <td>350.00</td>\n",
              "    </tr>\n",
              "    <tr>\n",
              "      <th>98663</th>\n",
              "      <td>fffce4705a9662cd70adb13d4a31832d</td>\n",
              "      <td>99.90</td>\n",
              "    </tr>\n",
              "    <tr>\n",
              "      <th>98664</th>\n",
              "      <td>fffe18544ffabc95dfada21779c9644f</td>\n",
              "      <td>55.99</td>\n",
              "    </tr>\n",
              "    <tr>\n",
              "      <th>98665</th>\n",
              "      <td>fffe41c64501cc87c801fd61db3f6244</td>\n",
              "      <td>43.00</td>\n",
              "    </tr>\n",
              "  </tbody>\n",
              "</table>\n",
              "<p>98666 rows × 2 columns</p>\n",
              "</div>"
            ],
            "text/plain": [
              "                               order_id  avg_order_price\n",
              "0      00010242fe8c5a6d1ba2dd792cb16214            58.90\n",
              "1      00018f77f2f0320c557190d7a144bdd3           239.90\n",
              "2      000229ec398224ef6ca0657da4fc703e           199.00\n",
              "3      00024acbcdf0a6daa1e931b038114c75            12.99\n",
              "4      00042b26cf59d7ce69dfabb4e55b4fd9           199.90\n",
              "...                                 ...              ...\n",
              "98661  fffc94f6ce00a00581880bf54a75a037           299.99\n",
              "98662  fffcd46ef2263f404302a634eb57f7eb           350.00\n",
              "98663  fffce4705a9662cd70adb13d4a31832d            99.90\n",
              "98664  fffe18544ffabc95dfada21779c9644f            55.99\n",
              "98665  fffe41c64501cc87c801fd61db3f6244            43.00\n",
              "\n",
              "[98666 rows x 2 columns]"
            ]
          },
          "execution_count": 125,
          "metadata": {},
          "output_type": "execute_result"
        }
      ],
      "source": [
        "items_df.groupby('order_id').agg(\n",
        "    avg_order_price=('price', 'mean')\n",
        ").reset_index()"
      ]
    },
    {
      "cell_type": "markdown",
      "metadata": {
        "id": "u0R_qTVHOHr8"
      },
      "source": [
        "### Exploratory Data Antar Tabel"
      ]
    },
    {
      "cell_type": "markdown",
      "metadata": {
        "id": "Kwo_7yTHOdDU"
      },
      "source": [
        "#### Relasi Antara items_df dan orders_df"
      ]
    },
    {
      "cell_type": "markdown",
      "metadata": {
        "id": "l56T30zwIPH0"
      },
      "source": [
        "**Menggabungkan order_id di items_df dengan order_id di orders_df**"
      ]
    },
    {
      "cell_type": "code",
      "execution_count": 126,
      "metadata": {
        "colab": {
          "base_uri": "https://localhost:8080/",
          "height": 0
        },
        "id": "y2UDK78oIygo",
        "outputId": "425277ff-32f4-44ef-f2fb-3f9820545008"
      },
      "outputs": [
        {
          "data": {
            "text/html": [
              "<div>\n",
              "<style scoped>\n",
              "    .dataframe tbody tr th:only-of-type {\n",
              "        vertical-align: middle;\n",
              "    }\n",
              "\n",
              "    .dataframe tbody tr th {\n",
              "        vertical-align: top;\n",
              "    }\n",
              "\n",
              "    .dataframe thead th {\n",
              "        text-align: right;\n",
              "    }\n",
              "</style>\n",
              "<table border=\"1\" class=\"dataframe\">\n",
              "  <thead>\n",
              "    <tr style=\"text-align: right;\">\n",
              "      <th></th>\n",
              "      <th>order_id</th>\n",
              "      <th>order_item_id</th>\n",
              "      <th>product_id</th>\n",
              "      <th>seller_id</th>\n",
              "      <th>shipping_limit_date</th>\n",
              "      <th>price</th>\n",
              "      <th>freight_value</th>\n",
              "      <th>revenue</th>\n",
              "      <th>shipping_day_of_week</th>\n",
              "      <th>shipping_month</th>\n",
              "      <th>customer_id</th>\n",
              "      <th>order_status</th>\n",
              "      <th>order_purchase_timestamp</th>\n",
              "      <th>order_approved_at</th>\n",
              "      <th>order_delivered_carrier_date</th>\n",
              "      <th>order_delivered_customer_date</th>\n",
              "      <th>order_estimated_delivery_date</th>\n",
              "    </tr>\n",
              "  </thead>\n",
              "  <tbody>\n",
              "    <tr>\n",
              "      <th>0</th>\n",
              "      <td>00010242fe8c5a6d1ba2dd792cb16214</td>\n",
              "      <td>1</td>\n",
              "      <td>4244733e06e7ecb4970a6e2683c13e61</td>\n",
              "      <td>48436dade18ac8b2bce089ec2a041202</td>\n",
              "      <td>2017-09-19 09:45:35</td>\n",
              "      <td>58.90</td>\n",
              "      <td>13.29</td>\n",
              "      <td>58.90</td>\n",
              "      <td>Tuesday</td>\n",
              "      <td>9</td>\n",
              "      <td>3ce436f183e68e07877b285a838db11a</td>\n",
              "      <td>delivered</td>\n",
              "      <td>2017-09-13 08:59:02</td>\n",
              "      <td>2017-09-13 09:45:35</td>\n",
              "      <td>2017-09-19 18:34:16</td>\n",
              "      <td>2017-09-20 23:43:48</td>\n",
              "      <td>2017-09-29 00:00:00</td>\n",
              "    </tr>\n",
              "    <tr>\n",
              "      <th>1</th>\n",
              "      <td>00018f77f2f0320c557190d7a144bdd3</td>\n",
              "      <td>1</td>\n",
              "      <td>e5f2d52b802189ee658865ca93d83a8f</td>\n",
              "      <td>dd7ddc04e1b6c2c614352b383efe2d36</td>\n",
              "      <td>2017-05-03 11:05:13</td>\n",
              "      <td>239.90</td>\n",
              "      <td>19.93</td>\n",
              "      <td>239.90</td>\n",
              "      <td>Wednesday</td>\n",
              "      <td>5</td>\n",
              "      <td>f6dd3ec061db4e3987629fe6b26e5cce</td>\n",
              "      <td>delivered</td>\n",
              "      <td>2017-04-26 10:53:06</td>\n",
              "      <td>2017-04-26 11:05:13</td>\n",
              "      <td>2017-05-04 14:35:00</td>\n",
              "      <td>2017-05-12 16:04:24</td>\n",
              "      <td>2017-05-15 00:00:00</td>\n",
              "    </tr>\n",
              "    <tr>\n",
              "      <th>2</th>\n",
              "      <td>000229ec398224ef6ca0657da4fc703e</td>\n",
              "      <td>1</td>\n",
              "      <td>c777355d18b72b67abbeef9df44fd0fd</td>\n",
              "      <td>5b51032eddd242adc84c38acab88f23d</td>\n",
              "      <td>2018-01-18 14:48:30</td>\n",
              "      <td>199.00</td>\n",
              "      <td>17.87</td>\n",
              "      <td>199.00</td>\n",
              "      <td>Thursday</td>\n",
              "      <td>1</td>\n",
              "      <td>6489ae5e4333f3693df5ad4372dab6d3</td>\n",
              "      <td>delivered</td>\n",
              "      <td>2018-01-14 14:33:31</td>\n",
              "      <td>2018-01-14 14:48:30</td>\n",
              "      <td>2018-01-16 12:36:48</td>\n",
              "      <td>2018-01-22 13:19:16</td>\n",
              "      <td>2018-02-05 00:00:00</td>\n",
              "    </tr>\n",
              "    <tr>\n",
              "      <th>3</th>\n",
              "      <td>00024acbcdf0a6daa1e931b038114c75</td>\n",
              "      <td>1</td>\n",
              "      <td>7634da152a4610f1595efa32f14722fc</td>\n",
              "      <td>9d7a1d34a5052409006425275ba1c2b4</td>\n",
              "      <td>2018-08-15 10:10:18</td>\n",
              "      <td>12.99</td>\n",
              "      <td>12.79</td>\n",
              "      <td>12.99</td>\n",
              "      <td>Wednesday</td>\n",
              "      <td>8</td>\n",
              "      <td>d4eb9395c8c0431ee92fce09860c5a06</td>\n",
              "      <td>delivered</td>\n",
              "      <td>2018-08-08 10:00:35</td>\n",
              "      <td>2018-08-08 10:10:18</td>\n",
              "      <td>2018-08-10 13:28:00</td>\n",
              "      <td>2018-08-14 13:32:39</td>\n",
              "      <td>2018-08-20 00:00:00</td>\n",
              "    </tr>\n",
              "    <tr>\n",
              "      <th>4</th>\n",
              "      <td>00042b26cf59d7ce69dfabb4e55b4fd9</td>\n",
              "      <td>1</td>\n",
              "      <td>ac6c3623068f30de03045865e4e10089</td>\n",
              "      <td>df560393f3a51e74553ab94004ba5c87</td>\n",
              "      <td>2017-02-13 13:57:51</td>\n",
              "      <td>199.90</td>\n",
              "      <td>18.14</td>\n",
              "      <td>199.90</td>\n",
              "      <td>Monday</td>\n",
              "      <td>2</td>\n",
              "      <td>58dbd0b2d70206bf40e62cd34e84d795</td>\n",
              "      <td>delivered</td>\n",
              "      <td>2017-02-04 13:57:51</td>\n",
              "      <td>2017-02-04 14:10:13</td>\n",
              "      <td>2017-02-16 09:46:09</td>\n",
              "      <td>2017-03-01 16:42:31</td>\n",
              "      <td>2017-03-17 00:00:00</td>\n",
              "    </tr>\n",
              "  </tbody>\n",
              "</table>\n",
              "</div>"
            ],
            "text/plain": [
              "                           order_id  order_item_id  \\\n",
              "0  00010242fe8c5a6d1ba2dd792cb16214              1   \n",
              "1  00018f77f2f0320c557190d7a144bdd3              1   \n",
              "2  000229ec398224ef6ca0657da4fc703e              1   \n",
              "3  00024acbcdf0a6daa1e931b038114c75              1   \n",
              "4  00042b26cf59d7ce69dfabb4e55b4fd9              1   \n",
              "\n",
              "                         product_id                         seller_id  \\\n",
              "0  4244733e06e7ecb4970a6e2683c13e61  48436dade18ac8b2bce089ec2a041202   \n",
              "1  e5f2d52b802189ee658865ca93d83a8f  dd7ddc04e1b6c2c614352b383efe2d36   \n",
              "2  c777355d18b72b67abbeef9df44fd0fd  5b51032eddd242adc84c38acab88f23d   \n",
              "3  7634da152a4610f1595efa32f14722fc  9d7a1d34a5052409006425275ba1c2b4   \n",
              "4  ac6c3623068f30de03045865e4e10089  df560393f3a51e74553ab94004ba5c87   \n",
              "\n",
              "  shipping_limit_date   price  freight_value  revenue shipping_day_of_week  \\\n",
              "0 2017-09-19 09:45:35   58.90          13.29    58.90              Tuesday   \n",
              "1 2017-05-03 11:05:13  239.90          19.93   239.90            Wednesday   \n",
              "2 2018-01-18 14:48:30  199.00          17.87   199.00             Thursday   \n",
              "3 2018-08-15 10:10:18   12.99          12.79    12.99            Wednesday   \n",
              "4 2017-02-13 13:57:51  199.90          18.14   199.90               Monday   \n",
              "\n",
              "   shipping_month                       customer_id order_status  \\\n",
              "0               9  3ce436f183e68e07877b285a838db11a    delivered   \n",
              "1               5  f6dd3ec061db4e3987629fe6b26e5cce    delivered   \n",
              "2               1  6489ae5e4333f3693df5ad4372dab6d3    delivered   \n",
              "3               8  d4eb9395c8c0431ee92fce09860c5a06    delivered   \n",
              "4               2  58dbd0b2d70206bf40e62cd34e84d795    delivered   \n",
              "\n",
              "  order_purchase_timestamp   order_approved_at order_delivered_carrier_date  \\\n",
              "0      2017-09-13 08:59:02 2017-09-13 09:45:35          2017-09-19 18:34:16   \n",
              "1      2017-04-26 10:53:06 2017-04-26 11:05:13          2017-05-04 14:35:00   \n",
              "2      2018-01-14 14:33:31 2018-01-14 14:48:30          2018-01-16 12:36:48   \n",
              "3      2018-08-08 10:00:35 2018-08-08 10:10:18          2018-08-10 13:28:00   \n",
              "4      2017-02-04 13:57:51 2017-02-04 14:10:13          2017-02-16 09:46:09   \n",
              "\n",
              "  order_delivered_customer_date order_estimated_delivery_date  \n",
              "0           2017-09-20 23:43:48           2017-09-29 00:00:00  \n",
              "1           2017-05-12 16:04:24           2017-05-15 00:00:00  \n",
              "2           2018-01-22 13:19:16           2018-02-05 00:00:00  \n",
              "3           2018-08-14 13:32:39           2018-08-20 00:00:00  \n",
              "4           2017-03-01 16:42:31           2017-03-17 00:00:00  "
            ]
          },
          "execution_count": 126,
          "metadata": {},
          "output_type": "execute_result"
        }
      ],
      "source": [
        "items_orders = pd.merge(items_df, orders_df, on='order_id', how='inner')\n",
        "items_orders.head()"
      ]
    },
    {
      "cell_type": "markdown",
      "metadata": {
        "id": "OCpq63vcTuMV"
      },
      "source": [
        "#### Relasi Antara orders_df dan payment_df"
      ]
    },
    {
      "cell_type": "markdown",
      "metadata": {
        "id": "_Yj2vsXRNJTi"
      },
      "source": [
        "**Menggabungan kedua dataset order_id  dan payment_df.**"
      ]
    },
    {
      "cell_type": "code",
      "execution_count": 127,
      "metadata": {
        "colab": {
          "base_uri": "https://localhost:8080/",
          "height": 0
        },
        "id": "fGM7nclrCLQI",
        "outputId": "6057ea63-74fe-47eb-8c16-cc04e365d74b"
      },
      "outputs": [
        {
          "data": {
            "text/html": [
              "<div>\n",
              "<style scoped>\n",
              "    .dataframe tbody tr th:only-of-type {\n",
              "        vertical-align: middle;\n",
              "    }\n",
              "\n",
              "    .dataframe tbody tr th {\n",
              "        vertical-align: top;\n",
              "    }\n",
              "\n",
              "    .dataframe thead th {\n",
              "        text-align: right;\n",
              "    }\n",
              "</style>\n",
              "<table border=\"1\" class=\"dataframe\">\n",
              "  <thead>\n",
              "    <tr style=\"text-align: right;\">\n",
              "      <th></th>\n",
              "      <th>order_id</th>\n",
              "      <th>customer_id</th>\n",
              "      <th>order_status</th>\n",
              "      <th>order_purchase_timestamp</th>\n",
              "      <th>order_approved_at</th>\n",
              "      <th>order_delivered_carrier_date</th>\n",
              "      <th>order_delivered_customer_date</th>\n",
              "      <th>order_estimated_delivery_date</th>\n",
              "      <th>payment_sequential</th>\n",
              "      <th>payment_type</th>\n",
              "      <th>payment_installments</th>\n",
              "      <th>payment_value</th>\n",
              "    </tr>\n",
              "  </thead>\n",
              "  <tbody>\n",
              "    <tr>\n",
              "      <th>0</th>\n",
              "      <td>e481f51cbdc54678b7cc49136f2d6af7</td>\n",
              "      <td>9ef432eb6251297304e76186b10a928d</td>\n",
              "      <td>delivered</td>\n",
              "      <td>2017-10-02 10:56:33</td>\n",
              "      <td>2017-10-02 11:07:15</td>\n",
              "      <td>2017-10-04 19:55:00</td>\n",
              "      <td>2017-10-10 21:25:13</td>\n",
              "      <td>2017-10-18 00:00:00</td>\n",
              "      <td>1</td>\n",
              "      <td>credit_card</td>\n",
              "      <td>1.0</td>\n",
              "      <td>18.12</td>\n",
              "    </tr>\n",
              "    <tr>\n",
              "      <th>1</th>\n",
              "      <td>53cdb2fc8bc7dce0b6741e2150273451</td>\n",
              "      <td>b0830fb4747a6c6d20dea0b8c802d7ef</td>\n",
              "      <td>delivered</td>\n",
              "      <td>2018-07-24 20:41:37</td>\n",
              "      <td>2018-07-26 03:24:27</td>\n",
              "      <td>2018-07-26 14:31:00</td>\n",
              "      <td>2018-08-07 15:27:45</td>\n",
              "      <td>2018-08-13 00:00:00</td>\n",
              "      <td>1</td>\n",
              "      <td>boleto</td>\n",
              "      <td>1.0</td>\n",
              "      <td>141.46</td>\n",
              "    </tr>\n",
              "    <tr>\n",
              "      <th>2</th>\n",
              "      <td>47770eb9100c2d0c44946d9cf07ec65d</td>\n",
              "      <td>41ce2a54c0b03bf3443c3d931a367089</td>\n",
              "      <td>delivered</td>\n",
              "      <td>2018-08-08 08:38:49</td>\n",
              "      <td>2018-08-08 08:55:23</td>\n",
              "      <td>2018-08-08 13:50:00</td>\n",
              "      <td>2018-08-17 18:06:29</td>\n",
              "      <td>2018-09-04 00:00:00</td>\n",
              "      <td>1</td>\n",
              "      <td>credit_card</td>\n",
              "      <td>3.0</td>\n",
              "      <td>179.12</td>\n",
              "    </tr>\n",
              "    <tr>\n",
              "      <th>3</th>\n",
              "      <td>949d5b44dbf5de918fe9c16f97b45f8a</td>\n",
              "      <td>f88197465ea7920adcdbec7375364d82</td>\n",
              "      <td>delivered</td>\n",
              "      <td>2017-11-18 19:28:06</td>\n",
              "      <td>2017-11-18 19:45:59</td>\n",
              "      <td>2017-11-22 13:39:59</td>\n",
              "      <td>2017-12-02 00:28:42</td>\n",
              "      <td>2017-12-15 00:00:00</td>\n",
              "      <td>1</td>\n",
              "      <td>credit_card</td>\n",
              "      <td>1.0</td>\n",
              "      <td>72.20</td>\n",
              "    </tr>\n",
              "    <tr>\n",
              "      <th>4</th>\n",
              "      <td>ad21c59c0840e6cb83a9ceb5573f8159</td>\n",
              "      <td>8ab97904e6daea8866dbdbc4fb7aad2c</td>\n",
              "      <td>delivered</td>\n",
              "      <td>2018-02-13 21:18:39</td>\n",
              "      <td>2018-02-13 22:20:29</td>\n",
              "      <td>2018-02-14 19:46:34</td>\n",
              "      <td>2018-02-16 18:17:02</td>\n",
              "      <td>2018-02-26 00:00:00</td>\n",
              "      <td>1</td>\n",
              "      <td>credit_card</td>\n",
              "      <td>1.0</td>\n",
              "      <td>28.62</td>\n",
              "    </tr>\n",
              "  </tbody>\n",
              "</table>\n",
              "</div>"
            ],
            "text/plain": [
              "                           order_id                       customer_id  \\\n",
              "0  e481f51cbdc54678b7cc49136f2d6af7  9ef432eb6251297304e76186b10a928d   \n",
              "1  53cdb2fc8bc7dce0b6741e2150273451  b0830fb4747a6c6d20dea0b8c802d7ef   \n",
              "2  47770eb9100c2d0c44946d9cf07ec65d  41ce2a54c0b03bf3443c3d931a367089   \n",
              "3  949d5b44dbf5de918fe9c16f97b45f8a  f88197465ea7920adcdbec7375364d82   \n",
              "4  ad21c59c0840e6cb83a9ceb5573f8159  8ab97904e6daea8866dbdbc4fb7aad2c   \n",
              "\n",
              "  order_status order_purchase_timestamp   order_approved_at  \\\n",
              "0    delivered      2017-10-02 10:56:33 2017-10-02 11:07:15   \n",
              "1    delivered      2018-07-24 20:41:37 2018-07-26 03:24:27   \n",
              "2    delivered      2018-08-08 08:38:49 2018-08-08 08:55:23   \n",
              "3    delivered      2017-11-18 19:28:06 2017-11-18 19:45:59   \n",
              "4    delivered      2018-02-13 21:18:39 2018-02-13 22:20:29   \n",
              "\n",
              "  order_delivered_carrier_date order_delivered_customer_date  \\\n",
              "0          2017-10-04 19:55:00           2017-10-10 21:25:13   \n",
              "1          2018-07-26 14:31:00           2018-08-07 15:27:45   \n",
              "2          2018-08-08 13:50:00           2018-08-17 18:06:29   \n",
              "3          2017-11-22 13:39:59           2017-12-02 00:28:42   \n",
              "4          2018-02-14 19:46:34           2018-02-16 18:17:02   \n",
              "\n",
              "  order_estimated_delivery_date  payment_sequential payment_type  \\\n",
              "0           2017-10-18 00:00:00                   1  credit_card   \n",
              "1           2018-08-13 00:00:00                   1       boleto   \n",
              "2           2018-09-04 00:00:00                   1  credit_card   \n",
              "3           2017-12-15 00:00:00                   1  credit_card   \n",
              "4           2018-02-26 00:00:00                   1  credit_card   \n",
              "\n",
              "   payment_installments  payment_value  \n",
              "0                   1.0          18.12  \n",
              "1                   1.0         141.46  \n",
              "2                   3.0         179.12  \n",
              "3                   1.0          72.20  \n",
              "4                   1.0          28.62  "
            ]
          },
          "execution_count": 127,
          "metadata": {},
          "output_type": "execute_result"
        }
      ],
      "source": [
        "orders_payments = pd.merge(orders_df, payments_df, on='order_id', how='inner')\n",
        "orders_payments.head()"
      ]
    },
    {
      "cell_type": "markdown",
      "metadata": {
        "id": "KCLUXXQfTvlG"
      },
      "source": [
        "#### Relasi Antara items_df dan products_df"
      ]
    },
    {
      "cell_type": "markdown",
      "metadata": {
        "id": "SADVi548JSmS"
      },
      "source": [
        "**Menggabungkan product_id di items_df dengan product_id di products_df**"
      ]
    },
    {
      "cell_type": "code",
      "execution_count": 128,
      "metadata": {
        "colab": {
          "base_uri": "https://localhost:8080/",
          "height": 0
        },
        "id": "rNWGWDcRCNEk",
        "outputId": "bd166ddb-eb23-4de0-a085-37f59ee8316b"
      },
      "outputs": [
        {
          "data": {
            "text/html": [
              "<div>\n",
              "<style scoped>\n",
              "    .dataframe tbody tr th:only-of-type {\n",
              "        vertical-align: middle;\n",
              "    }\n",
              "\n",
              "    .dataframe tbody tr th {\n",
              "        vertical-align: top;\n",
              "    }\n",
              "\n",
              "    .dataframe thead th {\n",
              "        text-align: right;\n",
              "    }\n",
              "</style>\n",
              "<table border=\"1\" class=\"dataframe\">\n",
              "  <thead>\n",
              "    <tr style=\"text-align: right;\">\n",
              "      <th></th>\n",
              "      <th>order_id</th>\n",
              "      <th>order_item_id</th>\n",
              "      <th>product_id</th>\n",
              "      <th>seller_id</th>\n",
              "      <th>shipping_limit_date</th>\n",
              "      <th>price</th>\n",
              "      <th>freight_value</th>\n",
              "      <th>revenue</th>\n",
              "      <th>shipping_day_of_week</th>\n",
              "      <th>shipping_month</th>\n",
              "      <th>product_category_name</th>\n",
              "      <th>product_name_lenght</th>\n",
              "      <th>product_description_lenght</th>\n",
              "      <th>product_photos_qty</th>\n",
              "      <th>product_weight_g</th>\n",
              "      <th>product_length_cm</th>\n",
              "      <th>product_height_cm</th>\n",
              "      <th>product_width_cm</th>\n",
              "    </tr>\n",
              "  </thead>\n",
              "  <tbody>\n",
              "    <tr>\n",
              "      <th>0</th>\n",
              "      <td>00010242fe8c5a6d1ba2dd792cb16214</td>\n",
              "      <td>1</td>\n",
              "      <td>4244733e06e7ecb4970a6e2683c13e61</td>\n",
              "      <td>48436dade18ac8b2bce089ec2a041202</td>\n",
              "      <td>2017-09-19 09:45:35</td>\n",
              "      <td>58.90</td>\n",
              "      <td>13.29</td>\n",
              "      <td>58.90</td>\n",
              "      <td>Tuesday</td>\n",
              "      <td>9</td>\n",
              "      <td>cool_stuff</td>\n",
              "      <td>58.0</td>\n",
              "      <td>598.0</td>\n",
              "      <td>4.0</td>\n",
              "      <td>650.0</td>\n",
              "      <td>28.0</td>\n",
              "      <td>9.0</td>\n",
              "      <td>14.0</td>\n",
              "    </tr>\n",
              "    <tr>\n",
              "      <th>1</th>\n",
              "      <td>00018f77f2f0320c557190d7a144bdd3</td>\n",
              "      <td>1</td>\n",
              "      <td>e5f2d52b802189ee658865ca93d83a8f</td>\n",
              "      <td>dd7ddc04e1b6c2c614352b383efe2d36</td>\n",
              "      <td>2017-05-03 11:05:13</td>\n",
              "      <td>239.90</td>\n",
              "      <td>19.93</td>\n",
              "      <td>239.90</td>\n",
              "      <td>Wednesday</td>\n",
              "      <td>5</td>\n",
              "      <td>pet_shop</td>\n",
              "      <td>56.0</td>\n",
              "      <td>239.0</td>\n",
              "      <td>2.0</td>\n",
              "      <td>30000.0</td>\n",
              "      <td>50.0</td>\n",
              "      <td>30.0</td>\n",
              "      <td>40.0</td>\n",
              "    </tr>\n",
              "    <tr>\n",
              "      <th>2</th>\n",
              "      <td>000229ec398224ef6ca0657da4fc703e</td>\n",
              "      <td>1</td>\n",
              "      <td>c777355d18b72b67abbeef9df44fd0fd</td>\n",
              "      <td>5b51032eddd242adc84c38acab88f23d</td>\n",
              "      <td>2018-01-18 14:48:30</td>\n",
              "      <td>199.00</td>\n",
              "      <td>17.87</td>\n",
              "      <td>199.00</td>\n",
              "      <td>Thursday</td>\n",
              "      <td>1</td>\n",
              "      <td>moveis_decoracao</td>\n",
              "      <td>59.0</td>\n",
              "      <td>695.0</td>\n",
              "      <td>2.0</td>\n",
              "      <td>3050.0</td>\n",
              "      <td>33.0</td>\n",
              "      <td>13.0</td>\n",
              "      <td>33.0</td>\n",
              "    </tr>\n",
              "    <tr>\n",
              "      <th>3</th>\n",
              "      <td>00024acbcdf0a6daa1e931b038114c75</td>\n",
              "      <td>1</td>\n",
              "      <td>7634da152a4610f1595efa32f14722fc</td>\n",
              "      <td>9d7a1d34a5052409006425275ba1c2b4</td>\n",
              "      <td>2018-08-15 10:10:18</td>\n",
              "      <td>12.99</td>\n",
              "      <td>12.79</td>\n",
              "      <td>12.99</td>\n",
              "      <td>Wednesday</td>\n",
              "      <td>8</td>\n",
              "      <td>perfumaria</td>\n",
              "      <td>42.0</td>\n",
              "      <td>480.0</td>\n",
              "      <td>1.0</td>\n",
              "      <td>200.0</td>\n",
              "      <td>16.0</td>\n",
              "      <td>10.0</td>\n",
              "      <td>15.0</td>\n",
              "    </tr>\n",
              "    <tr>\n",
              "      <th>4</th>\n",
              "      <td>00042b26cf59d7ce69dfabb4e55b4fd9</td>\n",
              "      <td>1</td>\n",
              "      <td>ac6c3623068f30de03045865e4e10089</td>\n",
              "      <td>df560393f3a51e74553ab94004ba5c87</td>\n",
              "      <td>2017-02-13 13:57:51</td>\n",
              "      <td>199.90</td>\n",
              "      <td>18.14</td>\n",
              "      <td>199.90</td>\n",
              "      <td>Monday</td>\n",
              "      <td>2</td>\n",
              "      <td>ferramentas_jardim</td>\n",
              "      <td>59.0</td>\n",
              "      <td>409.0</td>\n",
              "      <td>1.0</td>\n",
              "      <td>3750.0</td>\n",
              "      <td>35.0</td>\n",
              "      <td>40.0</td>\n",
              "      <td>30.0</td>\n",
              "    </tr>\n",
              "  </tbody>\n",
              "</table>\n",
              "</div>"
            ],
            "text/plain": [
              "                           order_id  order_item_id  \\\n",
              "0  00010242fe8c5a6d1ba2dd792cb16214              1   \n",
              "1  00018f77f2f0320c557190d7a144bdd3              1   \n",
              "2  000229ec398224ef6ca0657da4fc703e              1   \n",
              "3  00024acbcdf0a6daa1e931b038114c75              1   \n",
              "4  00042b26cf59d7ce69dfabb4e55b4fd9              1   \n",
              "\n",
              "                         product_id                         seller_id  \\\n",
              "0  4244733e06e7ecb4970a6e2683c13e61  48436dade18ac8b2bce089ec2a041202   \n",
              "1  e5f2d52b802189ee658865ca93d83a8f  dd7ddc04e1b6c2c614352b383efe2d36   \n",
              "2  c777355d18b72b67abbeef9df44fd0fd  5b51032eddd242adc84c38acab88f23d   \n",
              "3  7634da152a4610f1595efa32f14722fc  9d7a1d34a5052409006425275ba1c2b4   \n",
              "4  ac6c3623068f30de03045865e4e10089  df560393f3a51e74553ab94004ba5c87   \n",
              "\n",
              "  shipping_limit_date   price  freight_value  revenue shipping_day_of_week  \\\n",
              "0 2017-09-19 09:45:35   58.90          13.29    58.90              Tuesday   \n",
              "1 2017-05-03 11:05:13  239.90          19.93   239.90            Wednesday   \n",
              "2 2018-01-18 14:48:30  199.00          17.87   199.00             Thursday   \n",
              "3 2018-08-15 10:10:18   12.99          12.79    12.99            Wednesday   \n",
              "4 2017-02-13 13:57:51  199.90          18.14   199.90               Monday   \n",
              "\n",
              "   shipping_month product_category_name  product_name_lenght  \\\n",
              "0               9            cool_stuff                 58.0   \n",
              "1               5              pet_shop                 56.0   \n",
              "2               1      moveis_decoracao                 59.0   \n",
              "3               8            perfumaria                 42.0   \n",
              "4               2    ferramentas_jardim                 59.0   \n",
              "\n",
              "   product_description_lenght  product_photos_qty  product_weight_g  \\\n",
              "0                       598.0                 4.0             650.0   \n",
              "1                       239.0                 2.0           30000.0   \n",
              "2                       695.0                 2.0            3050.0   \n",
              "3                       480.0                 1.0             200.0   \n",
              "4                       409.0                 1.0            3750.0   \n",
              "\n",
              "   product_length_cm  product_height_cm  product_width_cm  \n",
              "0               28.0                9.0              14.0  \n",
              "1               50.0               30.0              40.0  \n",
              "2               33.0               13.0              33.0  \n",
              "3               16.0               10.0              15.0  \n",
              "4               35.0               40.0              30.0  "
            ]
          },
          "execution_count": 128,
          "metadata": {},
          "output_type": "execute_result"
        }
      ],
      "source": [
        "items_products = pd.merge(items_df, products_df, on='product_id', how='inner')\n",
        "items_products.head()"
      ]
    },
    {
      "cell_type": "markdown",
      "metadata": {
        "id": "e9Y-bEdJTw2G"
      },
      "source": [
        "#### Relasi Antara Semua data set : items_df, orders_df, payment_df, dan products_df"
      ]
    },
    {
      "cell_type": "markdown",
      "metadata": {
        "id": "-mr-GYXWNxcd"
      },
      "source": [
        "**Menggabungkan relasi antara items_df, orders_df, payment_df, dan products_df dalam satu dataframe.**"
      ]
    },
    {
      "cell_type": "code",
      "execution_count": 129,
      "metadata": {
        "colab": {
          "base_uri": "https://localhost:8080/",
          "height": 0
        },
        "id": "OnmWwSrvJtV8",
        "outputId": "f170d119-2e42-4535-ad4c-96de3c901d4d"
      },
      "outputs": [
        {
          "data": {
            "text/html": [
              "<div>\n",
              "<style scoped>\n",
              "    .dataframe tbody tr th:only-of-type {\n",
              "        vertical-align: middle;\n",
              "    }\n",
              "\n",
              "    .dataframe tbody tr th {\n",
              "        vertical-align: top;\n",
              "    }\n",
              "\n",
              "    .dataframe thead th {\n",
              "        text-align: right;\n",
              "    }\n",
              "</style>\n",
              "<table border=\"1\" class=\"dataframe\">\n",
              "  <thead>\n",
              "    <tr style=\"text-align: right;\">\n",
              "      <th></th>\n",
              "      <th>order_id</th>\n",
              "      <th>order_item_id</th>\n",
              "      <th>product_id</th>\n",
              "      <th>seller_id</th>\n",
              "      <th>shipping_limit_date</th>\n",
              "      <th>price</th>\n",
              "      <th>freight_value</th>\n",
              "      <th>revenue</th>\n",
              "      <th>shipping_day_of_week</th>\n",
              "      <th>shipping_month</th>\n",
              "      <th>...</th>\n",
              "      <th>payment_installments</th>\n",
              "      <th>payment_value</th>\n",
              "      <th>product_category_name</th>\n",
              "      <th>product_name_lenght</th>\n",
              "      <th>product_description_lenght</th>\n",
              "      <th>product_photos_qty</th>\n",
              "      <th>product_weight_g</th>\n",
              "      <th>product_length_cm</th>\n",
              "      <th>product_height_cm</th>\n",
              "      <th>product_width_cm</th>\n",
              "    </tr>\n",
              "  </thead>\n",
              "  <tbody>\n",
              "    <tr>\n",
              "      <th>0</th>\n",
              "      <td>00010242fe8c5a6d1ba2dd792cb16214</td>\n",
              "      <td>1</td>\n",
              "      <td>4244733e06e7ecb4970a6e2683c13e61</td>\n",
              "      <td>48436dade18ac8b2bce089ec2a041202</td>\n",
              "      <td>2017-09-19 09:45:35</td>\n",
              "      <td>58.90</td>\n",
              "      <td>13.29</td>\n",
              "      <td>58.90</td>\n",
              "      <td>Tuesday</td>\n",
              "      <td>9</td>\n",
              "      <td>...</td>\n",
              "      <td>2.0</td>\n",
              "      <td>72.19</td>\n",
              "      <td>cool_stuff</td>\n",
              "      <td>58.0</td>\n",
              "      <td>598.0</td>\n",
              "      <td>4.0</td>\n",
              "      <td>650.0</td>\n",
              "      <td>28.0</td>\n",
              "      <td>9.0</td>\n",
              "      <td>14.0</td>\n",
              "    </tr>\n",
              "    <tr>\n",
              "      <th>1</th>\n",
              "      <td>00018f77f2f0320c557190d7a144bdd3</td>\n",
              "      <td>1</td>\n",
              "      <td>e5f2d52b802189ee658865ca93d83a8f</td>\n",
              "      <td>dd7ddc04e1b6c2c614352b383efe2d36</td>\n",
              "      <td>2017-05-03 11:05:13</td>\n",
              "      <td>239.90</td>\n",
              "      <td>19.93</td>\n",
              "      <td>239.90</td>\n",
              "      <td>Wednesday</td>\n",
              "      <td>5</td>\n",
              "      <td>...</td>\n",
              "      <td>3.0</td>\n",
              "      <td>259.83</td>\n",
              "      <td>pet_shop</td>\n",
              "      <td>56.0</td>\n",
              "      <td>239.0</td>\n",
              "      <td>2.0</td>\n",
              "      <td>30000.0</td>\n",
              "      <td>50.0</td>\n",
              "      <td>30.0</td>\n",
              "      <td>40.0</td>\n",
              "    </tr>\n",
              "    <tr>\n",
              "      <th>2</th>\n",
              "      <td>000229ec398224ef6ca0657da4fc703e</td>\n",
              "      <td>1</td>\n",
              "      <td>c777355d18b72b67abbeef9df44fd0fd</td>\n",
              "      <td>5b51032eddd242adc84c38acab88f23d</td>\n",
              "      <td>2018-01-18 14:48:30</td>\n",
              "      <td>199.00</td>\n",
              "      <td>17.87</td>\n",
              "      <td>199.00</td>\n",
              "      <td>Thursday</td>\n",
              "      <td>1</td>\n",
              "      <td>...</td>\n",
              "      <td>5.0</td>\n",
              "      <td>216.87</td>\n",
              "      <td>moveis_decoracao</td>\n",
              "      <td>59.0</td>\n",
              "      <td>695.0</td>\n",
              "      <td>2.0</td>\n",
              "      <td>3050.0</td>\n",
              "      <td>33.0</td>\n",
              "      <td>13.0</td>\n",
              "      <td>33.0</td>\n",
              "    </tr>\n",
              "    <tr>\n",
              "      <th>3</th>\n",
              "      <td>00024acbcdf0a6daa1e931b038114c75</td>\n",
              "      <td>1</td>\n",
              "      <td>7634da152a4610f1595efa32f14722fc</td>\n",
              "      <td>9d7a1d34a5052409006425275ba1c2b4</td>\n",
              "      <td>2018-08-15 10:10:18</td>\n",
              "      <td>12.99</td>\n",
              "      <td>12.79</td>\n",
              "      <td>12.99</td>\n",
              "      <td>Wednesday</td>\n",
              "      <td>8</td>\n",
              "      <td>...</td>\n",
              "      <td>2.0</td>\n",
              "      <td>25.78</td>\n",
              "      <td>perfumaria</td>\n",
              "      <td>42.0</td>\n",
              "      <td>480.0</td>\n",
              "      <td>1.0</td>\n",
              "      <td>200.0</td>\n",
              "      <td>16.0</td>\n",
              "      <td>10.0</td>\n",
              "      <td>15.0</td>\n",
              "    </tr>\n",
              "    <tr>\n",
              "      <th>4</th>\n",
              "      <td>00042b26cf59d7ce69dfabb4e55b4fd9</td>\n",
              "      <td>1</td>\n",
              "      <td>ac6c3623068f30de03045865e4e10089</td>\n",
              "      <td>df560393f3a51e74553ab94004ba5c87</td>\n",
              "      <td>2017-02-13 13:57:51</td>\n",
              "      <td>199.90</td>\n",
              "      <td>18.14</td>\n",
              "      <td>199.90</td>\n",
              "      <td>Monday</td>\n",
              "      <td>2</td>\n",
              "      <td>...</td>\n",
              "      <td>3.0</td>\n",
              "      <td>218.04</td>\n",
              "      <td>ferramentas_jardim</td>\n",
              "      <td>59.0</td>\n",
              "      <td>409.0</td>\n",
              "      <td>1.0</td>\n",
              "      <td>3750.0</td>\n",
              "      <td>35.0</td>\n",
              "      <td>40.0</td>\n",
              "      <td>30.0</td>\n",
              "    </tr>\n",
              "  </tbody>\n",
              "</table>\n",
              "<p>5 rows × 29 columns</p>\n",
              "</div>"
            ],
            "text/plain": [
              "                           order_id  order_item_id  \\\n",
              "0  00010242fe8c5a6d1ba2dd792cb16214              1   \n",
              "1  00018f77f2f0320c557190d7a144bdd3              1   \n",
              "2  000229ec398224ef6ca0657da4fc703e              1   \n",
              "3  00024acbcdf0a6daa1e931b038114c75              1   \n",
              "4  00042b26cf59d7ce69dfabb4e55b4fd9              1   \n",
              "\n",
              "                         product_id                         seller_id  \\\n",
              "0  4244733e06e7ecb4970a6e2683c13e61  48436dade18ac8b2bce089ec2a041202   \n",
              "1  e5f2d52b802189ee658865ca93d83a8f  dd7ddc04e1b6c2c614352b383efe2d36   \n",
              "2  c777355d18b72b67abbeef9df44fd0fd  5b51032eddd242adc84c38acab88f23d   \n",
              "3  7634da152a4610f1595efa32f14722fc  9d7a1d34a5052409006425275ba1c2b4   \n",
              "4  ac6c3623068f30de03045865e4e10089  df560393f3a51e74553ab94004ba5c87   \n",
              "\n",
              "  shipping_limit_date   price  freight_value  revenue shipping_day_of_week  \\\n",
              "0 2017-09-19 09:45:35   58.90          13.29    58.90              Tuesday   \n",
              "1 2017-05-03 11:05:13  239.90          19.93   239.90            Wednesday   \n",
              "2 2018-01-18 14:48:30  199.00          17.87   199.00             Thursday   \n",
              "3 2018-08-15 10:10:18   12.99          12.79    12.99            Wednesday   \n",
              "4 2017-02-13 13:57:51  199.90          18.14   199.90               Monday   \n",
              "\n",
              "   shipping_month  ... payment_installments payment_value  \\\n",
              "0               9  ...                  2.0         72.19   \n",
              "1               5  ...                  3.0        259.83   \n",
              "2               1  ...                  5.0        216.87   \n",
              "3               8  ...                  2.0         25.78   \n",
              "4               2  ...                  3.0        218.04   \n",
              "\n",
              "  product_category_name product_name_lenght product_description_lenght  \\\n",
              "0            cool_stuff                58.0                      598.0   \n",
              "1              pet_shop                56.0                      239.0   \n",
              "2      moveis_decoracao                59.0                      695.0   \n",
              "3            perfumaria                42.0                      480.0   \n",
              "4    ferramentas_jardim                59.0                      409.0   \n",
              "\n",
              "  product_photos_qty product_weight_g  product_length_cm product_height_cm  \\\n",
              "0                4.0            650.0               28.0               9.0   \n",
              "1                2.0          30000.0               50.0              30.0   \n",
              "2                2.0           3050.0               33.0              13.0   \n",
              "3                1.0            200.0               16.0              10.0   \n",
              "4                1.0           3750.0               35.0              40.0   \n",
              "\n",
              "   product_width_cm  \n",
              "0              14.0  \n",
              "1              40.0  \n",
              "2              33.0  \n",
              "3              15.0  \n",
              "4              30.0  \n",
              "\n",
              "[5 rows x 29 columns]"
            ]
          },
          "execution_count": 129,
          "metadata": {},
          "output_type": "execute_result"
        }
      ],
      "source": [
        "final_all_df = pd.merge(items_orders, payments_df, on='order_id', how='inner')\n",
        "final_all_df = pd.merge(final_all_df, products_df, on='product_id', how='inner')\n",
        "final_all_df.head()"
      ]
    },
    {
      "cell_type": "code",
      "execution_count": 130,
      "metadata": {
        "id": "PJe3dql-Twic"
      },
      "outputs": [],
      "source": [
        "final_all_df.to_csv(\"all_data.csv\", index=False)"
      ]
    },
    {
      "cell_type": "markdown",
      "metadata": {
        "id": "8FPVO3eYS4tc"
      },
      "source": [
        "## Visualization & Explanatory Analysis"
      ]
    },
    {
      "cell_type": "markdown",
      "metadata": {
        "id": "uKCKaE0qJi3g"
      },
      "source": [
        "### **Pertanyaan 1**\n",
        "Kategori produk apa yang paling populer dan tidak populer di antara pelanggan berdasarkan jumlah produk terjual? (bar chart) \n"
      ]
    },
    {
      "cell_type": "code",
      "execution_count": 131,
      "metadata": {
        "colab": {
          "base_uri": "https://localhost:8080/",
          "height": 256
        },
        "id": "UADLYPboTdl9",
        "outputId": "b106b0a7-4f91-43de-e6cc-a502fe28b54a"
      },
      "outputs": [
        {
          "data": {
            "text/html": [
              "<div>\n",
              "<style scoped>\n",
              "    .dataframe tbody tr th:only-of-type {\n",
              "        vertical-align: middle;\n",
              "    }\n",
              "\n",
              "    .dataframe tbody tr th {\n",
              "        vertical-align: top;\n",
              "    }\n",
              "\n",
              "    .dataframe thead th {\n",
              "        text-align: right;\n",
              "    }\n",
              "</style>\n",
              "<table border=\"1\" class=\"dataframe\">\n",
              "  <thead>\n",
              "    <tr style=\"text-align: right;\">\n",
              "      <th></th>\n",
              "      <th>order_id</th>\n",
              "      <th>order_item_id</th>\n",
              "      <th>product_id</th>\n",
              "      <th>seller_id</th>\n",
              "      <th>shipping_limit_date</th>\n",
              "      <th>price</th>\n",
              "      <th>freight_value</th>\n",
              "      <th>revenue</th>\n",
              "      <th>shipping_day_of_week</th>\n",
              "      <th>shipping_month</th>\n",
              "      <th>...</th>\n",
              "      <th>payment_installments</th>\n",
              "      <th>payment_value</th>\n",
              "      <th>product_category_name</th>\n",
              "      <th>product_name_lenght</th>\n",
              "      <th>product_description_lenght</th>\n",
              "      <th>product_photos_qty</th>\n",
              "      <th>product_weight_g</th>\n",
              "      <th>product_length_cm</th>\n",
              "      <th>product_height_cm</th>\n",
              "      <th>product_width_cm</th>\n",
              "    </tr>\n",
              "  </thead>\n",
              "  <tbody>\n",
              "    <tr>\n",
              "      <th>73081</th>\n",
              "      <td>cc03f6907e3230fc27f728ed4e977534</td>\n",
              "      <td>1</td>\n",
              "      <td>cc82434eb4afd2f81d3c2525e54cbfce</td>\n",
              "      <td>83deb69e889cf80f82be1dc6d5f2d486</td>\n",
              "      <td>2018-08-03 10:05:19</td>\n",
              "      <td>198.90</td>\n",
              "      <td>20.30</td>\n",
              "      <td>198.90</td>\n",
              "      <td>Friday</td>\n",
              "      <td>8</td>\n",
              "      <td>...</td>\n",
              "      <td>4.0</td>\n",
              "      <td>219.20</td>\n",
              "      <td>instrumentos_musicais</td>\n",
              "      <td>53.0</td>\n",
              "      <td>493.0</td>\n",
              "      <td>6.0</td>\n",
              "      <td>400.0</td>\n",
              "      <td>22.0</td>\n",
              "      <td>8.0</td>\n",
              "      <td>11.0</td>\n",
              "    </tr>\n",
              "    <tr>\n",
              "      <th>31493</th>\n",
              "      <td>57e24e99080124f19065793442fd6a5b</td>\n",
              "      <td>1</td>\n",
              "      <td>c6dd917a0be2a704582055949915ab32</td>\n",
              "      <td>7a67c85e85bb2ce8582c35f2203ad736</td>\n",
              "      <td>2017-07-05 22:03:40</td>\n",
              "      <td>99.99</td>\n",
              "      <td>11.90</td>\n",
              "      <td>99.99</td>\n",
              "      <td>Wednesday</td>\n",
              "      <td>7</td>\n",
              "      <td>...</td>\n",
              "      <td>6.0</td>\n",
              "      <td>111.89</td>\n",
              "      <td>cool_stuff</td>\n",
              "      <td>54.0</td>\n",
              "      <td>1012.0</td>\n",
              "      <td>1.0</td>\n",
              "      <td>1200.0</td>\n",
              "      <td>42.0</td>\n",
              "      <td>25.0</td>\n",
              "      <td>15.0</td>\n",
              "    </tr>\n",
              "    <tr>\n",
              "      <th>69463</th>\n",
              "      <td>c1fccaa7401a0afd72cf89d7c2f806df</td>\n",
              "      <td>1</td>\n",
              "      <td>1bfb290d7273a442c874dbe74b4abae6</td>\n",
              "      <td>7c67e1448b00f6e969d365cea6b010ab</td>\n",
              "      <td>2018-08-06 10:31:01</td>\n",
              "      <td>69.99</td>\n",
              "      <td>23.20</td>\n",
              "      <td>69.99</td>\n",
              "      <td>Monday</td>\n",
              "      <td>8</td>\n",
              "      <td>...</td>\n",
              "      <td>3.0</td>\n",
              "      <td>279.57</td>\n",
              "      <td>moveis_escritorio</td>\n",
              "      <td>19.0</td>\n",
              "      <td>883.0</td>\n",
              "      <td>1.0</td>\n",
              "      <td>10075.0</td>\n",
              "      <td>55.0</td>\n",
              "      <td>64.0</td>\n",
              "      <td>26.0</td>\n",
              "    </tr>\n",
              "    <tr>\n",
              "      <th>34967</th>\n",
              "      <td>61d0f8073b3d86c34c69845c9e0dfd54</td>\n",
              "      <td>1</td>\n",
              "      <td>ccadfeab525a9eb1569983b66e5075c4</td>\n",
              "      <td>33576ec5412fb5905d876f12f33bfde6</td>\n",
              "      <td>2018-03-19 14:31:28</td>\n",
              "      <td>89.00</td>\n",
              "      <td>14.37</td>\n",
              "      <td>89.00</td>\n",
              "      <td>Monday</td>\n",
              "      <td>3</td>\n",
              "      <td>...</td>\n",
              "      <td>2.0</td>\n",
              "      <td>103.37</td>\n",
              "      <td>fashion_bolsas_e_acessorios</td>\n",
              "      <td>35.0</td>\n",
              "      <td>920.0</td>\n",
              "      <td>7.0</td>\n",
              "      <td>100.0</td>\n",
              "      <td>20.0</td>\n",
              "      <td>2.0</td>\n",
              "      <td>25.0</td>\n",
              "    </tr>\n",
              "    <tr>\n",
              "      <th>30443</th>\n",
              "      <td>54f334d6a9d60b69dae5409327f73645</td>\n",
              "      <td>2</td>\n",
              "      <td>fbc1488c1a1e72ba175f53ab29a248e8</td>\n",
              "      <td>058fd0aa2bfdb2274e05e1ae971dabb6</td>\n",
              "      <td>2017-11-30 03:31:25</td>\n",
              "      <td>118.00</td>\n",
              "      <td>15.58</td>\n",
              "      <td>118.00</td>\n",
              "      <td>Thursday</td>\n",
              "      <td>11</td>\n",
              "      <td>...</td>\n",
              "      <td>1.0</td>\n",
              "      <td>267.16</td>\n",
              "      <td>perfumaria</td>\n",
              "      <td>27.0</td>\n",
              "      <td>311.0</td>\n",
              "      <td>1.0</td>\n",
              "      <td>560.0</td>\n",
              "      <td>19.0</td>\n",
              "      <td>13.0</td>\n",
              "      <td>17.0</td>\n",
              "    </tr>\n",
              "  </tbody>\n",
              "</table>\n",
              "<p>5 rows × 29 columns</p>\n",
              "</div>"
            ],
            "text/plain": [
              "                               order_id  order_item_id  \\\n",
              "73081  cc03f6907e3230fc27f728ed4e977534              1   \n",
              "31493  57e24e99080124f19065793442fd6a5b              1   \n",
              "69463  c1fccaa7401a0afd72cf89d7c2f806df              1   \n",
              "34967  61d0f8073b3d86c34c69845c9e0dfd54              1   \n",
              "30443  54f334d6a9d60b69dae5409327f73645              2   \n",
              "\n",
              "                             product_id                         seller_id  \\\n",
              "73081  cc82434eb4afd2f81d3c2525e54cbfce  83deb69e889cf80f82be1dc6d5f2d486   \n",
              "31493  c6dd917a0be2a704582055949915ab32  7a67c85e85bb2ce8582c35f2203ad736   \n",
              "69463  1bfb290d7273a442c874dbe74b4abae6  7c67e1448b00f6e969d365cea6b010ab   \n",
              "34967  ccadfeab525a9eb1569983b66e5075c4  33576ec5412fb5905d876f12f33bfde6   \n",
              "30443  fbc1488c1a1e72ba175f53ab29a248e8  058fd0aa2bfdb2274e05e1ae971dabb6   \n",
              "\n",
              "      shipping_limit_date   price  freight_value  revenue  \\\n",
              "73081 2018-08-03 10:05:19  198.90          20.30   198.90   \n",
              "31493 2017-07-05 22:03:40   99.99          11.90    99.99   \n",
              "69463 2018-08-06 10:31:01   69.99          23.20    69.99   \n",
              "34967 2018-03-19 14:31:28   89.00          14.37    89.00   \n",
              "30443 2017-11-30 03:31:25  118.00          15.58   118.00   \n",
              "\n",
              "      shipping_day_of_week  shipping_month  ... payment_installments  \\\n",
              "73081               Friday               8  ...                  4.0   \n",
              "31493            Wednesday               7  ...                  6.0   \n",
              "69463               Monday               8  ...                  3.0   \n",
              "34967               Monday               3  ...                  2.0   \n",
              "30443             Thursday              11  ...                  1.0   \n",
              "\n",
              "      payment_value        product_category_name product_name_lenght  \\\n",
              "73081        219.20        instrumentos_musicais                53.0   \n",
              "31493        111.89                   cool_stuff                54.0   \n",
              "69463        279.57            moveis_escritorio                19.0   \n",
              "34967        103.37  fashion_bolsas_e_acessorios                35.0   \n",
              "30443        267.16                   perfumaria                27.0   \n",
              "\n",
              "      product_description_lenght product_photos_qty product_weight_g  \\\n",
              "73081                      493.0                6.0            400.0   \n",
              "31493                     1012.0                1.0           1200.0   \n",
              "69463                      883.0                1.0          10075.0   \n",
              "34967                      920.0                7.0            100.0   \n",
              "30443                      311.0                1.0            560.0   \n",
              "\n",
              "       product_length_cm product_height_cm  product_width_cm  \n",
              "73081               22.0               8.0              11.0  \n",
              "31493               42.0              25.0              15.0  \n",
              "69463               55.0              64.0              26.0  \n",
              "34967               20.0               2.0              25.0  \n",
              "30443               19.0              13.0              17.0  \n",
              "\n",
              "[5 rows x 29 columns]"
            ]
          },
          "execution_count": 131,
          "metadata": {},
          "output_type": "execute_result"
        }
      ],
      "source": [
        "final_all_df.sample(5)"
      ]
    },
    {
      "cell_type": "code",
      "execution_count": 132,
      "metadata": {
        "colab": {
          "base_uri": "https://localhost:8080/",
          "height": 607
        },
        "id": "s-WcKBd4Q3gG",
        "outputId": "49904cfb-b508-413e-b128-42554b98a6d5"
      },
      "outputs": [
        {
          "data": {
            "image/png": "[encoded data removed]",
            "text/plain": [
              "<Figure size 1000x600 with 1 Axes>"
            ]
          },
          "metadata": {},
          "output_type": "display_data"
        }
      ],
      "source": [
        "product_sales = final_all_df.groupby('product_category_name')['order_item_id'].count().sort_values(ascending=False).head(10)\n",
        "colors = ['darkblue'] + ['skyblue'] * (len(product_sales) - 1)\n",
        "plt.figure(figsize=(10, 6))\n",
        "product_sales.plot(kind='bar', color=colors)\n",
        "plt.title('Top 10 Kategori Produk Terlaku')\n",
        "plt.xlabel('Kategori Produk')\n",
        "plt.ylabel('Jumlah Penjualan')\n",
        "plt.xticks(rotation=45)\n",
        "plt.tight_layout()\n",
        "plt.show()"
      ]
    },
    {
      "cell_type": "code",
      "execution_count": 133,
      "metadata": {
        "colab": {
          "base_uri": "https://localhost:8080/",
          "height": 607
        },
        "id": "PmuM-dEw4JLH",
        "outputId": "3a21a5df-adbf-47ef-a400-d5f9512cf7de"
      },
      "outputs": [
        {
          "data": {
            "image/png": "[encoded data removed]",
            "text/plain": [
              "<Figure size 1000x600 with 1 Axes>"
            ]
          },
          "metadata": {},
          "output_type": "display_data"
        }
      ],
      "source": [
        "product_sales = final_all_df.groupby('product_category_name')['order_item_id'].count().sort_values(ascending=False).tail(10)\n",
        "colors = ['skyblue'] * (len(product_sales) - 1) + ['darkblue']\n",
        "plt.figure(figsize=(10, 6))\n",
        "product_sales.plot(kind='bar', color=colors)\n",
        "plt.title('10 Kategori Produk Kurang Laku')\n",
        "plt.xlabel('Kategori Produk')\n",
        "plt.ylabel('Jumlah Penjualan')\n",
        "plt.xticks(rotation=45)\n",
        "plt.tight_layout()\n",
        "plt.show()"
      ]
    },
    {
      "cell_type": "markdown",
      "metadata": {
        "id": "oxaUN-8sTUH9"
      },
      "source": [
        "### **Pertanyaan 2**\n",
        "Kategori produk mana yang memberikan kontribusi pendapatan terbesar bagi perusahaan? (bar chart)\n"
      ]
    },
    {
      "cell_type": "code",
      "execution_count": 134,
      "metadata": {
        "colab": {
          "base_uri": "https://localhost:8080/",
          "height": 607
        },
        "id": "kDUwamHTTeEC",
        "outputId": "ed98800d-5f39-4757-e685-240c0a19a513"
      },
      "outputs": [
        {
          "data": {
            "image/png": "[encoded data removed]",
            "text/plain": [
              "<Figure size 1000x600 with 1 Axes>"
            ]
          },
          "metadata": {},
          "output_type": "display_data"
        }
      ],
      "source": [
        "product_revenue = final_all_df.groupby('product_category_name')['price'].sum().sort_values(ascending=False).head(10)\n",
        "colors = ['green'] + ['lightgreen'] * (len(product_revenue) - 1)\n",
        "plt.figure(figsize=(10, 6))\n",
        "product_revenue.plot(kind='bar', color=colors)\n",
        "plt.title('Top 10 Kategori Produk dengan Pendapatan Tertinggi')\n",
        "plt.xlabel('Kategori Produk')\n",
        "plt.ylabel('Pendapatan Total')\n",
        "plt.xticks(rotation=45)\n",
        "plt.tight_layout()\n",
        "plt.show()"
      ]
    },
    {
      "cell_type": "markdown",
      "metadata": {
        "id": "Mj-c3aVGTWXe"
      },
      "source": [
        "### **Pertanyaan 3**\n",
        "Metode pembayaran mana yang paling sering digunakan oleh pelanggan berdasarkan total transaksi (pie chart)?\n"
      ]
    },
    {
      "cell_type": "code",
      "execution_count": 135,
      "metadata": {
        "colab": {
          "base_uri": "https://localhost:8080/",
          "height": 814
        },
        "id": "ZdLV5il2bTfE",
        "outputId": "9e99a610-4c60-4134-979e-a1e6eb6670ab"
      },
      "outputs": [
        {
          "data": {
            "image/png": "[encoded data removed]",
            "text/plain": [
              "<Figure size 800x800 with 1 Axes>"
            ]
          },
          "metadata": {},
          "output_type": "display_data"
        }
      ],
      "source": [
        "payment_distribution = final_all_df['payment_type'].value_counts()\n",
        "colors = ['lightgreen', 'pink', 'lightblue', 'purple']\n",
        "plt.figure(figsize=(8, 8))\n",
        "wedges, texts, autotexts = plt.pie(payment_distribution,  autopct='%1.1f%%', startangle=90, colors=colors, pctdistance=1.20)\n",
        "plt.legend(wedges, payment_distribution.index, title=\"Metode Pembayaran\", loc=\"lower center\", bbox_to_anchor=(0.5, -0.1), ncol=5, fontsize=12  )\n",
        "plt.setp(autotexts, size=9, weight=\"bold\")\n",
        "plt.title('Distribusi Metode Pembayaran', fontsize=15)\n",
        "plt.ylabel('')\n",
        "plt.tight_layout()\n",
        "plt.show()"
      ]
    },
    {
      "cell_type": "markdown",
      "metadata": {
        "id": "5-Lo2jM1TbfQ"
      },
      "source": [
        "### **Pertanyaan 4**\n",
        "Bagaimana total penjualan produk dari waktu ke waktu (line chart)"
      ]
    },
    {
      "cell_type": "code",
      "execution_count": 136,
      "metadata": {},
      "outputs": [
        {
          "data": {
            "image/png": "[encoded data removed]",
            "text/plain": [
              "<Figure size 1200x600 with 1 Axes>"
            ]
          },
          "metadata": {},
          "output_type": "display_data"
        }
      ],
      "source": [
        "final_all_df['order_purchase_timestamp'] = pd.to_datetime(final_all_df['order_purchase_timestamp'])\n",
        "sales_trend = final_all_df.set_index('order_purchase_timestamp').resample('ME')['price'].sum()\n",
        "plt.figure(figsize=(12, 6))\n",
        "sales_trend.plot(color='orange', marker='o')\n",
        "plt.title('Tren Total Penjualan Bulanan')\n",
        "plt.xlabel('Bulan')\n",
        "plt.ylabel('Total Penjualan')\n",
        "plt.grid(axis='y', linestyle='--', alpha=0.7)\n",
        "plt.tight_layout()\n",
        "plt.show()"
      ]
    },
    {
      "cell_type": "markdown",
      "metadata": {
        "id": "DCPyTrwTFM4s"
      },
      "source": [
        "## Analisis Lanjutan"
      ]
    },
    {
      "cell_type": "markdown",
      "metadata": {
        "id": "jZ5YwCdhFSCo"
      },
      "source": [
        "**Segmentasi Pelanggan Berdasarkan Nilai Total Transaksi Pembayaran**"
      ]
    },
    {
      "cell_type": "code",
      "execution_count": 137,
      "metadata": {
        "id": "HX3csImKDoEL"
      },
      "outputs": [],
      "source": [
        "customer_total_payment = final_all_df.groupby('customer_id')['payment_value'].sum()\n",
        "def categorize_spending(payment_value):\n",
        "    if payment_value > 200:\n",
        "        return 'High Spend'\n",
        "    elif payment_value >= 100:\n",
        "        return 'Medium Spen'\n",
        "    else:\n",
        "        return 'Low Spen'"
      ]
    },
    {
      "cell_type": "code",
      "execution_count": 138,
      "metadata": {
        "id": "X6LVTAQIDsjr"
      },
      "outputs": [],
      "source": [
        "customer_payment_grouped = customer_total_payment.apply(categorize_spending)\n",
        "final_all_df['payment_group'] = final_all_df['customer_id'].map(customer_payment_grouped)\n",
        "group_distribution = final_all_df['payment_group'].value_counts()"
      ]
    },
    {
      "cell_type": "code",
      "execution_count": 139,
      "metadata": {
        "colab": {
          "base_uri": "https://localhost:8080/",
          "height": 607
        },
        "id": "FNPqS8gQDpyn",
        "outputId": "b7b60d3a-e9fc-4022-af3c-ad9640d66ec3"
      },
      "outputs": [
        {
          "data": {
            "image/png": "[encoded data removed]",
            "text/plain": [
              "<Figure size 800x600 with 1 Axes>"
            ]
          },
          "metadata": {},
          "output_type": "display_data"
        }
      ],
      "source": [
        "plt.figure(figsize=(8, 6))\n",
        "group_distribution.plot(kind='barh', color=['lightcoral', 'gold', 'lightskyblue'])\n",
        "plt.title('Distribusi Pengelompokan Pelanggan Berdasarkan Nilai Total Transaksi Pembayaran')\n",
        "plt.xlabel('Jumlah Pelanggan')\n",
        "plt.ylabel('Nilai Transaksi Yang Dibayar')\n",
        "plt.tight_layout()\n",
        "plt.show()"
      ]
    },
    {
      "cell_type": "markdown",
      "metadata": {},
      "source": [
        "Analisis ini mengelompokkan pelanggan berdasarkan nilai total transaksi pembayaran yang mereka lakukan. Berdasarkan total nilai pembayaran yang tercatat, pelanggan dibagi ke dalam tiga kategori:\n",
        "\n",
        "- **High Spender**: Pelanggan dengan total nilai transaksi pembayaran lebih dari 200.\n",
        "- **Medium Spender**: Pelanggan yang menghabiskan total nilai transaksi pembayaran antara 100 hingga 200.\n",
        "- **Low Spender**: Pelanggan dengan total nilai transaksi pembayaran kurang dari 100.\n",
        "\n",
        "Dengan segmentasi ini, bisa diketahui langkah yang tetap dan sesui untuk pengambilan strategi pemasaran, misalnya dengan memberikan promosi khusus untuk pelanggan kategori High Spend (pembelian yang lumayan) dan menawarkan insentif untuk pelanggan yang termasuk dalam kategori Low Spen (pembelian sedikit)."
      ]
    },
    {
      "cell_type": "markdown",
      "metadata": {
        "id": "S0iVE-uMYaLD"
      },
      "source": [
        "## Kesimpulan"
      ]
    },
    {
      "cell_type": "markdown",
      "metadata": {
        "id": "-SNqB_jcJtUE"
      },
      "source": [
        "### **Kategori Produk Populer dan Tidak Populer**\n",
        " - Analisis ini berdasarkan data e-commerce dari 4 September 2016 hingga 29 Agustus 2018. Data ini mencakup hampir dua tahun aktivitas pembelian pelanggan, termasuk tren kategori produk yang terpopuler dan kurang populer.\n",
        "\n"
      ]
    },
    {
      "cell_type": "code",
      "execution_count": 140,
      "metadata": {},
      "outputs": [],
      "source": [
        "product_sales = final_all_df.groupby('product_category_name')['order_item_id'].count().sort_values(ascending=False)"
      ]
    },
    {
      "cell_type": "markdown",
      "metadata": {},
      "source": [
        "#### **Kesimpulan Dan Rekomendasi 10 Kategori Produk Terpopuler (terlaku):**"
      ]
    },
    {
      "cell_type": "code",
      "execution_count": 141,
      "metadata": {},
      "outputs": [
        {
          "name": "stdout",
          "output_type": "stream",
          "text": [
            "10 Kategori Produk Terlaris:\n",
            "product_category_name\n",
            "cama_mesa_banho           9608\n",
            "beleza_saude              7935\n",
            "esporte_lazer             7304\n",
            "moveis_decoracao          6357\n",
            "informatica_acessorios    6270\n",
            "utilidades_domesticas     5614\n",
            "relogios_presentes        4890\n",
            "telefonia                 4100\n",
            "brinquedos                3689\n",
            "automotivo                3492\n",
            "Name: order_item_id, dtype: int64\n"
          ]
        }
      ],
      "source": [
        "top_10_products = product_sales.head(10)\n",
        "print(\"10 Kategori Produk Terlaris:\")\n",
        "print(top_10_products)"
      ]
    },
    {
      "cell_type": "markdown",
      "metadata": {},
      "source": [
        "Dari data yang dianalisis, kategori cama_mesa_banho (peralatan rumah tangga: tempat tidur, meja, dan kamar mandi) menjadi yang paling populer dengan total 9,608 penjualan. Diikuti oleh kategori beleza_saude (kecantikan dan kesehatan) dengan 7,935 unit, serta esporte_lazer (olahraga dan rekreasi) dengan 7,304 unit. Kategori-kategori ini menunjukkan bahwa kebutuhan rumah tangga, kecantikan, dan gaya hidup aktif menjadi prioritas utama pelanggan dalam berbelanja.\n",
        "\n"
      ]
    },
    {
      "cell_type": "markdown",
      "metadata": {},
      "source": [
        "**Rekomendasi untuk produk terpopuler**\n",
        "\n",
        "Kategori populer seperti cama_mesa_banho dan beleza_saude sebaiknya mendapatkan perhatian untuk terus mempertahankan ketersediaan stok serta meningkatkan variasi produk. **Penambahan promosi eksklusif, seperti diskon/potongan minimal tertentu**, dapat semakin mendorong penjualan."
      ]
    },
    {
      "cell_type": "markdown",
      "metadata": {},
      "source": [
        "#### **Kesimpulan Dan Rekomendasi 10 Kategori Produk Tidak Terpopuler (tidak laku):**"
      ]
    },
    {
      "cell_type": "code",
      "execution_count": 142,
      "metadata": {},
      "outputs": [
        {
          "name": "stdout",
          "output_type": "stream",
          "text": [
            "\n",
            "10 Kategori Produk Kurang Laku:\n",
            "product_category_name\n",
            "fraldas_higiene                                  25\n",
            "casa_conforto_2                                  24\n",
            "artes_e_artesanato                               24\n",
            "la_cuisine                                       12\n",
            "cds_dvds_musicais                                12\n",
            "portateis_cozinha_e_preparadores_de_alimentos     9\n",
            "fashion_roupa_infanto_juvenil                     8\n",
            "pc_gamer                                          6\n",
            "pcs                                               3\n",
            "seguros_e_servicos                                2\n",
            "Name: order_item_id, dtype: int64\n"
          ]
        }
      ],
      "source": [
        "bottom_10_products = product_sales.tail(10)\n",
        "print(\"\\n10 Kategori Produk Kurang Laku:\")\n",
        "print(bottom_10_products)"
      ]
    },
    {
      "cell_type": "markdown",
      "metadata": {},
      "source": [
        "Sebaliknya, kategori yang paling sedikit diminati adalah seguros_e_servicos (asuransi dan layanan) dengan hanya 2 penjualan, pcs (komputer) dengan 3 penjualan, dan pc_gamer (perangkat gaming PC) dengan 6 penjualan. Penjualan rendah pada kategori ini mengindikasikan adanya masalah, baik dari sisi kebutuhan pasar yang kurang, promosi yang tidak efektif, atau kompetisi yang lebih kuat dari penyedia lain."
      ]
    },
    {
      "cell_type": "markdown",
      "metadata": {},
      "source": [
        "**Rekomendasi untuk produk tidak populer**\n",
        "\n",
        "Untuk kategori yang kurang diminati seperti seguros_e_servicos dan pcs, langkah evaluasi menjadi penting. Misalnya, tinjauan ulang terhadap relevansi produk, harga, atau strategi pemasaran yang digunakan. Kolaborasi dengan promotor atau promosi lebih masif juga bisa menjadi alternatif untuk meningkatkan ketertarikan pelanggan terhadap kategori ini. Jika setelah upaya tersebut tidak ada perbaikan yang signifikan."
      ]
    },
    {
      "cell_type": "markdown",
      "metadata": {},
      "source": [
        "### **Kategori Produk dengan Pendapatan Tertinggi**\n",
        "- Kategori dengan kontribusi pendapatan terbesar menjadi fokus utama untuk strategi pemasaran dan pengelolaan stok berdasarkan data dari 4 September 2016 hingga 29 Agustus 2018.\n",
        "\n"
      ]
    },
    {
      "cell_type": "code",
      "execution_count": 143,
      "metadata": {},
      "outputs": [],
      "source": [
        "product_revenue = final_all_df.groupby('product_category_name')['price'].sum().sort_values(ascending=False)\n",
        "top_10_revenue = product_revenue.apply(lambda x: f\"${x:,.2f}\")"
      ]
    },
    {
      "cell_type": "code",
      "execution_count": 144,
      "metadata": {},
      "outputs": [
        {
          "name": "stdout",
          "output_type": "stream",
          "text": [
            "10 Kategori Produk dengan Pendapatan Tertinggi:\n",
            "product_category_name\n",
            "cama_mesa_banho           $836,520.52\n",
            "beleza_saude              $692,316.82\n",
            "esporte_lazer             $674,720.29\n",
            "relogios_presentes        $608,454.03\n",
            "informatica_acessorios    $558,549.96\n",
            "moveis_decoracao          $530,926.65\n",
            "utilidades_domesticas     $425,817.52\n",
            "cool_stuff                $399,801.58\n",
            "brinquedos                $344,006.13\n",
            "automotivo                $314,196.85\n",
            "Name: price, dtype: object\n"
          ]
        }
      ],
      "source": [
        "top_10_revenue_formatted = top_10_revenue.head(10)\n",
        "print(\"10 Kategori Produk dengan Pendapatan Tertinggi:\")\n",
        "print(top_10_revenue_formatted)"
      ]
    },
    {
      "cell_type": "markdown",
      "metadata": {},
      "source": [
        "Kategori cama_mesa_banho (peralatan rumah tangga) memberikan pendapatan tertinggi sebesar $836,520.52, diikuti oleh beleza_saude (kecantikan dan kesehatan) dengan $692,316.82, dan esporte_lazer (olahraga dan rekreasi) sebesar $674,720.29. Kategori ini menunjukkan dominasi kebutuhan rumah tangga, kesehatan, dan gaya hidup aktif. Ketiga kategori ini  menunjukkan dominasi pasar yang kuat karena kebutuhan rutin dan utilitasnya yang tinggi dan juga mencerminkan minat pelanggan pada gaya hidup sehat serta kebutuhan untuk aktivitas santai.\n",
        "\n",
        "Kategori lain seperti relogios_presentes (jam tangan dan hadiah) serta informatica_acessorios (aksesori elektronik) juga signifikan, masing-masing menyumbang lebih dari 500,000. Hal ini menunjukkan bahwa barang elektronik dan hadiah masih menjadi bagian penting dari pembelian konsumen, baik untuk kebutuhan pribadi maupun sebagai pemberian."
      ]
    },
    {
      "cell_type": "markdown",
      "metadata": {},
      "source": [
        "**Rekomendasi untuk produk dengan pendapatan yang paling tinggi banget**\n",
        "\n",
        "Untuk kategori dengan pendapatan tertinggi seperti cama_mesa_banho, beleza_saude, dan esporte_lazer, perusahaan perlu memastikan ketersediaan stok, memperluas varian produk, serta menerapkan promosi strategis. Kategori seperti cool_stuff, brinquedos, dan automotivo dapat dimaksimalkan dengan pemasaran kreatif dan penawaran khusus, seperti kolaborasi dengan influencer atau bundling produk. Fokus utama adalah memperkuat kategori dominan dan meningkatkan potensi kategori yang kurang optimal."
      ]
    },
    {
      "cell_type": "markdown",
      "metadata": {},
      "source": [
        "### **Metode Pembayaran yang Paling Populer**\n",
        "- Analisis Preferensi pelanggan terhadap metode pembayaran tertentu, berdasarkan data dari 4 September 2016 hingga 29 Agustus 2018, agar dapat memandu perusahaan dalam meningkatkan kenyamanan dan kepuasan bertransaksi.\n",
        "\n"
      ]
    },
    {
      "cell_type": "code",
      "execution_count": 145,
      "metadata": {},
      "outputs": [],
      "source": [
        "payment_distribution = final_all_df['payment_type'].value_counts()"
      ]
    },
    {
      "cell_type": "code",
      "execution_count": 146,
      "metadata": {},
      "outputs": [
        {
          "name": "stdout",
          "output_type": "stream",
          "text": [
            "Distribusi Metode Pembayaran:\n",
            "payment_type\n",
            "credit_card    70292\n",
            "boleto         18474\n",
            "voucher         1507\n",
            "debit_card      1397\n",
            "Name: count, dtype: int64\n"
          ]
        }
      ],
      "source": [
        "print(\"Distribusi Metode Pembayaran:\")\n",
        "print(payment_distribution)"
      ]
    },
    {
      "cell_type": "markdown",
      "metadata": {},
      "source": [
        "Berdasarkan data, metode pembayaran yang paling banyak digunakan adalah credit_card, yang mencatatkan 70,292 transaksi, setara dengan sekitar 73.3% dari total transaksi. Boleto mengikuti dengan 18,474 transaksi atau sekitar 19.3%, sementara debit_card dan voucher masing-masing mencatatkan 1,397 transaksi (1.5%) dan 1,507 transaksi (1.6%). M"
      ]
    },
    {
      "cell_type": "code",
      "execution_count": 147,
      "metadata": {},
      "outputs": [],
      "source": [
        "payment_revenue = final_all_df.groupby('payment_type')['price'].sum()\n",
        "payment_revenue_formatted = payment_revenue.apply(lambda x: f\"${x:,.2f}\")"
      ]
    },
    {
      "cell_type": "code",
      "execution_count": 148,
      "metadata": {},
      "outputs": [
        {
          "name": "stdout",
          "output_type": "stream",
          "text": [
            "Total Pendapatan Berdasarkan Metode Pembayaran:\n",
            "payment_type\n",
            "boleto         $1,474,619.44\n",
            "credit_card    $6,390,468.77\n",
            "debit_card       $110,885.83\n",
            "voucher          $102,660.49\n",
            "Name: price, dtype: object\n"
          ]
        }
      ],
      "source": [
        "print(\"Total Pendapatan Berdasarkan Metode Pembayaran:\")\n",
        "print(payment_revenue_formatted)"
      ]
    },
    {
      "cell_type": "markdown",
      "metadata": {},
      "source": [
        "Dari sisi pendapatan, credit_card menghasilkan pendapatan tertinggi sebesar $6,390,468.77, yang berkontribusi sekitar 79.2% dari total pendapatan. Boleto menyumbang $1,474,619.44 atau 18.3%, sedangkan debit_card dan voucher masing-masing menghasilkan $110,885.83 (1.4%) dan $102,660.49 (1.3%)."
      ]
    },
    {
      "cell_type": "markdown",
      "metadata": {},
      "source": [
        "**Rekomendasi yang bisa diterapkan untuk ke 4 metode pembayaran**\n",
        "\n",
        "Untuk meningkatkan pendapatan dan kepuasan pelanggan, perusahaan dapat **memperkuat promosi untuk credit_card**, mengingat kontribusinya yang besar, dengan **memberikan diskon atau insentif** bagi pelanggan yang menggunakan metode ini. Selain itu, perusahaan harus **meningkatkan kemudahan dan promosi untuk boleto**, meskipun kontribusinya lebih kecil, karena pendapatan yang dihasilkan cukup signifikan. Untuk debit_card dan voucher, **memberikan penawaran khusus atau diskon dapat membantu meningkatkan penggunaannya**, terutama dengan menyediakan lebih banyak opsi pembayaran yang mudah dan cepat."
      ]
    },
    {
      "cell_type": "markdown",
      "metadata": {},
      "source": [
        "### **Perkembangan Penjualan dari Waktu ke Waktu**\n",
        "-  Tren penjualan dari 4 September 2016 hingga 29 Agustus 2018 menunjukkan fluktuasi yang dapat dijadikan acuan dalam perencanaan pengambilan keputusan perusahaan.\n",
        "\n"
      ]
    },
    {
      "cell_type": "code",
      "execution_count": 149,
      "metadata": {},
      "outputs": [
        {
          "name": "stdout",
          "output_type": "stream",
          "text": [
            "Total Penjualan Keseluruhan:\n",
            "$8,078,634.53\n"
          ]
        }
      ],
      "source": [
        "total_sales = final_all_df['price'].sum()\n",
        "print(\"Total Penjualan Keseluruhan:\")\n",
        "print(f\"${total_sales:,.2f}\")"
      ]
    },
    {
      "cell_type": "markdown",
      "metadata": {},
      "source": [
        "Total penjualan keseluruhan selama periode 4 September 2016 hingga 29 Agustus 2018 mencapai $8,078,634.53. "
      ]
    },
    {
      "cell_type": "code",
      "execution_count": 150,
      "metadata": {},
      "outputs": [],
      "source": [
        "final_all_df['order_purchase_timestamp'] = pd.to_datetime(final_all_df['order_purchase_timestamp'])\n",
        "sales_trend_6_months = final_all_df.set_index('order_purchase_timestamp').resample('6ME')['price'].sum()\n",
        "sales_trend_6_months_formatted = sales_trend_6_months.apply(lambda x: f\"${x:,.2f}\")\n"
      ]
    },
    {
      "cell_type": "code",
      "execution_count": 151,
      "metadata": {},
      "outputs": [
        {
          "name": "stdout",
          "output_type": "stream",
          "text": [
            "Total Penjualan Setiap 6 Bulan:\n",
            "order_purchase_timestamp\n",
            "2016-09-30          $132.39\n",
            "2017-03-31      $437,322.30\n",
            "2017-09-30    $1,790,916.02\n",
            "2018-03-31    $3,167,346.57\n",
            "2018-09-30    $2,682,917.25\n",
            "Freq: 6ME, Name: price, dtype: object\n"
          ]
        }
      ],
      "source": [
        "print(\"Total Penjualan Setiap 6 Bulan:\")\n",
        "print(sales_trend_6_months_formatted)"
      ]
    },
    {
      "cell_type": "markdown",
      "metadata": {},
      "source": [
        "Agar strategi pemasaran lebih efisien, data penjualan dibagi menjadi periode 6 bulan untuk analisis lebih mendalam. Dari hasil analisis, terlihat perkembangan yang signifikan:\n",
        "\n",
        "- 2016-09-30: Penjualan masih sangat kecil, hanya $132.39, kemungkinan karena data hanya mencakup sebagian kecil dari bulan tersebut.\n",
        "- 2017-03-31: Penjualan meningkat tajam menjadi $437,322.30, menandakan awal pertumbuhan bisnis yang baik.\n",
        "- 2017-09-30: Penjualan mencapai $1,790,916.02, menunjukkan pertumbuhan yang signifikan dibandingkan periode sebelumnya.\n",
        "- 2018-03-31: Penjualan mencatat puncaknya sebesar $3,167,346.57, mencerminkan performa terbaik selama periode analisis.\n",
        "- 2018-09-30: Penjualan menurun menjadi $2,682,917.25, meski tetap tergolong tinggi."
      ]
    },
    {
      "cell_type": "markdown",
      "metadata": {},
      "source": [
        "**Rekomendasi untuk priode kedepannya**\n",
        "\n",
        "Perusahaan sebaiknya memaksimalkan strategi penjualan pada periode Januari hingga Maret, yang menunjukkan hasil terbaik. Fokus pada promosi, diskon, atau peluncuran produk baru di awal tahun untuk meningkatkan penjualan lebih lanjut. \n",
        "\n",
        "Selain itu, evaluasi penyebab penurunan pada priode kedua tahun 2018, seperti melakukan analisis ulang terkait kebutuhan pelanggan atau efektivitas promosi pemasaran, untuk memastikan stabilitas penjualan sepanjang tahun. Strategi ini juga bisa didukung dengan promosi Besar tahunan yang konsisten, seperti program diskon akhir tahun atau promosi musiman/tanggal titik pada awal bulan yang relevan. "
      ]
    },
    {
      "cell_type": "markdown",
      "metadata": {},
      "source": [
        "### **Segmentasi Pelanggan Berdasarkan Total Transaksi Pembayaran**\n",
        "-  Pengelompokan pelanggan berdasarkan total transaksi pembayaran yang dilakukan (High Spend, Medium Spend, Low Spend) selama priode 4 September 2016 hingga 29 Agustus 2018, sehingga analisi ini memungkinkan strategi pemasaran yang lebih terarah."
      ]
    },
    {
      "cell_type": "code",
      "execution_count": 152,
      "metadata": {},
      "outputs": [],
      "source": [
        "def categorize_spending(payment_value):\n",
        "    if payment_value > 200:\n",
        "        return 'High Spend'\n",
        "    elif payment_value >= 100:\n",
        "        return 'Medium Spend'\n",
        "    else:\n",
        "        return 'Low Spend'"
      ]
    },
    {
      "cell_type": "code",
      "execution_count": 153,
      "metadata": {},
      "outputs": [],
      "source": [
        "customer_total_payment = final_all_df.groupby('customer_id')['payment_value'].sum()\n",
        "customer_payment_grouped = customer_total_payment.apply(categorize_spending)\n",
        "grouped_customers = customer_total_payment.to_frame(name='total_payment')\n",
        "grouped_customers['spending_category'] = customer_payment_grouped"
      ]
    },
    {
      "cell_type": "code",
      "execution_count": 154,
      "metadata": {},
      "outputs": [
        {
          "name": "stdout",
          "output_type": "stream",
          "text": [
            "                   customer_count\n",
            "spending_category                \n",
            "Low Spend                   46230\n",
            "Medium Spend                29643\n",
            "High Spend                  12854\n"
          ]
        }
      ],
      "source": [
        "distribution_table = grouped_customers['spending_category'].value_counts().to_frame(name='customer_count')\n",
        "distribution_table.index.name = 'spending_category'\n",
        "print(distribution_table)\n"
      ]
    },
    {
      "cell_type": "markdown",
      "metadata": {},
      "source": [
        "Dari data pada tabel tersebut bisa diketahui bahwa **Pelanggan High Spend** adalah mereka yang menghabiskan lebih dari $200 dalam bertransaksi, **menunjukkan tingkat loyalitas dan daya beli yang tinggi**. Kelompok ini kemungkinan besar sering membeli dalam jumlah besar atau produk dengan nilai tinggi. jumlah transaksi yang dilakukan tipe ini 12854 transaksi.\n",
        "\n",
        "Sementara itu, **pelanggan Medium Spend** dengan transaksi antara $100 hingga $200 dalam bertransaksi **menunjukkan potensi yang cukup baik**, meskipun frekuensi atau nilai pembeliannya masih di bawah kelompok High Spend, tipe ini menghasilkan jumlah 29643 transaksi.\n",
        "\n",
        "Terakhir, **pelanggan Low Spend**, yang menghabiskan kurang dari $100, umumnya terdiri dari **pelanggan baru atau pembeli dengan kebutuhan sesekali**, dengan jumlah transaksi yang dilakukan untuk tipe ini yaitu 46230 transaksi ."
      ]
    },
    {
      "cell_type": "markdown",
      "metadata": {},
      "source": [
        "**Rekomendasi dan saran lebih lanjut cocok diterapkan untuk setiap tipe pelanggan berdasarkan total transaksi pembayaran yang dilakukan**\n",
        "\n",
        "- Pelanngan yang **High Spend**, yaitu merikan program loyalitas khusus, seperti **diskon eksklusif, prioritas dalam layanan** pelanggan untuk meningkatkan retensi.\n",
        "\n",
        "- Untuk pelanggan **Medium Spend**, saran yang cocok untuk tipe ini untuk meningkatkan pembelian melalui insentif, seperti **diskon pembelian dalam jumlah tertentu** atau penawaran paket produk.\n",
        "\n",
        "- Bagi Pelanggan yang **Low Spend** bisa dibuatkan program untuk menarik pelanggan baru atau tidak aktif dalam kategori ini, seperti **promosi yang menarik atau voucher belanja pertama.**"
      ]
    }
  ],
  "metadata": {
    "colab": {
      "provenance": []
    },
    "kernelspec": {
      "display_name": "Python 3",
      "name": "python3"
    },
    "language_info": {
      "codemirror_mode": {
        "name": "ipython",
        "version": 3
      },
      "file_extension": ".py",
      "mimetype": "text/x-python",
      "name": "python",
      "nbconvert_exporter": "python",
      "pygments_lexer": "ipython3",
      "version": "3.12.4"
    }
  },
  "nbformat": 4,
  "nbformat_minor": 0
}
